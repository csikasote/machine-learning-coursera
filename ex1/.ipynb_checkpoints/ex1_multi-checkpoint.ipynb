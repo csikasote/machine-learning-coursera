{
 "cells": [
  {
   "cell_type": "markdown",
   "metadata": {},
   "source": [
    "# Programming Exercise 1 (Optional): Linear regression with multiple variables"
   ]
  },
  {
   "cell_type": "markdown",
   "metadata": {},
   "source": [
    "Welcome to this second part of programming exercise 1! This exercise will take you through every step of how to implement linear regression with multiple variables from scratch using common scientific packages on provided sample data. \n",
    "\n",
    "**Instruction:**\n",
    "- To run code, click on a corresponding cell and press `Shift+Enter` keys simultaneously or Click `Cell -> Run` Cells.\n",
    "\n",
    "**Objective:**\n",
    "- To implement Linear regression to predict a real-valued output based on an input value\n",
    "\n",
    "**You will learn how to:**\n",
    "- implement Linear regression with multiple variable\n",
    "    - objective/cost function\n",
    "    - gradient descent algorithm\n",
    "    - Hypothesis testing\n",
    "    - visualizing the objective function\n",
    "- implement linear regression using Normal equation"
   ]
  },
  {
   "cell_type": "markdown",
   "metadata": {},
   "source": [
    "## 1 - Packages ##\n",
    "\n",
    "First lets run the cell below to import all the packages that you will need for this exercise.\n",
    "- [NumPy](http://www.numpy.org) is the fundamental package for scientific computing with Python\n",
    "- [Pandas](https://pandas.pydata.org)  is an open source, BSD-licensed library providing high-performance, easy-to-use data structures and data analysis tools for the Python programming language.\n",
    "- [Matplotlib](http://matplotlib.org) is a common library to plot graphs in python.\n",
    "- [os](https://docs.python.org/3/library/os.html#) is a Python module that provides a portable way of using operating system dependent functionality."
   ]
  },
  {
   "cell_type": "code",
   "execution_count": 1,
   "metadata": {},
   "outputs": [],
   "source": [
    "# Python ≥3.5 is required\n",
    "import sys\n",
    "assert sys.version_info >= (3, 5)\n",
    "\n",
    "# Common python libraries\n",
    "import numpy as np\n",
    "import pandas as pd\n",
    "import os\n",
    "\n",
    "# To plot cool figures\n",
    "%matplotlib inline\n",
    "import matplotlib.pyplot as plt\n",
    "\n",
    "%load_ext autoreload\n",
    "%autoreload 2"
   ]
  },
  {
   "cell_type": "markdown",
   "metadata": {},
   "source": [
    "## 2 - Overview of the problem"
   ]
  },
  {
   "cell_type": "markdown",
   "metadata": {},
   "source": [
    "Suppose you are selling your house and you want to know what a good market price would be. One way to do this is to first collect information on recent houses sold and make a model of housing prices.\n",
    "The file `./data/ex1data2.txt` contains a training set of housing prices in Portland, Oregon. The frst column is the size of the house (in square feet), the second column is the number of bedrooms, and the third column is the price of the house.\n",
    "\n",
    "Therefore, In this part of the exercise, we will implement linear regression with multiple variables to predict the prices of houses. "
   ]
  },
  {
   "cell_type": "markdown",
   "metadata": {},
   "source": [
    "## 3 - Loading training data"
   ]
  },
  {
   "cell_type": "code",
   "execution_count": 2,
   "metadata": {},
   "outputs": [],
   "source": [
    "#IMPORTING DATA FILES\n",
    "path = os.getcwd() + '\\data\\ex1data2.txt' #PATH TO THE DATASET\n",
    "df = pd.read_csv(path, header=None, names=['Sq-ft Size', 'Bedrooms', 'Price'])\n",
    "data=df.values\n",
    "X = data[:,:2]\n",
    "Y = data[:,2].reshape(-1,1)"
   ]
  },
  {
   "cell_type": "code",
   "execution_count": 3,
   "metadata": {},
   "outputs": [
    {
     "name": "stdout",
     "output_type": "stream",
     "text": [
      "\n",
      "The First 5 Normalized Features are:\n",
      " [[2104    3]\n",
      " [1600    3]\n",
      " [2400    3]\n",
      " [1416    2]\n",
      " [3000    4]]\n"
     ]
    }
   ],
   "source": [
    "# RESULTS CHECK\n",
    "print('\\nThe First 5 Normalized Features are:\\n', X[:5,:])"
   ]
  },
  {
   "cell_type": "markdown",
   "metadata": {},
   "source": [
    "We are able to tell from the out above that the dataset has two columns; `Sq-ft Size` and `Bedrooms`."
   ]
  },
  {
   "cell_type": "markdown",
   "metadata": {},
   "source": [
    "## Initial parameter settings##"
   ]
  },
  {
   "cell_type": "code",
   "execution_count": 4,
   "metadata": {},
   "outputs": [],
   "source": [
    "# THETA INITIALIZATION & HYPERPARAMETER SETTINGS\n",
    "theta = np.zeros((3, 1)); # Initialize Theta \n",
    "alpha = 0.1; # Choose some alpha value\n",
    "num_iters = 50; # Number of Iterations"
   ]
  },
  {
   "cell_type": "markdown",
   "metadata": {},
   "source": [
    "## 4 - Feature normalization"
   ]
  },
  {
   "cell_type": "markdown",
   "metadata": {},
   "source": [
    "When you look at the values in the dataset, you will note that house sizes are about 1000 times the number of bedrooms. When features differ by orders of magnitude, first performing feature scaling can make gradient descent converge much more quickly.\n",
    "\n",
    "In order to normalize the features `X`:\n",
    "    - compute and subtract the mean value of each feature from the dataset.\n",
    "    - After subtracting the mean, additionally scale (divide) the feature values by their respective \"standard deviations\".(Alternatively, you can take the range of values (max-min)\n",
    "\n",
    "**Note:**\n",
    "The standard deviation is a way of measuring how much variation there is in the range of values of a particular feature (most data points will lie within $\\pm 2$ standard deviations of the mean);"
   ]
  },
  {
   "cell_type": "markdown",
   "metadata": {},
   "source": [
    "By getting features in the same range, we can `speed up the gradient descent algorithm`. This is because $\\theta$ will descend quickly on small ranges and slowly on large ranges, and so will oscillate inefficiently down to the optimum when the variables are very uneven.\n",
    "\n"
   ]
  },
  {
   "cell_type": "markdown",
   "metadata": {},
   "source": [
    "Two techniques to help with this are `feature scaling` and `mean normalization`. \n",
    "\n",
    "`Feature scaling` involves dividing the input values by the range (i.e. the maximum value minus the minimum value) of the input variable, resulting in a new range of just 1. \n",
    "\n",
    "`Mean normalization` involves subtracting the average value for an input variable from the values for that input variable resulting in a new average value for the input variable of just zero. To implement both of these techniques, adjust your input values as shown in this formula:\n",
    "\n",
    "${x_{i}} = \\frac{x_{i}-\\mu_{i}}{\\ s_{i}} \\tag{1}$\n",
    "   "
   ]
  },
  {
   "cell_type": "markdown",
   "metadata": {},
   "source": [
    "Where $\\mu_{i}$ is the average of all the values for feature (i) and ${s_{i}}$ is the range of values (max - min), or ${s_{i}}$ is the standard deviation.\n",
    "\n",
    "**Note** that dividing by the range, or dividing by the standard deviation, give different results."
   ]
  },
  {
   "cell_type": "markdown",
   "metadata": {},
   "source": [
    "So we shall define a function `featureNormalize()` that will take a multivariate matrix **X** and return a normalized X (`Xnorm`), a vector of mean values of each feature in X (`mu`) and and standard deviation values of each feature in X (`sigma`)."
   ]
  },
  {
   "cell_type": "code",
   "execution_count": 5,
   "metadata": {},
   "outputs": [],
   "source": [
    "# FEATURE NORMALIZATION FUNCTION\n",
    "def featureNormalize(x):\n",
    "    # Computing the Mean and STD of x\n",
    "    mu = np.mean(x, axis=0, keepdims=True);\n",
    "    sigma = np.std(x, axis = 0, keepdims=True);\n",
    "    # Normalize X \n",
    "    X_norm = (x - mu)/sigma\n",
    "    return X_norm, mu, sigma"
   ]
  },
  {
   "cell_type": "code",
   "execution_count": 6,
   "metadata": {},
   "outputs": [
    {
     "name": "stdout",
     "output_type": "stream",
     "text": [
      "\n",
      "The First 5 Normalized Features are:\n",
      "[[ 0.13141542 -0.22609337]\n",
      " [-0.5096407  -0.22609337]\n",
      " [ 0.5079087  -0.22609337]\n",
      " [-0.74367706 -1.5543919 ]\n",
      " [ 1.27107075  1.10220517]]\n",
      "\n",
      "The computed MEAN: [[2000.68085106    3.17021277]]\n",
      "The computed STD: [[7.86202619e+02 7.52842809e-01]]\n"
     ]
    }
   ],
   "source": [
    "X_norm, mu, sigma = featureNormalize(X) #Feature Normalization\n",
    "# RESULTS CHECK\n",
    "print('\\nThe First 5 Normalized Features are:\\n' + str(X_norm[0:5,:])+'\\n')\n",
    "print('The computed MEAN:',mu)\n",
    "print('The computed STD:',sigma)"
   ]
  },
  {
   "cell_type": "markdown",
   "metadata": {},
   "source": [
    "## 5 - Implementing Batch gradient descent algorithm for multivariate linear regression"
   ]
  },
  {
   "cell_type": "markdown",
   "metadata": {},
   "source": [
    "Before getting into the details of implementations, let us review the theoretical concepts of multivariate linear regression. \n",
    "\n",
    "Previously, we implemented gradient descent on a univariate regression problem. The only difference now is that there is one more feature in the matrix X. The hypothesis function and the batch gradient descent update rule remain unchanged."
   ]
  },
  {
   "cell_type": "markdown",
   "metadata": {},
   "source": [
    "**5.1 - Hypothesis $h_\\theta(x)$ representation:** \n",
    "The multivariable form of the hypothesis function accommodating these multiple features is as follows:\n",
    "\n",
    "$$ h_\\theta(x) = \\theta^{T}x = \\theta_0 + \\theta_1 x_1 + \\theta_2 x_2 + \\theta_3 x_3 + ..... + \\theta_n x_n\\tag{2}$$\n",
    "\n",
    "In order to develop intuition about this function, we can think about $\\theta_0$ as the basic price of a house, $\\theta_1$ as the price per square meter, $\\theta_2$ as the price per floor, etc. ${x_1}$ will be the number of square meters in the house, ${x_2}$ the number of floors, etc.\n",
    "\n",
    "The function `hypothesisFunction()` implements the hypothesis function in `equation 2` above."
   ]
  },
  {
   "cell_type": "code",
   "execution_count": 7,
   "metadata": {},
   "outputs": [],
   "source": [
    "# PREDICTION FUNCTION\n",
    "def hypothesisFunction(x, theta):\n",
    "    return np.dot(x,theta)"
   ]
  },
  {
   "cell_type": "markdown",
   "metadata": {},
   "source": [
    "**5.2 - Objective function:**\n",
    "Like in the previous exercise, we are going to use the same objective function sometimes refered to as the `Squared error function` or `Mean squared error`. The `objective function` measures the accuracy of the given hypothesis function. Therefore, the aim of linear regression is to minimize the cost function ${J(\\theta)}$:\n",
    "\n",
    "$$ {J(\\theta)} = \\frac{1}{2m} \\sum_{i=1}^m (\\hat{y}^{(i)}-y^{(i)})^2 = \\frac{1}{2m} \\sum_{i=1}^m (h_\\theta(x^{(i)})-y^{(i)})^2\\tag{3}$$\n",
    "\n",
    "**NOTE**: The mean is halved $\\frac{1}{\\ 2m}$ as a convenience for the computation of the gradient descent, as the derivation term of the squared function will cancel out the $\\frac{1} {\\ 2}$ term "
   ]
  },
  {
   "cell_type": "markdown",
   "metadata": {},
   "source": [
    "In the multivariate case, the cost function can be written in vectorised form as:\n",
    "$$ {J(\\theta)} = \\frac{1}{2m} \\sum_{i=1}^m (X\\theta-\\vec y)^T(X\\theta-\\vec y)\\tag{4}$$\n"
   ]
  },
  {
   "cell_type": "markdown",
   "metadata": {},
   "source": [
    "The function `computeCostMulti()` below implements the vectorized form of the objective function in equation 4 above!"
   ]
  },
  {
   "cell_type": "code",
   "execution_count": 8,
   "metadata": {},
   "outputs": [],
   "source": [
    "# MULTIVARIATE COST FUNCTION\n",
    "def computeCostMulti(x, y, theta):\n",
    "    # Initialize some useful values\n",
    "    m = x.shape[0]; # number of training examples\n",
    "    h = hypothesisFunction(x, theta)\n",
    "    J=(1/(2*m)) * (np.dot((h-y).T,(h-y)))\n",
    "    return J"
   ]
  },
  {
   "cell_type": "markdown",
   "metadata": {},
   "source": [
    "**5.3 - Gradient descent algorithm:** The next phase will be to define a `gradientDescentMulti()` function and run gradient descent for a number # iterations at the chosen learning rate $\\alpha$. The function should also return the history of ${J{(\\theta)}}$ values in a vector J."
   ]
  },
  {
   "cell_type": "markdown",
   "metadata": {},
   "source": [
    "The gradient descent equation itself is generally the same form; we just have to repeat it for our 'n' features: $\\theta = \\theta - \\alpha \\nabla {J{(\\theta)}}$"
   ]
  },
  {
   "cell_type": "markdown",
   "metadata": {},
   "source": [
    "The **gradient descent algorithm** will repeat until convergence {\n",
    "$$\\theta_j = \\theta_j - \\alpha \\frac{1}{m} \\sum_{i=1}^m (h_\\theta(x^{(i)})-y^{(i)}).x_j^{(i)} \\tag{5}$$\n",
    "} for **j = 0...n**, where $x_0^{(i)}$ = **1**, **m** is the size of the training set. "
   ]
  },
  {
   "cell_type": "markdown",
   "metadata": {},
   "source": [
    "In this exercise we have two features. Our **gradient descent algorithm** will repeat until convergence {\n",
    "$$\\theta_0 = \\theta_0 - \\alpha \\frac{1}{2m} \\sum_{i=1}^m (h_\\theta(x^{(i)})-y^{(i)}).x_0^{(i)} $$\n",
    "$$\\theta_1 = \\theta_1 - \\alpha \\frac{1}{2m} \\sum_{i=1}^m (h_\\theta(x^{(i)})-y^{(i)}).x_1^{(i)} $$\n",
    "$$\\theta_2 = \\theta_2 - \\alpha \\frac{1}{2m} \\sum_{i=2}^m (h_\\theta(x^{(i)})-y^{(i)}).x_2^{(i)} $$\n",
    "} where $x_0^{(i)}$ = **1**, **m** is the size of the training set."
   ]
  },
  {
   "cell_type": "markdown",
   "metadata": {},
   "source": [
    "In order to implement the gradient descent we need a vectorized form of multivariate linear regression. The matrix notation (vectorized) of the Gradient Descent rule is: \n",
    "$$\\frac{\\partial J{(\\theta)}}{\\partial \\theta_j} = \\frac{1}{m}\\vec x_j^ T(X\\theta-\\vec y)$$\n",
    "$$\\nabla {J{(\\theta)}} = \\frac{1}{m} X^T(X\\theta-\\vec y)$$\n",
    "\n",
    "$$\\theta = \\theta - \\frac{\\alpha}{m} X^T(X\\theta-\\vec y)\\tag{6}$$"
   ]
  },
  {
   "cell_type": "code",
   "execution_count": 9,
   "metadata": {},
   "outputs": [],
   "source": [
    "# GRADIENT DESCENT ALGORITHM\n",
    "def gradientDescentMulti(x, y, theta, alpha, num_iters,print_cost=False):\n",
    "    # Initialize some useful values\n",
    "    m = x.shape[0]; # number of training examples\n",
    "    J_history = np.zeros((num_iters, 1));\n",
    "    for iters in range(num_iters):\n",
    "        h = hypothesisFunction(x, theta);\n",
    "        diff = h - y;\n",
    "        gradient = np.dot(x.T,diff) * (1/m);\n",
    "        theta = theta - (alpha * gradient);\n",
    "        # Save the cost J in every iteration    \n",
    "        cost = computeCostMulti(x, y, theta);\n",
    "        J_history[iters] = cost;\n",
    "        if print_cost and iters % 10 == 0:\n",
    "            print(\"After %i \" % (iters) + \"iterations: \" +\" Cost: %f\" % (cost) +' ,' +' Theta' + str(theta[:,0]))\n",
    "    return theta, J_history"
   ]
  },
  {
   "cell_type": "markdown",
   "metadata": {},
   "source": [
    "Now we are ready to compute $\\theta_0$, $\\theta_1$ and $\\theta_2$ by **running gradient descent** we have just implemented. `Run` the cell below ...!"
   ]
  },
  {
   "cell_type": "code",
   "execution_count": 10,
   "metadata": {},
   "outputs": [
    {
     "name": "stdout",
     "output_type": "stream",
     "text": [
      "\n",
      "Running gradient descent algorithm ...\n",
      "\n",
      "After 0 iterations:  Cost: 53268259941.691589 , Theta[34041.26595745 10576.41334928  5470.88217559]\n",
      "After 10 iterations:  Cost: 8398254002.783360 , Theta[233587.55995682  66122.66213488  20822.05752165]\n",
      "After 20 iterations:  Cost: 2964019938.349604 , Theta[303165.05047626  85439.23797418  14509.32710359]\n",
      "After 30 iterations:  Cost: 2218685269.075388 , Theta[327425.22133665  94802.72446494   7530.97657243]\n",
      "After 40 iterations:  Cost: 2090516766.790118 , Theta[335884.21986881 100231.42876304   2539.74852551]\n",
      "\n",
      "After 50 iterations:\n",
      "\t Minimum point: [338658.24, 103322.82, -474.7424]\n",
      "\t Cost: 2061269629.\n",
      "\n"
     ]
    }
   ],
   "source": [
    "X_new = np.insert(X_norm,0,1,axis=1) # Add intercept term to normalized X\n",
    "print('\\nRunning gradient descent algorithm ...\\n')\n",
    "theta, J_history = gradientDescentMulti(X_new, Y, theta, alpha, num_iters, print_cost=True)\n",
    "print('\\nAfter %d iterations:\\n\\t Minimum point: [%.9s, %.9s, %.9s]\\n\\t Cost: %d.\\n'\\\n",
    "      %(num_iters, str(theta[:,0][0]),str(theta[:,0][1]), str(theta[:,0][2]),J_history[len(J_history)-1][0]));"
   ]
  },
  {
   "cell_type": "markdown",
   "metadata": {},
   "source": [
    "**5.4 - Visualizing ${J{(\\theta)}}$ vs the number of Iterations**\n",
    "\n",
    "We have sucessfully trained and computed the $\\theta_j$ values for our hypothesis. Let us now visualize how the cost ${J{(\\theta)}}$ has been changing w.r.t. the number of iterations."
   ]
  },
  {
   "cell_type": "code",
   "execution_count": 11,
   "metadata": {},
   "outputs": [],
   "source": [
    "# DEFINING THE COST CONVERGENCE PLOT\n",
    "def convergencePlot(j_hist):\n",
    "    xvals = range(j_hist.size)\n",
    "    plt.plot(xvals, j_hist, 'g-s');\n",
    "    plt.grid(True)\n",
    "    learning_rate = r\"$\\alpha = {}$\".format(alpha)\n",
    "    plt.title(\"Convergence of BGD with \" + str(learning_rate) + \" learning rate\") \n",
    "    plt.xlabel('Number of Iterations');\n",
    "    plt.ylabel(r'${J{(\\theta)}}$', rotation = 0);\n",
    "    plt.axis([0,50,0,7e10])"
   ]
  },
  {
   "cell_type": "markdown",
   "metadata": {},
   "source": [
    "In order to select appropriate learning. It is advisable to try different values of the learning rate $\\alpha$ on a log-scale, at multiplicative steps of about 3 times the previous value (i.e., 0.3, 0.1, 0.03, 0.01 and so on). You may also want to adjust the number of iterations you are running if that will help you see the overall trend in the curve."
   ]
  },
  {
   "cell_type": "code",
   "execution_count": 12,
   "metadata": {},
   "outputs": [],
   "source": [
    "def computeMultipleCost(X_new, Y, num_iters, learning_rates):\n",
    "    (m,n) = X_new.shape\n",
    "    init_theta = np.random.randn(n,1);\n",
    "    thetas = (init_theta, init_theta, init_theta, init_theta)\n",
    "    # learning_rates = (0.3, 0.1, 0.03, 0.01)\n",
    "    columns = (range(len(learning_rates)))\n",
    "    J_hist = np.zeros((num_iters,len(learning_rates)))\n",
    "    for col, theta, alpha in zip(columns,thetas,learning_rates):\n",
    "        for iters in range(num_iters):\n",
    "            diff = (hypothesisFunction(X_new, theta)) - Y;\n",
    "            gradient = np.dot(X_new.T,diff) * (1/m)\n",
    "            theta = theta - (alpha * gradient);\n",
    "            cost = computeCostMulti(X_new, Y, theta)\n",
    "            J_hist[iters,col] = cost\n",
    "    \n",
    "    xvals = range(len(J_hist))\n",
    "    lines = ('b-o','g-s','r-', 'm--')\n",
    "    sizes = (1,2,2,4)\n",
    "    columns = (range(len(learning_rates)))\n",
    "    for column, linestype, linewidth, label in zip(columns,lines,sizes,learning_rates):\n",
    "        plt.plot(xvals, J_hist[:,column], linestype,linewidth=linewidth, label= r\"$\\alpha = {}$\".format(label))\n",
    "\n",
    "    plt.grid(True)\n",
    "    plt.title(\"Convergence of BGD with different learning rates\", loc='right') \n",
    "    plt.xlabel('Number of Iterations');\n",
    "    plt.ylabel(r'${J{(\\theta)}}$', rotation = 0);\n",
    "    plt.axis([0,50,0,7e10])\n",
    "    from collections import OrderedDict\n",
    "    handles, labels = plt.gca().get_legend_handles_labels()\n",
    "    by_label = OrderedDict(zip(labels, handles))\n",
    "    legend = plt.legend(by_label.values(), by_label.keys())"
   ]
  },
  {
   "cell_type": "code",
   "execution_count": 13,
   "metadata": {},
   "outputs": [
    {
     "data": {
      "text/plain": [
       "<function matplotlib.pyplot.show(*args, **kw)>"
      ]
     },
     "execution_count": 13,
     "metadata": {},
     "output_type": "execute_result"
    },
    {
     "data": {
      "image/png": "[encoded data removed]",
      "text/plain": [
       "<Figure size 1080x288 with 2 Axes>"
      ]
     },
     "metadata": {
      "needs_background": "light"
     },
     "output_type": "display_data"
    }
   ],
   "source": [
    "plt.figure(figsize=(15,4))\n",
    "plt.subplots_adjust(wspace=0.4, hspace=0.4)\n",
    "\n",
    "plt.subplot(1, 2, 1)\n",
    "learning_rates = (0.3, 0.1, 0.03, 0.01)\n",
    "computeMultipleCost(X_new, Y, num_iters, learning_rates)\n",
    "\n",
    "plt.subplot(1, 2, 2)\n",
    "convergencePlot(J_history)\n",
    "plt.show"
   ]
  },
  {
   "cell_type": "markdown",
   "metadata": {},
   "source": [
    "You can observe from the graph on the `left` that the most appropriate $\\alpha$ value is **0.1**. The same can be seen on the plot from the right side."
   ]
  },
  {
   "cell_type": "code",
   "execution_count": 14,
   "metadata": {},
   "outputs": [
    {
     "name": "stdout",
     "output_type": "stream",
     "text": [
      "\n",
      "Normalized Test X [[1650, 3]]: [[ 1.         -0.44604386 -0.22609337]]\n",
      "\n",
      "Predicted price of a 1650 sq-ft, 3 br house (using gradient descent): $292679.07\n"
     ]
    }
   ],
   "source": [
    "#NORMALIZING TEST X\n",
    "test_x = [[1650, 3]] # 1650 sq-ft & 3 br house\n",
    "norm_x = np.divide((test_x - mu),sigma) # Subtracting the mean and scaling by the standard deviation\n",
    "test_x = np.insert(norm_x,0,1,axis=1) # Adding an extra column of ones to the example\n",
    "print('\\nNormalized Test X [[1650, 3]]: ' + str(test_x) + '\\n') # RESULTS CHECK\n",
    "price = hypothesisFunction(test_x,theta); #Calling the prediction function\n",
    "print('Predicted price of a 1650 sq-ft, 3 br house (using gradient descent): $%.2f' % (price));"
   ]
  },
  {
   "cell_type": "markdown",
   "metadata": {},
   "source": [
    "## Part 2: Normal Equations\n",
    "\n",
    "In order to find the value of $\\theta$ that minimizes the objective function, there exist a `closed-form solution`. This is a mathematical equation that gives the results directly called `The \"Normal Equation\"`. The normal equation computes the optimum theta without iteration and there is no need to do feature scaling when applied."
   ]
  },
  {
   "cell_type": "markdown",
   "metadata": {},
   "source": [
    "$$\\theta = {(X^T X)^{-1}.X^T.y} \\tag{7}$$"
   ]
  },
  {
   "cell_type": "markdown",
   "metadata": {},
   "source": [
    "Now we can implement the `Normal equation` using the `pinv()` from the NumPy Linear Algebra module (`np.linal`) to compute the inverse of a matrix and a `dot()` method for matrix multiplication."
   ]
  },
  {
   "cell_type": "code",
   "execution_count": 15,
   "metadata": {},
   "outputs": [],
   "source": [
    "def normalEqn(x, y):\n",
    "    #NORMALEQN Computes the closed-form solution to linear regression \n",
    "    #NORMALEQN(X,y) computes the closed-form solution to linear regression using the normal equations.\n",
    "    theta = np.zeros((x.shape[1], 1))\n",
    "    theta = np.dot(np.dot(np.linalg.pinv(np.dot(x.T,x)), x.T),y)\n",
    "    return theta"
   ]
  },
  {
   "cell_type": "code",
   "execution_count": 16,
   "metadata": {},
   "outputs": [
    {
     "name": "stdout",
     "output_type": "stream",
     "text": [
      "\n",
      "The first 5 Normalized Features are:\n",
      " [[   1 2104    3]\n",
      " [   1 1600    3]\n",
      " [   1 2400    3]\n",
      " [   1 1416    2]\n",
      " [   1 3000    4]]\n"
     ]
    }
   ],
   "source": [
    "X = np.insert(X,0,1,axis=1) # Add intercept term to X (unnormalized)\n",
    "# RESULTS CHECK\n",
    "print('\\nThe first 5 Normalized Features are:\\n', X[0:5,:])"
   ]
  },
  {
   "cell_type": "code",
   "execution_count": 17,
   "metadata": {},
   "outputs": [
    {
     "name": "stdout",
     "output_type": "stream",
     "text": [
      "\n",
      "Theta computed from Normal Equations: [89597.90954355   139.21067402 -8738.01911255]\n",
      "\n"
     ]
    }
   ],
   "source": [
    "# Computing theta using Normal Equation\n",
    "theta = normalEqn(X, Y)\n",
    "# Display Normal Equaltion's result\n",
    "print('\\nTheta computed from Normal Equations: ' + str(theta[:,0]) + '\\n');"
   ]
  },
  {
   "cell_type": "code",
   "execution_count": 18,
   "metadata": {},
   "outputs": [
    {
     "name": "stdout",
     "output_type": "stream",
     "text": [
      "\n",
      "Predicted price of a 1650 sq-ft, 3 br house (using Normal Equations): $293081.46\n"
     ]
    }
   ],
   "source": [
    "# Estimate the price of a 1650 sq-ft, 3 br house\n",
    "# Recall that the first column of X is all-ones. Thus, it does not need to be normalized.\n",
    "\n",
    "input_x = [[1, 1650, 3]]\n",
    "price = hypothesisFunction(input_x,theta); #Calling the prediction function\n",
    "print('\\nPredicted price of a 1650 sq-ft, 3 br house (using Normal Equations): $%.2f' % (price));"
   ]
  },
  {
   "cell_type": "markdown",
   "metadata": {},
   "source": [
    "## Summary"
   ]
  },
  {
   "cell_type": "markdown",
   "metadata": {},
   "source": [
    "The computed thetas are somewhat different. Though, both techniques are making approximately same value for test example (x)."
   ]
  }
 ],
 "metadata": {
  "kernelspec": {
   "display_name": "Python 3",
   "language": "python",
   "name": "python3"
  },
  "language_info": {
   "codemirror_mode": {
    "name": "ipython",
    "version": 3
   },
   "file_extension": ".py",
   "mimetype": "text/x-python",
   "name": "python",
   "nbconvert_exporter": "python",
   "pygments_lexer": "ipython3",
   "version": "3.7.3"
  }
 },
 "nbformat": 4,
 "nbformat_minor": 2
}
