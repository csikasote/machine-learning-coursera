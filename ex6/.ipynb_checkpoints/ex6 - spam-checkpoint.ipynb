{
 "cells": [
  {
   "cell_type": "code",
   "execution_count": 1,
   "metadata": {},
   "outputs": [],
   "source": [
    "# To support both python 2 and python 3\n",
    "from __future__ import division, print_function, unicode_literals\n",
    "\n",
    "# Python ≥3.5 is required\n",
    "import sys\n",
    "assert sys.version_info >= (3, 5)\n",
    "\n",
    "# Common imports\n",
    "import numpy as np\n",
    "import nltk, re, string\n",
    "import scipy.io as sio\n",
    "from sklearn.svm import LinearSVC\n",
    "from nltk.tokenize import word_tokenize\n",
    "from nltk.stem import PorterStemmer\n",
    "\n",
    "# to make this notebook's output stable across runs\n",
    "np.random.seed(42)\n",
    "\n",
    "# To plot pretty figures\n",
    "%matplotlib inline\n",
    "import matplotlib\n",
    "import matplotlib.pyplot as plt\n",
    "plt.rcParams['axes.labelsize']  = 14\n",
    "plt.rcParams['xtick.labelsize'] = 12\n",
    "plt.rcParams['ytick.labelsize'] = 12\n",
    "\n",
    "#np.random.seed(1)\n",
    "%load_ext autoreload\n",
    "%autoreload 2"
   ]
  },
  {
   "cell_type": "code",
   "execution_count": 2,
   "metadata": {},
   "outputs": [],
   "source": [
    "def getVocabList(df_path, reverse=False):\n",
    "    with open(df_path) as f:\n",
    "        vocab_dict = {}\n",
    "        for line in f:                    \n",
    "            (val, key) = line.split()     \n",
    "            if not reverse:\n",
    "                vocab_dict[key] = int(val)\n",
    "            else:\n",
    "                vocab_dict[int(val)] = key\n",
    "    return vocab_dict # Returns the dictionary of vocabulary"
   ]
  },
  {
   "cell_type": "code",
   "execution_count": 3,
   "metadata": {},
   "outputs": [],
   "source": [
    "def processEmail(email):\n",
    "    '''\n",
    "    PROCESSEMAIL preprocesses a the body of an email and returns a list of word_indices \n",
    "       word_indices = PROCESSEMAIL(email_contents) preprocesses \n",
    "       the body of an email and returns a list of indices of the \n",
    "       words contained in the email.\n",
    "    '''\n",
    "    # ========================== Preprocess Email ===========================\n",
    "    '''\n",
    "    #Find the Headers ( \\n\\n and remove )\n",
    "    #Uncomment the following lines if you are working with raw emails with the full headers\n",
    "    hdrstart = strfind(email_contents, ([char(10) char(10)]));\n",
    "    email_contents = email_contents(hdrstart(1):end);\n",
    "    '''\n",
    "    email = email.lower()\n",
    "    email = re.sub('<[^<>]+>', ' ', email);\n",
    "    email = re.sub('[0-9]+', 'number', email)\n",
    "    email = re.sub('(http|https)://[^\\s]*', 'httpaddr', email)\n",
    "    email = re.sub('[^\\s]+@[^\\s]+', 'emailaddr', email); \n",
    "    email = re.sub('[$]+', 'dollar', email);\n",
    "    tokens = re.split('[ \\@\\$\\/\\#\\.\\-\\:\\&\\*\\+\\=\\[\\]\\?\\!\\(\\)\\{\\}\\,\\'\\\"\\>\\_\\<\\;\\%]', email)\n",
    "    table  = str.maketrans('', '', string.punctuation)\n",
    "    tokens = [w.translate(table) for w in tokens] # remove punctuation from each word\n",
    "    tokenList = []\n",
    "    stemmer   = PorterStemmer()\n",
    "    for token in tokens:\n",
    "        token = re.sub('[^a-zA-Z0-9]', '', token)#Remove any non alphanumeric characters\n",
    "        stemmed = stemmer.stem(token) #Use the Porter stemmer to stem the word\n",
    "        if not len(token): continue #Throw out empty tokens\n",
    "        tokenList.append(stemmed) #Store a list of all unique stemmed words\n",
    "    return tokenList"
   ]
  },
  {
   "cell_type": "code",
   "execution_count": 4,
   "metadata": {},
   "outputs": [],
   "source": [
    "def wordToIndices(tokenList, vocab_dict):\n",
    "    word_indices = []\n",
    "    for token in tokenList:\n",
    "        if token in vocab_dict:\n",
    "            value = vocab_dict[token]\n",
    "            word_indices.append(value)\n",
    "    return word_indices"
   ]
  },
  {
   "cell_type": "code",
   "execution_count": 5,
   "metadata": {},
   "outputs": [],
   "source": [
    "def emailFeatures(indexList, vocabList):\n",
    "    n = len(vocabList)\n",
    "    x = np.zeros((n,1))\n",
    "    for idx in indexList:\n",
    "        x[idx] = 1\n",
    "    return x"
   ]
  },
  {
   "cell_type": "code",
   "execution_count": 6,
   "metadata": {},
   "outputs": [],
   "source": [
    "def preprocessing_model(email,df_path_vocab):\n",
    "    tokenList = processEmail(email)\n",
    "    vocab_dict = getVocabList(df_path_vocab,reverse=False)\n",
    "    indexList = wordToIndices(tokenList, vocab_dict)\n",
    "    x = emailFeatures(indexList,vocab_dict)\n",
    "    \n",
    "    print(\"Length of feature vector is %d\" % len(x))\n",
    "    print(\"Number of non-zero entries is: %d\" % sum(x==1))\n",
    "    return x"
   ]
  },
  {
   "cell_type": "code",
   "execution_count": 7,
   "metadata": {},
   "outputs": [],
   "source": [
    "# Training set\n",
    "df_train = 'data/spamTrain.mat'\n",
    "tr_data = sio.loadmat(df_train)\n",
    "X = tr_data['X']\n",
    "y = tr_data['y'].ravel()\n",
    "\n",
    "# Test set\n",
    "df_test = 'data/spamTest.mat'\n",
    "tes_data = sio.loadmat(df_test)\n",
    "Xtest = tes_data['Xtest']\n",
    "ytest = tes_data['ytest'].ravel()"
   ]
  },
  {
   "cell_type": "code",
   "execution_count": 8,
   "metadata": {},
   "outputs": [
    {
     "name": "stdout",
     "output_type": "stream",
     "text": [
      "Total number of training emails =  4000\n",
      "Number of training spam emails =  1277\n",
      "Number of training nonspam emails =  2723\n"
     ]
    }
   ],
   "source": [
    "#Find Indices of Positive and Negative Examples\n",
    "pos = np.array([X[i] for i in range(X.shape[0]) if y[i] == 1])\n",
    "neg = np.array([X[i] for i in range(X.shape[0]) if y[i] == 0])\n",
    "print('Total number of training emails = ',X.shape[0])\n",
    "print('Number of training spam emails = ',pos.shape[0])\n",
    "print('Number of training nonspam emails = ',neg.shape[0])"
   ]
  },
  {
   "cell_type": "code",
   "execution_count": 9,
   "metadata": {},
   "outputs": [],
   "source": [
    "C = 0.1  # SVM regularization parameter\n",
    "svm_clf = LinearSVC(C=C, loss=\"hinge\", random_state=42)\n",
    "model = svm_clf.fit(X, y)"
   ]
  },
  {
   "cell_type": "code",
   "execution_count": 10,
   "metadata": {},
   "outputs": [
    {
     "name": "stdout",
     "output_type": "stream",
     "text": [
      "\n",
      "Training Accuracy(UNPARTITIONED DATA) = 99.85%\n"
     ]
    }
   ],
   "source": [
    "train_predictions = model.predict(X).reshape(y.shape[0],1)\n",
    "correct = [1 if ((a == 1 and b == 1) or (a == 0 and b == 0)) else 0 for (a, b) in zip(train_predictions, y)]  \n",
    "accuracy = 100. * (sum(map(int, correct)) / len(correct))  \n",
    "print(\"\\nTraining Accuracy(UNPARTITIONED DATA) = %.2f\"%(accuracy)+\"%\")"
   ]
  },
  {
   "cell_type": "code",
   "execution_count": 11,
   "metadata": {},
   "outputs": [
    {
     "name": "stdout",
     "output_type": "stream",
     "text": [
      "\n",
      "Training Accuracy(UNPARTITIONED DATA) = 98.90%\n"
     ]
    }
   ],
   "source": [
    "train_predictions = model.predict(Xtest).reshape(ytest.shape[0],1)\n",
    "correct = [1 if ((a == 1 and b == 1) or (a == 0 and b == 0)) else 0 for (a, b) in zip(train_predictions, ytest)]  \n",
    "accuracy = 100. * (sum(map(int, correct)) / len(correct))  \n",
    "print(\"\\nTraining Accuracy(UNPARTITIONED DATA) = %.2f\"%(accuracy)+\"%\")"
   ]
  },
  {
   "cell_type": "code",
   "execution_count": 12,
   "metadata": {},
   "outputs": [],
   "source": [
    "def email_classifier(model,processed_email_fv):\n",
    "    email_fv   = processed_email_fv.reshape(1,-1) # for a single training example\n",
    "    prediction = model.predict(email_fv)\n",
    "    if prediction[0] == 0:\n",
    "        print(\"SVM has classified email as NOT A SPAM\")\n",
    "    else:\n",
    "        print(\"SVM has classified email as SPAM\")"
   ]
  },
  {
   "cell_type": "code",
   "execution_count": 13,
   "metadata": {},
   "outputs": [],
   "source": [
    "# Loading sample email & vocabulary list for preprocessing\n",
    "df_path_file = 'data/emailSample2.txt'\n",
    "df_path_vocab = 'data/vocab.txt'\n",
    "file = open(df_path_file, 'rt')\n",
    "email = file.read()\n",
    "file.close()"
   ]
  },
  {
   "cell_type": "code",
   "execution_count": 14,
   "metadata": {},
   "outputs": [
    {
     "name": "stdout",
     "output_type": "stream",
     "text": [
      "The 15 most important words to classify a spam e-mail are:\n",
      "['otherwis', 'clearli', 'remot', 'gt', 'visa', 'base', 'doesn', 'wife', 'previous', 'player', 'll', 'natur', 'mortgag', 'futur', 'hot']\n",
      "\n",
      "The 15 least important words to classify a spam e-mail are:\n",
      "['http', 'toll', 'xp', 'ratio', 'august', 'unsubscrib', 'useless', 'numberth', 'round', 'linux', 'datapow', 'wrong', 'urgent', 'that', 'spam']\n",
      "\n"
     ]
    }
   ],
   "source": [
    "vocab_dict_flipped = getVocabList(df_path_vocab,reverse=True)\n",
    "\n",
    "#Sort indicies from most important to least-important (high to low weight)\n",
    "sorted_indices = np.argsort( model.coef_, axis=None )[::-1]\n",
    "print(\"The 15 most important words to classify a spam e-mail are:\")\n",
    "print([ vocab_dict_flipped[x] for x in sorted_indices[:15] ])\n",
    "print()\n",
    "print(\"The 15 least important words to classify a spam e-mail are:\")\n",
    "print([ vocab_dict_flipped[x] for x in sorted_indices[-15:] ])\n",
    "print()"
   ]
  },
  {
   "cell_type": "code",
   "execution_count": 15,
   "metadata": {},
   "outputs": [
    {
     "name": "stdout",
     "output_type": "stream",
     "text": [
      "Length of feature vector is 1899\n",
      "Number of non-zero entries is: 120\n",
      "SVM has classified email as NOT A SPAM\n"
     ]
    }
   ],
   "source": [
    "# Calling the preprocessing model\n",
    "processed_email = preprocessing_model(email,df_path_vocab)\n",
    "email_classifier(model,processed_email)"
   ]
  }
 ],
 "metadata": {
  "kernelspec": {
   "display_name": "Python 3",
   "language": "python",
   "name": "python3"
  },
  "language_info": {
   "codemirror_mode": {
    "name": "ipython",
    "version": 3
   },
   "file_extension": ".py",
   "mimetype": "text/x-python",
   "name": "python",
   "nbconvert_exporter": "python",
   "pygments_lexer": "ipython3",
   "version": "3.7.3"
  }
 },
 "nbformat": 4,
 "nbformat_minor": 2
}
