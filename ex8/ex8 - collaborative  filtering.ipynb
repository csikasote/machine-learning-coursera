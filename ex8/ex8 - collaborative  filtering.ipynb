{
 "cells": [
  {
   "cell_type": "markdown",
   "metadata": {},
   "source": [
    "# Programming Exercise 8: Recommender systems"
   ]
  },
  {
   "cell_type": "markdown",
   "metadata": {},
   "source": [
    "Welcome to part 2 of programming exercise 8, Recommendor systems. In this part of the exercise, we will implement the collaborative filtering learning algorithm and apply it to a dataset of movie ratings. This dataset consists of ratings on a scale of 1 to 5. The dataset has ${n_u = 943}$ users, and ${n_m = 1682}$ movies. The objective of collaborative filtering is to predict movie ratings for the movies that users have not yet rated, that is, the entries with ${R_{(i,j)} = 0}$. This will allow us to recommend the movies with the highest predicted ratings to the user."
   ]
  },
  {
   "cell_type": "markdown",
   "metadata": {},
   "source": [
    "**Instruction:**\n",
    "- To run code in a cell: Do - `Shift+Enter` or Click - `Cell -> Run Cell`.\n",
    "\n",
    "**Objective:**\n",
    "- To learn how to implement the collaborative filtering learning algorithm and apply it to a dataset of movie ratings.\n",
    "\n",
    "**You will learn how to:**\n",
    "- Implement the collaborative filtering learning algorithm."
   ]
  },
  {
   "cell_type": "markdown",
   "metadata": {},
   "source": [
    "## Import packages ##\n",
    "\n",
    "First lets run the cell below to import all the packages that you will need for this exercise.\n",
    "- [numpy](www.numpy.org) is the fundamental package for scientific computing with Python\n",
    "- [Scipy](https://docs.scipy.org/doc/scipy/reference/generated/scipy.io.loadmat.html) is a common library to load `.mat` files in Python.\n",
    "- [matplotlib](http://matplotlib.org) is a common library to plot graphs in python."
   ]
  },
  {
   "cell_type": "code",
   "execution_count": 1,
   "metadata": {},
   "outputs": [],
   "source": [
    "# Python ≥3.5 is required\n",
    "import sys\n",
    "assert sys.version_info >= (3, 5)\n",
    "\n",
    "# Common imports\n",
    "import numpy as np\n",
    "import scipy.io as sio\n",
    "\n",
    "# To make this notebook's output stable across runs\n",
    "np.random.seed(42)\n",
    "\n",
    "# To plot pretty figures\n",
    "%matplotlib inline\n",
    "import matplotlib as mpl\n",
    "import matplotlib.pyplot as plt\n",
    "from matplotlib.colors import LogNorm\n",
    "\n",
    "# To suppress warnings\n",
    "import warnings\n",
    "warnings.filterwarnings('ignore')\n",
    "\n",
    "%load_ext autoreload\n",
    "%autoreload 2"
   ]
  },
  {
   "cell_type": "markdown",
   "metadata": {},
   "source": [
    "##  2.1 - Loading movie ratings dataset ##"
   ]
  },
  {
   "cell_type": "markdown",
   "metadata": {},
   "source": [
    "We shall first load the dataset `./data/ex8_movies.mat`, that is providing the variables $Y$ and $R$. The matrix $Y$ (a num movies x num users matrix) stores the ratings $y^{(i,j)}$ (from 1 to 5). The matrix $R$ is an binary-valued indicator matrix, where $R{(i,j)} = 1$ if user $j$ gave a rating to movie $i$, and $R{(i,j)} = 0$ otherwise. The objective of collaborative filtering is to predict movie ratings for the movies that users have not yet rated, that is, the entries with $R{(i,j)} = 0$. This will allow us to recommend the movies with the highest predicted ratings to the user."
   ]
  },
  {
   "cell_type": "code",
   "execution_count": 2,
   "metadata": {},
   "outputs": [],
   "source": [
    "df_path = 'data/ex8_movies.mat' \n",
    "data    = sio.loadmat(df_path)\n",
    "Y = data['Y']\n",
    "R = data['R']"
   ]
  },
  {
   "cell_type": "markdown",
   "metadata": {},
   "source": [
    "In this part of the exercise, we will be working with the matrices, $X$ and $Theta$:"
   ]
  },
  {
   "cell_type": "markdown",
   "metadata": {},
   "source": [
    "![colfil](images/colfil.png)"
   ]
  },
  {
   "cell_type": "markdown",
   "metadata": {},
   "source": [
    "The ${i-th}$ row of X corresponds to the feature vector $x^{(i)}$ for the ${i-th}$ movie, and the ${j-th}$ row of Theta corresponds to one parameter vector $\\theta^{(j)}$, for the j-th user. Both $x^{(i)}$ and $\\theta^{(j)}$ are n-dimensional vectors. For the purposes of this exercise, you will use $n = 100$, and therefore, $x^{(i)} \\in \\mathcal{R}^{100}$ and $\\theta^{(j)} \\in \\mathcal{R}^{100}$. Correspondingly, $X$ is a ${n_m x 100}$ matrix and Theta is a $n_u x 100$ matrix."
   ]
  },
  {
   "cell_type": "markdown",
   "metadata": {},
   "source": [
    "**Results check**"
   ]
  },
  {
   "cell_type": "code",
   "execution_count": 3,
   "metadata": {},
   "outputs": [
    {
     "name": "stdout",
     "output_type": "stream",
     "text": [
      "\n",
      "i.  Y is a 1682 x 943 matrix which stores the ratings(from 1 to 5) of 1682 movies on 943 users.\n",
      "\n",
      "ii. R is a 1682 x 943 binary-valued indicator matrix, where R(i,j) = 1if user j gave a rating to movie i,\n",
      " and R(i,j) = 0 otherwise\n",
      "\n"
     ]
    }
   ],
   "source": [
    "print('\\ni.  Y is a %d x %d matrix which stores the ratings(from 1 to 5) of %d movies on %d users.\\n'\\\n",
    "      %(Y.shape[0],Y.shape[1],Y.shape[0],Y.shape[1]))\n",
    "print('ii. R is a %d x %d binary-valued indicator matrix, where R(i,j) = 1\\\n",
    "if user j gave a rating to movie i,\\n and R(i,j) = 0 otherwise\\n' %(R.shape[0],R.shape[1]))"
   ]
  },
  {
   "cell_type": "code",
   "execution_count": 4,
   "metadata": {},
   "outputs": [
    {
     "name": "stdout",
     "output_type": "stream",
     "text": [
      "\n",
      "Average rating for movie 1 (Toy Story): 1.858961\n"
     ]
    }
   ],
   "source": [
    "#  From the matrix, we can compute statistics like average rating.\n",
    "print('\\nAverage rating for movie 1 (Toy Story): %f' % (Y[0,:].mean(axis=0)));"
   ]
  },
  {
   "cell_type": "markdown",
   "metadata": {},
   "source": [
    "## 2.2 - Collaborative filtering cost function ##"
   ]
  },
  {
   "cell_type": "markdown",
   "metadata": {},
   "source": [
    "Now, we will start implementing the collaborative filtering learning algorithm. We will start by implementing the cost function (without regularization).\n",
    "\n",
    "The collaborative filtering algorithm in the setting of movie recommendations considers a set of n-dimensional parameter vectors ${x^{(1)}...x^{(n_m)}}$ and $\\theta^{(1)}...\\theta^{(n_u)}$ where the model predicts the rating for movie $i$ by user $j$ as ${y^{(i,j)} = (\\theta^{(j)})^Tx^{(i)}}$. Given a dataset that consists of a set of ratings produced by some users on some movies, you wish to learn the parameter vectors ${x^{(1)}...x^{(n_m)}}$, $\\theta^{(1)}...\\theta^{(n_u)}$ that produce the best fit minimizes the squared error)."
   ]
  },
  {
   "cell_type": "markdown",
   "metadata": {},
   "source": [
    "In this part of the exercise, we shall be a provided `.mat` file having `X` and pretrained parameters `Theta`. So in the next cell we are loading them from `'data/ex8_movieParams.mat'`. "
   ]
  },
  {
   "cell_type": "code",
   "execution_count": 5,
   "metadata": {},
   "outputs": [],
   "source": [
    "# Load pre-trained weights (X, Theta, num_users, num_movies, num_features)\n",
    "param_path = 'data/ex8_movieParams.mat' \n",
    "param_data    = sio.loadmat(param_path)\n",
    "X     = param_data['X']\n",
    "Theta = param_data['Theta']"
   ]
  },
  {
   "cell_type": "markdown",
   "metadata": {},
   "source": [
    "Reduce the data set size so that this runs faster .."
   ]
  },
  {
   "cell_type": "code",
   "execution_count": 6,
   "metadata": {},
   "outputs": [],
   "source": [
    "num_users = 4; num_movies = 5; num_features = 3;\n",
    "X     = X[0:num_movies, 0:num_features];\n",
    "Theta = Theta[0:num_users, 0:num_features];\n",
    "Y     = Y[0:num_movies, 0:num_users];\n",
    "R     = R[0:num_movies, 0:num_users];\n",
    "params = np.hstack((X.flatten(),Theta.flatten()))"
   ]
  },
  {
   "cell_type": "markdown",
   "metadata": {},
   "source": [
    "### 2.2.1 - Collaborative filtering cost function ###"
   ]
  },
  {
   "cell_type": "markdown",
   "metadata": {},
   "source": [
    "The collaborative filtering cost function (without regularization) is given by:\n",
    "![cost_function](images/cost_function.png)"
   ]
  },
  {
   "cell_type": "markdown",
   "metadata": {},
   "source": [
    "The cost function for collaborative filtering with regularization is given by:\n",
    "![reg_costfunction](images/reg_costfunction.png)"
   ]
  },
  {
   "cell_type": "code",
   "execution_count": 7,
   "metadata": {},
   "outputs": [],
   "source": [
    "def cofiCostFunc(params, Y, R, num_users, num_movies, num_features, Lambda):\n",
    "    # Unfold the X and Theta matrices from params\n",
    "    X = np.reshape(params[0:num_movies*num_features], (num_movies, num_features));\n",
    "    Theta = np.reshape(params[num_movies*num_features:], (num_users, num_features));\n",
    "\n",
    "    # Computing the cost\n",
    "    pred = X.dot(Theta.T);\n",
    "    error = pred - Y;\n",
    "    error_factor = np.multiply(error,R);\n",
    "    sqr_error = error_factor**2;\n",
    "    total = np.sum(sqr_error);\n",
    "    reg_term1 = (Lambda/2.) * np.sum(np.square(X))\n",
    "    reg_term2 = (Lambda/2.) * np.sum(np.square(Theta))\n",
    "    unreg_cost = (1/2) * total;                                  # Unregularised cost      \n",
    "    J = unreg_cost + reg_term1 + reg_term2;                      # Regularized cost\n",
    "    return J"
   ]
  },
  {
   "cell_type": "markdown",
   "metadata": {},
   "source": [
    "### 2.2.2 - Collaborative filtering gradient ###"
   ]
  },
  {
   "cell_type": "markdown",
   "metadata": {},
   "source": [
    "Now, you should implement the gradient (without regularization). Note that X grad should be a matrix of the same size as X and similarly, Theta grad is a matrix of the same size as Theta. \n",
    "The gradients of the cost function is given by:\n",
    "![gradient](images/gradient.png)"
   ]
  },
  {
   "cell_type": "markdown",
   "metadata": {},
   "source": [
    "Note that the gradients for the regularized cost function is given by:\n",
    "![reg_gradient](images/reg_gradient.png)"
   ]
  },
  {
   "cell_type": "code",
   "execution_count": 8,
   "metadata": {},
   "outputs": [],
   "source": [
    "def cofiGradFunc(params, Y, R, num_users, num_movies, num_features, Lambda):\n",
    "    # Unfold the X and W matrices from params\n",
    "    X = np.reshape(params[0:num_movies*num_features], (num_movies, num_features));\n",
    "    Theta = np.reshape(params[num_movies*num_features:], (num_users, num_features));\n",
    "\n",
    "    # Computing the gradient\n",
    "    pred = X.dot(Theta.T);\n",
    "    error = pred - Y;\n",
    "    error_factor = np.multiply(error,R);\n",
    "    sqr_error = error_factor**2;\n",
    "    reg_x_grad = X * Lambda\n",
    "    reg_theta_grad = Theta * Lambda\n",
    "    X_grad = error_factor.dot(Theta) + reg_x_grad;              #regularised X gradients\n",
    "    Theta_grad = error_factor.T.dot(X) + reg_theta_grad;        #regularised Theta gradients\n",
    "    grads = np.hstack((X_grad.flatten(), Theta_grad.flatten())) # Regularized gradients\n",
    "    return grads"
   ]
  },
  {
   "cell_type": "markdown",
   "metadata": {},
   "source": [
    "Now we can evaluate the function we have defined for both unregularized and regularized cost function ..."
   ]
  },
  {
   "cell_type": "code",
   "execution_count": 9,
   "metadata": {},
   "outputs": [
    {
     "name": "stdout",
     "output_type": "stream",
     "text": [
      "\n",
      "Cost at loaded parameters(lambda = 0.0): 22.224604          \n",
      "(this value should be about 22.22)\n",
      "\n",
      "Cost at loaded parameters(lambda = 1.5): 31.344056          \n",
      "(this value should be about 31.34)\n",
      "\n"
     ]
    }
   ],
   "source": [
    "#  Evaluate cost function\n",
    "unregularized_j     = cofiCostFunc(params, Y, R, num_users, num_movies,num_features, 0.0);\n",
    "unregularised_grads = cofiGradFunc(params, Y, R, num_users, num_movies,num_features, 0.0);\n",
    "regularized_j       = cofiCostFunc(params, Y, R, num_users, num_movies,num_features, 1.5);\n",
    "regularized_grads   = cofiGradFunc(params, Y, R, num_users, num_movies,num_features, 1.5);\n",
    "print('\\nCost at loaded parameters(lambda = 0.0): %f \\\n",
    "         \\n(this value should be about 22.22)\\n'%(unregularized_j));\n",
    "print('Cost at loaded parameters(lambda = 1.5): %f \\\n",
    "         \\n(this value should be about 31.34)\\n'% (regularized_j));"
   ]
  },
  {
   "cell_type": "markdown",
   "metadata": {},
   "source": [
    "## 2.3 - Entering ratings for a new user "
   ]
  },
  {
   "cell_type": "code",
   "execution_count": 10,
   "metadata": {},
   "outputs": [],
   "source": [
    "def loadMovieList():\n",
    "    movie_list =[]\n",
    "    with open(\"./data/movie_ids.txt\") as f:\n",
    "        for line in f:\n",
    "            movie_list.append(line[line.index(' ') + 1:].rstrip())\n",
    "    return movie_list"
   ]
  },
  {
   "cell_type": "code",
   "execution_count": 11,
   "metadata": {},
   "outputs": [],
   "source": [
    "movie_list = loadMovieList();"
   ]
  },
  {
   "cell_type": "code",
   "execution_count": 12,
   "metadata": {},
   "outputs": [],
   "source": [
    "# Initialize my ratings\n",
    "my_ratings = np.zeros((len(movie_list), 1));"
   ]
  },
  {
   "cell_type": "code",
   "execution_count": 13,
   "metadata": {},
   "outputs": [],
   "source": [
    "# Check the file movie_idx.txt for id of each movie in our dataset\n",
    "# For example, Toy Story (1995) has ID 1, so to rate it \"4\", you can set\n",
    "my_ratings[1] = 4;\n",
    "my_ratings[98] = 2;\n",
    "my_ratings[7] = 3;\n",
    "my_ratings[12]= 5;\n",
    "my_ratings[54] = 4;\n",
    "my_ratings[64]= 5;\n",
    "my_ratings[66]= 3;\n",
    "my_ratings[69] = 5;\n",
    "my_ratings[183] = 4;\n",
    "my_ratings[226] = 5;\n",
    "my_ratings[355]= 5;"
   ]
  },
  {
   "cell_type": "code",
   "execution_count": 14,
   "metadata": {},
   "outputs": [
    {
     "name": "stdout",
     "output_type": "stream",
     "text": [
      "\n",
      "NEW USER RATINGS:\n",
      "\n",
      "\tRated 4 for GoldenEye (1995)\n",
      "\n",
      "\tRated 3 for Babe (1995)\n",
      "\n",
      "\tRated 5 for Mighty Aphrodite (1995)\n",
      "\n",
      "\tRated 4 for Professional, The (1994)\n",
      "\n",
      "\tRated 5 for What's Eating Gilbert Grape (1993)\n",
      "\n",
      "\tRated 3 for Ace Ventura: Pet Detective (1994)\n",
      "\n",
      "\tRated 5 for Four Weddings and a Funeral (1994)\n",
      "\n",
      "\tRated 2 for Snow White and the Seven Dwarfs (1937)\n",
      "\n",
      "\tRated 4 for Army of Darkness (1993)\n",
      "\n",
      "\tRated 5 for Star Trek VI: The Undiscovered Country (1991)\n",
      "\n",
      "\tRated 5 for Client, The (1994)\n",
      "\n"
     ]
    }
   ],
   "source": [
    "print('\\nNEW USER RATINGS:\\n');\n",
    "for i in range(len(my_ratings)):\n",
    "    if my_ratings[i] > 0: \n",
    "        print('\\tRated %d for %s\\n' % (my_ratings[i],movie_list[i]));"
   ]
  },
  {
   "cell_type": "markdown",
   "metadata": {},
   "source": [
    "## Part 7: Learning Movie Ratings "
   ]
  },
  {
   "cell_type": "markdown",
   "metadata": {},
   "source": [
    " Now, you will train the collaborative filtering model on a movie rating dataset of 1682 movies and 943 users"
   ]
  },
  {
   "cell_type": "code",
   "execution_count": 15,
   "metadata": {},
   "outputs": [],
   "source": [
    "#  Import and load movie data\n",
    "#  Y is a 1682x943 matrix, containing ratings (1-5) of 1682 movies by 943 users\n",
    "#  R is a 1682x943 matrix, where R(i,j) = 1 if and only if user j gave a rating to movie i\n",
    "movie_path    = 'data/ex8_movies.mat' \n",
    "movie_data    = sio.loadmat(movie_path)\n",
    "Y = movie_data['Y']\n",
    "R = movie_data['R']"
   ]
  },
  {
   "cell_type": "code",
   "execution_count": 16,
   "metadata": {},
   "outputs": [],
   "source": [
    "#  Add our own ratings to the data matrix\n",
    "# Add our own ratings to the data matrix\n",
    "Y = np.hstack((my_ratings.reshape(len(movie_list), 1), Y))\n",
    "R = np.hstack((my_ratings.reshape(len(movie_list), 1) != 0, R))\n",
    "#Y = np.c_[my_ratings, Y]; \n",
    "#R = np.c_[((my_ratings != 0).astype(int).reshape(-1,1)!= 0),R];"
   ]
  },
  {
   "cell_type": "code",
   "execution_count": 17,
   "metadata": {},
   "outputs": [],
   "source": [
    "# Function to normalize ratings\n",
    "def normalizeRatings(Y, R):\n",
    "    (m, n) = Y.shape;\n",
    "    Ymean = np.zeros((m, 1));\n",
    "    Ynorm = np.zeros(Y.shape);\n",
    "    for i in range(m):\n",
    "        idx = np.nonzero(R[i, :] == 1);\n",
    "        Ymean[i] = Y[i, idx].mean(axis=1);\n",
    "        Ynorm[i, idx] = Y[i, idx] - Ymean[i];\n",
    "    return Ynorm, Ymean"
   ]
  },
  {
   "cell_type": "code",
   "execution_count": 18,
   "metadata": {},
   "outputs": [],
   "source": [
    "Ynorm, Ymean = normalizeRatings(Y, R)"
   ]
  },
  {
   "cell_type": "code",
   "execution_count": 19,
   "metadata": {},
   "outputs": [],
   "source": [
    "#  Useful Values\n",
    "num_users = Y.shape[1];\n",
    "num_movies = Y.shape[0];\n",
    "num_features = 10;"
   ]
  },
  {
   "cell_type": "code",
   "execution_count": 20,
   "metadata": {},
   "outputs": [],
   "source": [
    "# Set Initial Parameters (Theta, X)\n",
    "X     = np.random.randn(num_movies, num_features);\n",
    "Theta = np.random.randn(num_users, num_features);\n",
    "initial_parameters = np.hstack((X.flatten(), Theta.flatten()));\n",
    "import scipy.optimize as opt"
   ]
  },
  {
   "cell_type": "code",
   "execution_count": 21,
   "metadata": {},
   "outputs": [],
   "source": [
    "def train_collaborative_filtering(Ynorm, R, num_users, num_movies, num_features, Lambda):\n",
    "    # Set Initial Parameters (Theta, X)\n",
    "    X     = np.random.randn(num_movies, num_features);\n",
    "    Theta = np.random.randn(num_users, num_features);\n",
    "    initial_parameters = np.hstack((X.flatten(), Theta.flatten()));\n",
    "    \n",
    "    # create cost and grad functions\n",
    "    cost = lambda p: cofiCostFunc(p, Ynorm, R, num_users, num_movies,num_features, Lambda);\n",
    "    grad = lambda p: cofiGradFunc(p, Ynorm, R, num_users, num_movies,num_features, Lambda).flatten();\n",
    "    \n",
    "    # minimize using fmincg\n",
    "    result = opt.fmin_cg(cost, initial_parameters.T, fprime=grad, maxiter=500, disp=True)\n",
    "\n",
    "    return result "
   ]
  },
  {
   "cell_type": "code",
   "execution_count": 22,
   "metadata": {},
   "outputs": [
    {
     "name": "stdout",
     "output_type": "stream",
     "text": [
      "Warning: Maximum number of iterations has been exceeded.\n",
      "         Current function value: 38965.031162\n",
      "         Iterations: 500\n",
      "         Function evaluations: 759\n",
      "         Gradient evaluations: 759\n"
     ]
    }
   ],
   "source": [
    "Lambda = 10\n",
    "result = train_collaborative_filtering(Ynorm, R, num_users, num_movies, num_features, Lambda)"
   ]
  },
  {
   "cell_type": "code",
   "execution_count": 23,
   "metadata": {},
   "outputs": [],
   "source": [
    "X     = result[0:num_movies * num_features].reshape((num_movies, num_features))\n",
    "Theta = result[num_movies * num_features:].reshape((num_users, num_features))"
   ]
  },
  {
   "cell_type": "code",
   "execution_count": 24,
   "metadata": {},
   "outputs": [
    {
     "name": "stdout",
     "output_type": "stream",
     "text": [
      "\n",
      "TOP RECOMMENDATION FOR YOU:\n",
      "Predicting rating 5 for movie Aiqing wansui (1994)\n",
      "Predicting rating 5 for movie Santa with Muscles (1996)\n",
      "Predicting rating 5 for movie Star Kid (1997)\n",
      "Predicting rating 5 for movie Marlene Dietrich: Shadow and Light (1996)\n",
      "Predicting rating 5 for movie Great Day in Harlem, A (1994)\n",
      "Predicting rating 4 for movie Someone Else's America (1995)\n",
      "Predicting rating 4 for movie Saint of Fort Washington, The (1993)\n",
      "Predicting rating 4 for movie Entertaining Angels: The Dorothy Day Story (1996)\n",
      "Predicting rating 4 for movie They Made Me a Criminal (1939)\n",
      "Predicting rating 4 for movie Prefontaine (1997)\n"
     ]
    }
   ],
   "source": [
    "p = X.dot(Theta.T)\n",
    "my_predictions = p[:,0]+ Ymean.ravel()\n",
    "idx = my_predictions.argsort()[::-1]\n",
    "print('\\nTOP RECOMMENDATION FOR YOU:')\n",
    "for i in range(10):\n",
    "    j = idx[i]\n",
    "    print('Predicting rating %.1s for movie %s'% (my_predictions[j], movie_list[j]))"
   ]
  },
  {
   "cell_type": "code",
   "execution_count": 25,
   "metadata": {},
   "outputs": [
    {
     "name": "stdout",
     "output_type": "stream",
     "text": [
      "\n",
      "Original ratings provided:\n",
      "Rated 4 for movie GoldenEye (1995)\n",
      "Rated 3 for movie Babe (1995)\n",
      "Rated 5 for movie Mighty Aphrodite (1995)\n",
      "Rated 4 for movie Professional, The (1994)\n",
      "Rated 5 for movie What's Eating Gilbert Grape (1993)\n",
      "Rated 3 for movie Ace Ventura: Pet Detective (1994)\n",
      "Rated 5 for movie Four Weddings and a Funeral (1994)\n",
      "Rated 2 for movie Snow White and the Seven Dwarfs (1937)\n",
      "Rated 4 for movie Army of Darkness (1993)\n",
      "Rated 5 for movie Star Trek VI: The Undiscovered Country (1991)\n",
      "Rated 5 for movie Client, The (1994)\n"
     ]
    }
   ],
   "source": [
    "print('\\nOriginal ratings provided:')\n",
    "(index, _) = np.nonzero(my_ratings)\n",
    "for i in range(len(index)):\n",
    "    j = index[i]\n",
    "    print('Rated %.1s for movie %s'% (my_ratings[j,0], movie_list[j]))"
   ]
  },
  {
   "cell_type": "code",
   "execution_count": null,
   "metadata": {},
   "outputs": [],
   "source": []
  }
 ],
 "metadata": {
  "kernelspec": {
   "display_name": "Python 3",
   "language": "python",
   "name": "python3"
  },
  "language_info": {
   "codemirror_mode": {
    "name": "ipython",
    "version": 3
   },
   "file_extension": ".py",
   "mimetype": "text/x-python",
   "name": "python",
   "nbconvert_exporter": "python",
   "pygments_lexer": "ipython3",
   "version": "3.7.3"
  }
 },
 "nbformat": 4,
 "nbformat_minor": 2
}
