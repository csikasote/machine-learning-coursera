{
 "cells": [
  {
   "cell_type": "markdown",
   "metadata": {},
   "source": [
    "# Programming Exercise 2 (Part A): Logistic regression w/t Regularization#"
   ]
  },
  {
   "cell_type": "markdown",
   "metadata": {},
   "source": [
    "Welcome to the second programming exercise! In this exercise, you will implement logistic regression and apply it to two\n",
    "different datasets."
   ]
  },
  {
   "cell_type": "markdown",
   "metadata": {},
   "source": [
    "## Introduction ##"
   ]
  },
  {
   "cell_type": "markdown",
   "metadata": {},
   "source": [
    "Briefly, Logistic regression (or Logit regression) model is another class of regression models that is used to `estimate` the probability that a given instance of a dataset belongs to a particular class. You may think of a classic example of spam and non-spam emails. \n",
    "The idea is that if the estimated probality is greater than `50%`, then the model predicts that the instance belongs to a positve class, say 'A', else it predicts that it belongs to negative class, B. This definition makes the Logistic regression model a `binary classifier`.\n",
    "\n",
    "In order to estimate probabilities, the Logistic regression model computes a weighted sum of the input features (plus a bias term). However, unlike the Linear regression model which outputs the result directly, it computes the logistic of this result. \n",
    "\n",
    "This is given by the following equation: ${\\hat P} = {h_\\theta{(x)}} = {\\sigma {(\\theta^T.x)}}$, where the logistic - noted $\\sigma(.)$ is a sigmoid function that outputs a number between 0 and 1."
   ]
  },
  {
   "cell_type": "markdown",
   "metadata": {},
   "source": [
    "**Instruction:**\n",
    "- To run code, click on a corresponding cell and press `Shift+Enter` keys simultaneously or Click `Cell -> Run` Cells.\n",
    "\n",
    "**Objective:**\n",
    "- To implement Logistic regression to classify data points into discrete outcomes.\n",
    "\n",
    "**You will learn how to:**\n",
    "- implement Logistic regression \n",
    "    - objective/cost function\n",
    "    - scipy for optimization"
   ]
  },
  {
   "cell_type": "markdown",
   "metadata": {},
   "source": [
    "## 1 - Packages ##\n",
    "\n",
    "First lets run the cell below to import all the packages that you will need for this exercise.\n",
    "- [NumPy](http://www.numpy.org) is the fundamental package for scientific computing with Python\n",
    "- [Matplotlib](http://matplotlib.org) is a common library to plot graphs in python.\n",
    "- [os](https://docs.python.org/3/library/os.html#) is a Python module that provides a portable way of using operating system dependent functionality\n",
    "- [Scipy](https://docs.scipy.org/doc/scipy-0.17.0/reference/optimize.html) a python library here used for optimization functions."
   ]
  },
  {
   "cell_type": "code",
   "execution_count": 1,
   "metadata": {},
   "outputs": [],
   "source": [
    "# Python ≥3.5 is required\n",
    "import sys\n",
    "assert sys.version_info >= (3, 5)\n",
    "\n",
    "# Common imports\n",
    "import pandas as pd\n",
    "import numpy as np\n",
    "import os\n",
    "\n",
    "# For optimization\n",
    "from scipy import optimize as opt\n",
    "\n",
    "# To make this notebook's output stable across runs\n",
    "np.random.seed(42)\n",
    "\n",
    "# IMPORTING NECESSARY LIBRARIES\n",
    "%matplotlib inline\n",
    "import matplotlib as mpl\n",
    "import matplotlib.pyplot as plt\n",
    "\n",
    "%load_ext autoreload\n",
    "%autoreload 2"
   ]
  },
  {
   "cell_type": "markdown",
   "metadata": {},
   "source": [
    "## 2 - Overview of the problem ##\n",
    "\n",
    "Suppose that you are the administrator of a university department and you want to determine each applicant's chance of admission based on their results on two exams. You have historical data from previous applicants that you can use as a training set for logistic regression. For each training example, you have the applicant's scores on two exams and the admissions decision.\n",
    "\n",
    "Your task is to build a classification model that estimates an applicant's probability of admission based the scores from those two exams.\n",
    "\n",
    "Therefore, you will build a logistic regression model to predict whether a student gets admitted into a university."
   ]
  },
  {
   "cell_type": "markdown",
   "metadata": {},
   "source": [
    "## 3 - Loading dataset and visualizing the training data##\n",
    "\n",
    "Before we embark on the task at hand, it is useful to understand the data distribution by visualizing it. For this dataset, we will use a scatter plot to visualize the data, since it has only two properties to plot (profit and population). (Many other problems that you will encounter in real life are multi-dimensional and can't be plotted on a 2-d plot.)"
   ]
  },
  {
   "cell_type": "markdown",
   "metadata": {},
   "source": [
    "### 3.1 - Loading dataset analysis ###\n",
    "\n",
    "The code in the cell below loads the data using the pandas's `read_csv()` function. The dataset is loaded from the data file into the variables X and y:"
   ]
  },
  {
   "cell_type": "code",
   "execution_count": 2,
   "metadata": {},
   "outputs": [],
   "source": [
    "path = os.getcwd() + '\\data\\ex2data1.txt'\n",
    "df = pd.read_csv(path, header=None, names=['Exam 1', 'Exam 2', 'Admitted'])\n",
    "data=df.values\n",
    "X = data[:,[0,1]]\n",
    "Y = data[:,[2]].reshape(-1,1)"
   ]
  },
  {
   "cell_type": "markdown",
   "metadata": {},
   "source": [
    "### 3.2 - Plot dataset points ###\n",
    "\n",
    "We now define a function to plot the dataset points."
   ]
  },
  {
   "cell_type": "code",
   "execution_count": 3,
   "metadata": {},
   "outputs": [],
   "source": [
    "# VISUALIZING DATA DISTRIBUTION\n",
    "pos_df = df[df['Admitted'].isin([1])] # df with records having only ones (1) in the label column 'Admitted' - POSITIVE\n",
    "neg_df = df[df['Admitted'].isin([0])] # df with records having zeros (0) in the label column 'Admitted' - NEGATIVE\n",
    "Ex1_pos = pos_df['Exam 1'] \n",
    "Ex2_pos = pos_df['Exam 2']\n",
    "Ex1_neg = neg_df['Exam 1']\n",
    "Ex2_neg = neg_df['Exam 2']"
   ]
  },
  {
   "cell_type": "code",
   "execution_count": 4,
   "metadata": {},
   "outputs": [],
   "source": [
    "# DEFINING A DATA PLOT FUNCTION\n",
    "def plotData(x1,x2,y1,y2): \n",
    "    plt.scatter(x1,y1, s=50, c='b', marker='o', label='Admitted')  \n",
    "    plt.scatter(x2,y2, s=50, c='r', marker='x', label='Not Admitted')  \n",
    "    plt.xlabel('Exam 1 Score')  \n",
    "    plt.ylabel('Exam 2 Score')\n",
    "    plt.title('Scatter plot of Trainig data')\n",
    "    plt.axis([20,110,20,110])\n",
    "    plt.grid(True)\n",
    "    plt.legend()"
   ]
  },
  {
   "cell_type": "code",
   "execution_count": 5,
   "metadata": {},
   "outputs": [
    {
     "data": {
      "image/png": "[encoded data removed]",
      "text/plain": [
       "<Figure size 432x288 with 1 Axes>"
      ]
     },
     "metadata": {
      "needs_background": "light"
     },
     "output_type": "display_data"
    }
   ],
   "source": [
    "plotData(Ex1_pos,Ex1_neg,Ex2_pos,Ex2_neg) # CALLING THE FUNCTION"
   ]
  },
  {
   "cell_type": "markdown",
   "metadata": {},
   "source": [
    "# 4 - Implementation of logistic regression model"
   ]
  },
  {
   "cell_type": "markdown",
   "metadata": {},
   "source": [
    "### 4.0 -  Initial settings ###"
   ]
  },
  {
   "cell_type": "code",
   "execution_count": 6,
   "metadata": {},
   "outputs": [],
   "source": [
    "# INITIALIZATIONS\n",
    "(m,n) = X.shape\n",
    "num_iters = 400\n",
    "theta = np.zeros((n+1, 1)); # initialize fitting parameters to zeros\n",
    "X = np.c_[np.ones((m, 1)), X]; # Add a column of ones to x for x0 = 1"
   ]
  },
  {
   "cell_type": "markdown",
   "metadata": {},
   "source": [
    "### 4.1 - Sigmoid function ###\n",
    "\n",
    "Recall that the logistic regression hypothesis is defined as:\n",
    "\n",
    "$${\\hat p} = {h_\\theta{(x)}} = {\\sigma{(\\theta^Tx)}} \\tag{1}$$\n",
    "\n",
    "where function **$\\sigma(.)$** is the `sigmoid function`.\n"
   ]
  },
  {
   "cell_type": "markdown",
   "metadata": {},
   "source": [
    " The sigmoid function  also refered to as `logistic function` or a  `logit` is defined as:\n",
    " $${\\sigma{(z)}} = \\frac{1}{ 1 + {e^{-z}}} \\tag{2}$$\n",
    " \n",
    " with respect to Logistic regression: $${z} = {\\theta^T.\\,{x}} \\tag{3}$$"
   ]
  },
  {
   "cell_type": "markdown",
   "metadata": {},
   "source": [
    "As per the requirement in this exercise, we implement this function as `sigmoid()` in the cell below.. "
   ]
  },
  {
   "cell_type": "code",
   "execution_count": 7,
   "metadata": {},
   "outputs": [],
   "source": [
    "# DEFINITION OF THE SIGMOID/LOGISTIC FUNCTION\n",
    "def sigmoid(z):\n",
    "    return (1/(1+ np.exp(-z)))"
   ]
  },
  {
   "cell_type": "markdown",
   "metadata": {},
   "source": [
    "Now thet we have implemented the sigmoid fucntion, we can visualize the sigmoid function by `running` the cell below to observe the behaviour of the function."
   ]
  },
  {
   "cell_type": "code",
   "execution_count": 8,
   "metadata": {},
   "outputs": [
    {
     "data": {
      "image/png": "[encoded data removed]",
      "text/plain": [
       "<Figure size 432x288 with 1 Axes>"
      ]
     },
     "metadata": {
      "needs_background": "light"
     },
     "output_type": "display_data"
    }
   ],
   "source": [
    "# CHECKING SIGMOID FUNCTION BY PLOTTING\n",
    "x_vals = np.linspace(-10, 10, 50) # DEFINING THE X AXIS \n",
    "def sigmoidPlot(x):\n",
    "    y = sigmoid(x)\n",
    "    fig, ax = plt.subplots()\n",
    "    ax.plot(x,y, 'r', label='Sigmoid/Logistic Function')\n",
    "    ax.plot(0,0.5,'X')\n",
    "    ax.grid(True)\n",
    "    ax.set_xlim([-10,10])\n",
    "    ax.set_ylim([0,1])\n",
    "    ax.legend()\n",
    "\n",
    "# CALLING THE SIGMOID FUNCTION\n",
    "sigmoidPlot(x_vals)"
   ]
  },
  {
   "cell_type": "markdown",
   "metadata": {},
   "source": [
    "The logistic function g(z), shown above, maps any real number to the (0, 1) interval, making it useful for transforming an arbitrary-valued function into a function better suited for classification."
   ]
  },
  {
   "cell_type": "markdown",
   "metadata": {},
   "source": [
    "Now we implement the ${z} = {\\theta^T.{x}}$ as in the cell below:"
   ]
  },
  {
   "cell_type": "code",
   "execution_count": 9,
   "metadata": {},
   "outputs": [],
   "source": [
    "# PREDICTION/HYPOTHESIS FUNCTION\n",
    "def z(x, theta):\n",
    "    return np.dot(x,theta)"
   ]
  },
  {
   "cell_type": "markdown",
   "metadata": {},
   "source": [
    "**4.2 - Objective function**\n",
    "\n",
    "We cannot use the same cost function that we use for linear regression because the Logistic Function will cause the output to be wavy, causing many local optima. In other words, it will not be a convex function.\n",
    "\n",
    "Therefore, with Logistic regression, the objective function is given by:"
   ]
  },
  {
   "cell_type": "markdown",
   "metadata": {},
   "source": [
    "$$ {J(\\theta)} = \\frac{1}{m} \\sum_{i=1}^m Cost\\,(h_\\theta(x^{(i)})\\,, y^{(i)}) \\tag{4}$$"
   ]
  },
  {
   "cell_type": "markdown",
   "metadata": {},
   "source": [
    "- if **y = 1:**$\\;{Cost\\,(h_\\theta \\,{(x)} , y)} = {-log\\,{(h_\\theta {(x)})}}$\n",
    "\n",
    "- if **y = 0:**$\\;{Cost\\,(h_\\theta \\,{(x)} , y)} = {-log\\,{(1 - h_\\theta {(x)})}}$\n",
    "\n",
    "\n",
    "We can compress our cost function's two conditional cases into one case:"
   ]
  },
  {
   "cell_type": "markdown",
   "metadata": {},
   "source": [
    "$${Cost\\,(h_\\theta \\,{(x)}\\,, y)} = {-y\\,log\\,{(h_\\theta {(x)})} -(1-y)\\,log\\,{(1 - h_\\theta {(x)})}}\\tag{5}$$"
   ]
  },
  {
   "cell_type": "markdown",
   "metadata": {},
   "source": [
    "- when y = 1, then the second term ${(1-y)\\,log\\,{(1 - h_\\theta {(x)})}}$ will be zero and will not affect the result.\n",
    "\n",
    "\n",
    "\n",
    "- when y = 0, then the first term ${-y\\,log\\,{(h_\\theta {(x)})}}$ will be zero and will not affect the result."
   ]
  },
  {
   "cell_type": "markdown",
   "metadata": {},
   "source": [
    "We can then fully write out our entire cost function as follows:"
   ]
  },
  {
   "cell_type": "markdown",
   "metadata": {},
   "source": [
    "$${J{(\\theta)}} = {-\\frac{1}{m}}{\\sum_{i=1}^m}{[{y^{(i)}\\,log\\,{(h_\\theta (x^{(i)})})}  + (1-y)^{(i)}\\,log\\,{(1 - h_\\theta (x^ {(i)})})]}\\tag{6}$$"
   ]
  },
  {
   "cell_type": "markdown",
   "metadata": {},
   "source": [
    "and its `vectorized form` is: \n",
    "\n",
    "$${J{(\\theta)}} = \\frac{1}{m}.{({-y^T\\,log{(h)} -(1-y)^T\\,log{(1 - h)}})}\\tag{7}$$"
   ]
  },
  {
   "cell_type": "code",
   "execution_count": 10,
   "metadata": {},
   "outputs": [],
   "source": [
    "# DEFINITION OF THE LOGISTIC COST FUNCTION\n",
    "def costFunction(theta, x, y):\n",
    "    m = len(x)\n",
    "    h = z(x, theta)\n",
    "    pred = sigmoid(h)\n",
    "    cost = (-1/m) * (np.dot(y.T,np.log(pred)) + np.dot((1-y).T,np.log(1-pred)))\n",
    "    return cost "
   ]
  },
  {
   "cell_type": "markdown",
   "metadata": {},
   "source": [
    "Now let us evaluate our implementation of the objective function on initial theta. `Run` the cell below to check results."
   ]
  },
  {
   "cell_type": "code",
   "execution_count": 11,
   "metadata": {},
   "outputs": [
    {
     "name": "stdout",
     "output_type": "stream",
     "text": [
      "\n",
      "Initial Cost: 0.693147, Theta: [0. 0. 0.]\n"
     ]
    }
   ],
   "source": [
    "# COMPUTING INITIAL COST WITH INITIAL THETA\n",
    "cost = costFunction(theta, X, Y) # Calling the logistic cost function\n",
    "print('\\nInitial Cost: %f' % (cost[0,0]) + ', Theta: ' + str(theta[:,0]))"
   ]
  },
  {
   "cell_type": "markdown",
   "metadata": {},
   "source": [
    "### 4.3 - Logistic regression gradient ###"
   ]
  },
  {
   "cell_type": "markdown",
   "metadata": {},
   "source": [
    "Remember that the general form of gradient descent is:"
   ]
  },
  {
   "cell_type": "markdown",
   "metadata": {},
   "source": [
    "Repeat {\n",
    "\n",
    "$ \\theta_j = \\theta_j - \\alpha \\frac {\\partial}{{\\partial} {\\theta_j}}{J{(\\theta)}}$\n",
    "    \n",
    "   }"
   ]
  },
  {
   "cell_type": "markdown",
   "metadata": {},
   "source": [
    "Where the derivative of the cost function is given by:"
   ]
  },
  {
   "cell_type": "markdown",
   "metadata": {},
   "source": [
    "$$ {\\frac {\\partial J(\\theta)}{\\partial \\theta_j}} = \\frac{1}{m} \\sum_{i=1}^m (h_\\theta(x^{(i)})-y^{(i)})\\,x_j^{(i)}$$"
   ]
  },
  {
   "cell_type": "markdown",
   "metadata": {},
   "source": [
    "The **gradient descent algorithm** will repeat until convergence {\n",
    "$$\\theta_{j} = \\theta_j - \\alpha \\frac{1}{m} \\sum_{i=1}^m (h_\\theta(x^{(i)})-y^{(i)}).x_j^{(i)} \\tag{8}$$\n",
    "} for **j = 0...n**, where $x_0^{(i)}$ = **1**, **m** is the size of the training set. "
   ]
  },
  {
   "cell_type": "markdown",
   "metadata": {},
   "source": [
    "A `vectorized implementation` is: $$\\theta_{j} = \\theta_ {j} - \\frac {\\alpha}{m}{X^T(\\sigma{(X \\theta) - \\vec y})} \\tag{9}$$"
   ]
  },
  {
   "cell_type": "markdown",
   "metadata": {},
   "source": [
    "where ${X \\theta}$ is the `vectorized form` of ${\\theta^{T}x}$."
   ]
  },
  {
   "cell_type": "markdown",
   "metadata": {},
   "source": [
    "### 4.4 - Learning parameters using `fmin()` ###"
   ]
  },
  {
   "cell_type": "markdown",
   "metadata": {},
   "source": [
    "In the previous exercise, we found the optimal parameters of a linear regression model by implementing gradent descent. We wrote a cost function and calculated its gradient, then took a gradient descent step accordingly.\n",
    "\n",
    "However, besides gradient descent, there are other advanced optimization technoques that can be employed for the purpose of optimizing the objective function.\n",
    "\n",
    "In this exercise, we shall use the `fmin()` optimization technique to optimize the objective function. You can read more about it [here](https://docs.scipy.org/doc/scipy-0.17.0/reference/generated/scipy.optimize.fmin.html#scipy.optimize.fmin).  Therefore, we create a function `optimizeCostFunction()` that is going to take in parameters: objective function,`func`; theta, `initial_theta`; input features, `x`; target class, `y` and the number of iterations, `iters`. \n",
    "\n",
    "The function, if terminates successfully, outputs the $\\theta$ values ogf the `minimum point` and the `cost (error)`\n",
    "at the minimum point."
   ]
  },
  {
   "cell_type": "markdown",
   "metadata": {},
   "source": [
    "The function `optimizeCostFunction()` below implements the calling of the `fmin()` function!"
   ]
  },
  {
   "cell_type": "code",
   "execution_count": 12,
   "metadata": {},
   "outputs": [],
   "source": [
    "def optimizeCostFunction(func, theta,x,y,iters):\n",
    "    result = opt.fmin(func=func, x0=theta, args=(x,y),maxiter=iters, full_output=1)\n",
    "    return result[0], result[1]"
   ]
  },
  {
   "cell_type": "markdown",
   "metadata": {},
   "source": [
    "We can now evaluate or implementation of our optimization function to ensure its terminating successfully. `Run` the cell below .."
   ]
  },
  {
   "cell_type": "code",
   "execution_count": 13,
   "metadata": {},
   "outputs": [
    {
     "name": "stdout",
     "output_type": "stream",
     "text": [
      "Optimization terminated successfully.\n",
      "         Current function value: 0.203498\n",
      "         Iterations: 157\n",
      "         Function evaluations: 287\n",
      "\n",
      "Results are as follows:\n",
      "\n",
      "Theta found by fmin: [-25.16130062   0.20623142   0.20147143]\n",
      "Cost at theta found by fmin: 0.20350\n"
     ]
    }
   ],
   "source": [
    "theta,cost = optimizeCostFunction(costFunction,theta,X,Y, num_iters)\n",
    "print('\\nResults are as follows:\\n\\nTheta found by fmin: '\\\n",
    "      + str(theta) + '\\nCost at theta found by fmin: %.5f' % (cost));"
   ]
  },
  {
   "cell_type": "markdown",
   "metadata": {},
   "source": [
    "### 4.5 - Evaluating logistic regression ###\n",
    "\n",
    "After learning the parameters, you can use the model to predict whether a particular student will be admitted. For a student with an Exam 1 score of 45 and an Exam 2 score of 85, we should expect to see an admission probability of `0.776`."
   ]
  },
  {
   "cell_type": "markdown",
   "metadata": {},
   "source": [
    "This means we need to define a function that computes an estimated probability of the given instance given by the equation: ${\\hat p} = {\\sigma{(h_\\theta {(x)})}}$"
   ]
  },
  {
   "cell_type": "code",
   "execution_count": 14,
   "metadata": {},
   "outputs": [],
   "source": [
    "def predict(theta, x):  \n",
    "    probability = sigmoid(np.dot(x,theta))\n",
    "    return [1 if x >= 0.5 else 0 for x in probability]"
   ]
  },
  {
   "cell_type": "markdown",
   "metadata": {},
   "source": [
    "Now that we have the model, we can assess its performance against the true values in the target class. This is what we are referring to as training accuracy. The sum of correct/true predictions against the sum of all predictions."
   ]
  },
  {
   "cell_type": "code",
   "execution_count": 15,
   "metadata": {},
   "outputs": [
    {
     "name": "stdout",
     "output_type": "stream",
     "text": [
      "Training Accuracy(UNPARTITIONED DATA) = 89%\n"
     ]
    }
   ],
   "source": [
    "# COMPUTING ACCURACY\n",
    "predictions = predict(theta, X)  \n",
    "correct = [1 if ((a == 1 and b == 1) or (a == 0 and b == 0)) else 0 for (a, b) in zip(predictions, Y)]  \n",
    "accuracy = (sum(map(int, correct)) % len(correct))  \n",
    "print('Training Accuracy(UNPARTITIONED DATA) = {0}%'.format(accuracy))"
   ]
  },
  {
   "cell_type": "markdown",
   "metadata": {},
   "source": [
    " ... from our computations, we can safely say, our model predicted `89%` of the instances in the dataset as true target classes in **y**."
   ]
  },
  {
   "cell_type": "code",
   "execution_count": 16,
   "metadata": {},
   "outputs": [],
   "source": [
    "def classify(theta, x):  \n",
    "    probability = sigmoid(np.dot(x,theta))\n",
    "    return [\"ADMIT\" if x >= 0.5 else \"DENY\" for x in probability]"
   ]
  },
  {
   "cell_type": "code",
   "execution_count": 17,
   "metadata": {},
   "outputs": [],
   "source": [
    "def logistic_decision(x,theta):\n",
    "    prob = sigmoid(np.dot(x,theta))\n",
    "    pred = predict(theta, x)\n",
    "    clf = classify(theta, x)\n",
    "    print('Probability of admission: %2f' % (prob[0]) \\\n",
    "          + ' \\nPrediciton: ' + str(pred[0]) \\\n",
    "          + ' \\nModel Decision: ' + str(clf[0]) \\\n",
    "          + ' STUDENT')"
   ]
  },
  {
   "cell_type": "markdown",
   "metadata": {},
   "source": [
    "The `logistic_decision()` function above computes the `estimated probability`, `prediction (1 or 0)` and `a descrete decision (ADMIT or DENY)` based on the marks of a student in Exam 1 and Exam 2."
   ]
  },
  {
   "cell_type": "code",
   "execution_count": 18,
   "metadata": {},
   "outputs": [
    {
     "name": "stdout",
     "output_type": "stream",
     "text": [
      "Probability of admission: 0.776292 \n",
      "Prediciton: 1 \n",
      "Model Decision: ADMIT STUDENT\n"
     ]
    }
   ],
   "source": [
    "student_x = [[1, 45, 85]] #TEST EXAMPLE\n",
    "logistic_decision(student_x,theta)"
   ]
  },
  {
   "cell_type": "markdown",
   "metadata": {},
   "source": [
    "### 4.6 - Training data with decision boundary ###\n",
    "\n",
    "At this particular point of our exercise, we have $\\theta$ values at the minimum point. This implies we can plot a `decision boundary line` that separates the two classes, ADMITTED or DENIED students in our training dataset."
   ]
  },
  {
   "cell_type": "markdown",
   "metadata": {},
   "source": [
    "In order to compute the boundary line, we need to remember that for logistic regression, ${h} = {\\sigma {(X . \\theta)}}$.. This describes the relationship between X, theta, and h.\n",
    "\n",
    "Now, by definition, the decision boundary is the `locus of points` where h = 0.5, or equivalently (X * theta) = 0, since the ${\\sigma {(0)}}$ is 0.5.\n",
    "\n",
    "Therefore, we can write out the equation for the case where we have two features and a bias unit, and we write **X** as $[ {x_0,x_1, x_2}]$ and theta as $[\\theta_0, \\theta_1, \\theta_2]$\n",
    "\n",
    "${0} = {\\theta_0x_0 + \\theta_1 x_1 + \\theta_2 x_2} \\tag{10}$\n",
    "\n",
    "${x_0}$ is the bias unit, it is hard-coded to 1. Now we solve for ${x_2}$..\n",
    "\n",
    "$${x_2} = {\\frac {-(\\theta_0 + \\theta_1 x_1)}{\\theta_2}} \\tag{11}$$"
   ]
  },
  {
   "cell_type": "code",
   "execution_count": 19,
   "metadata": {},
   "outputs": [],
   "source": [
    "def plotDecisionBoundary(x1,x2,y1,y2,theta):\n",
    "    theta0 = theta[0]; \n",
    "    theta1 = theta[1]; \n",
    "    theta2 = theta[2];\n",
    "    fig, ax = plt.subplots()\n",
    "    plt.scatter(x1,y1, s=50, c='b', marker='o', label='Admitted')  \n",
    "    plt.scatter(x2,y2, s=50, c='r', marker='x', label='Not Admitted')\n",
    "    x_vals = np.array(ax.get_xlim())\n",
    "    y_vals = -1 * np.divide(((np.multiply(theta1,x_vals)) + theta0),theta2)\n",
    "    plt.plot(x_vals, y_vals, '--', c=\"red\", label='Decision Boundary')\n",
    "    titlestr = 'Decision Boundary Function: y = %.2f + %.2fX1 + %.2fX2' % (theta0, theta1, theta2)\n",
    "    plt.title(titlestr) \n",
    "    plt.axis([20,110,20,110])\n",
    "    plt.xlabel('Exam 1 Score')  \n",
    "    plt.ylabel('Exam 2 Score')\n",
    "    plt.grid(True)\n",
    "    plt.legend()"
   ]
  },
  {
   "cell_type": "code",
   "execution_count": 20,
   "metadata": {},
   "outputs": [
    {
     "data": {
      "image/png": "[encoded data removed]",
      "text/plain": [
       "<Figure size 432x288 with 1 Axes>"
      ]
     },
     "metadata": {
      "needs_background": "light"
     },
     "output_type": "display_data"
    }
   ],
   "source": [
    "plotDecisionBoundary(Ex1_pos,Ex1_neg,Ex2_pos,Ex2_neg, theta)"
   ]
  },
  {
   "cell_type": "markdown",
   "metadata": {},
   "source": [
    "# Programming Exercise 2 (Part B): Regularized logistic regression#"
   ]
  },
  {
   "cell_type": "markdown",
   "metadata": {},
   "source": [
    "## Introduction ##"
   ]
  },
  {
   "cell_type": "markdown",
   "metadata": {},
   "source": [
    "In order to understand `regularization`, we need to know two phenomenons associated with machine learning algorithms: underfitting (high bias) and overfitting (high variance).\n",
    "\n",
    "`Underfitting`, or `high bias`, is when the form of our hypothesis function ${h}$ maps poorly to the trend of the data. It is usually caused by a function that is too simple or uses too few features. On the other hand, `overfitting`, or `high variance`, is caused by a hypothesis function that fits the available data but does not generalize well to predict new data. It is usually caused by a complicated function that creates a lot of unnecessary curves and angles unrelated to the data.\n",
    "\n",
    "To overcome the challenge of overfitting, we may decide to reduce the number of features or by the concept of `regularization` by adding a second term ${\\frac{\\lambda}{2m}} {\\sum_{j=1}^n} {\\theta_j{^2}}$ to the logistic cost function ${J(\\theta)}$ in equation 6."
   ]
  },
  {
   "cell_type": "markdown",
   "metadata": {},
   "source": [
    "## 2.1 - Overview of the problem##"
   ]
  },
  {
   "cell_type": "markdown",
   "metadata": {},
   "source": [
    "In this part of the exercise, we will implement `regularized logistic regression` to predict whether microchips from a fabrication plant passes quality assurance (QA). During QA, each microchip goes through various tests to ensure it is functioning correctly. Now, imagine you are the product manager of the factory and you have the test results for some microchips on two different tests. From these two tests, you would like to determine whether the microchips should be accepted or rejected. To help you make the decision, you have a dataset of test results on past microchips, from which you can build a logistic regression model."
   ]
  },
  {
   "cell_type": "markdown",
   "metadata": {},
   "source": [
    "## 2.2 - Loading and  visualizing the training data"
   ]
  },
  {
   "cell_type": "markdown",
   "metadata": {},
   "source": [
    "### 2.2.1 - Loading sample dataset ###\n",
    "\n",
    "Let us load the sample dataset for this exercise, `ex7data2.txt` into pandas dataframe using the `read_csv() function`. The first two columns are features while the third column is the target class column."
   ]
  },
  {
   "cell_type": "code",
   "execution_count": 21,
   "metadata": {},
   "outputs": [],
   "source": [
    "path = os.getcwd() + '\\data\\ex2data2.txt'\n",
    "df = pd.read_csv(path, header=None, names=['Test_1', 'Test_2', 'Accepted'])\n",
    "data=df.values\n",
    "X_train = data[:,[0,1]]\n",
    "y_train = data[:,[2]].reshape(-1,1)"
   ]
  },
  {
   "cell_type": "code",
   "execution_count": 22,
   "metadata": {},
   "outputs": [],
   "source": [
    "pos_df = df[df['Accepted'].isin([1])] # df with records having only ones (1) in the label column 'Admitted' - POSITIVE\n",
    "neg_df = df[df['Accepted'].isin([0])] # df with records having zeros (0) in the label column 'Admitted' - NEGATIVE\n",
    "Ex1_pos = pos_df['Test_1'] \n",
    "Ex2_pos = pos_df['Test_2']\n",
    "Ex1_neg = neg_df['Test_1']\n",
    "Ex2_neg = neg_df['Test_2']"
   ]
  },
  {
   "cell_type": "markdown",
   "metadata": {},
   "source": [
    "### 2.2.2 - Visualizing the training data ###\n",
    "\n",
    "Similar to the previous parts of this exercise, `plotData()` is used to visualize the scatter plot of training data, where the axes are the two test scores, and the positive(y = 1, Admitted) and negative (y = 0, Not Admitted) examples are shown with different markers."
   ]
  },
  {
   "cell_type": "code",
   "execution_count": 23,
   "metadata": {},
   "outputs": [],
   "source": [
    "def plotData(x1,x2,y1,y2): \n",
    "    plt.scatter(x1,y1, s=50, c='b', marker='o', label='Admitted')  \n",
    "    plt.scatter(x2,y2, s=50, c='r', marker='x', label='Not Admitted')   \n",
    "    plt.xlabel('Microchip Test 1')  \n",
    "    plt.ylabel('Microchip Test 2')\n",
    "    plt.title('Scatter plot of Trainig data')\n",
    "    plt.axis([-1,1.5,-1,1.5])\n",
    "    plt.grid(True)\n",
    "    plt.legend() "
   ]
  },
  {
   "cell_type": "code",
   "execution_count": 24,
   "metadata": {},
   "outputs": [
    {
     "data": {
      "image/png": "[encoded data removed]",
      "text/plain": [
       "<Figure size 432x288 with 1 Axes>"
      ]
     },
     "metadata": {
      "needs_background": "light"
     },
     "output_type": "display_data"
    }
   ],
   "source": [
    "plotData(Ex1_pos,Ex1_neg,Ex2_pos,Ex2_neg) "
   ]
  },
  {
   "cell_type": "markdown",
   "metadata": {},
   "source": [
    "The plot shows that our dataset `cannot be separated into positive and negative examples by a straight-line` through the plot. Therefore, a straight forward application of logistic regression will not perform well on this dataset since logistic regression will only be able to find a linear decision boundary."
   ]
  },
  {
   "cell_type": "markdown",
   "metadata": {},
   "source": [
    "### 2.2.3 - Hyperparameter settings ###"
   ]
  },
  {
   "cell_type": "code",
   "execution_count": 25,
   "metadata": {},
   "outputs": [],
   "source": [
    "num_iters = 1500;\n",
    "alpha = 1;\n",
    "Lambda= 1;"
   ]
  },
  {
   "cell_type": "markdown",
   "metadata": {},
   "source": [
    "## 2.3 - Mapping features ##"
   ]
  },
  {
   "cell_type": "markdown",
   "metadata": {},
   "source": [
    "Because of this non-linearity in the training dataset, one way to fit the data better is to create more features from each data point. In the function below `mapFeature()`, we will map the features into all polynomial terms of ${x_1}$ and ${x_2}$ up to the sixth power."
   ]
  },
  {
   "cell_type": "code",
   "execution_count": 26,
   "metadata": {},
   "outputs": [],
   "source": [
    "#This functions maps the features to polynomial features\n",
    "#It returns a new feature array with more features, comprising of X1, X2, X1.^2, X2.^2, X1*X2, X1*X2.^2, etc..\n",
    "def mapFeature(x1,x2):\n",
    "    degree = 6\n",
    "    out = np.ones((x1.shape[0]))\n",
    "    for i in range(1,degree+1):  \n",
    "        for j in range(0,i+1):\n",
    "            tmp = np.multiply(np.power(x1, i-j),np.power(x2, j))\n",
    "            out = np.vstack((out,tmp))\n",
    "    return out.T"
   ]
  },
  {
   "cell_type": "markdown",
   "metadata": {},
   "source": [
    "The result of this mapping is that the vector of features, ${x_1}$ and ${x_2}$ (the scores on two QA tests) will been transformed into a 28-dimensional vector. A logistic regression classifier trained on this higher-dimension feature vector will  a more complex decision boundary and will appear nonlinear when drawn in our 2-dimensional plot."
   ]
  },
  {
   "cell_type": "markdown",
   "metadata": {},
   "source": [
    "![mapFeatures](images/mapfeatures.png)"
   ]
  },
  {
   "cell_type": "markdown",
   "metadata": {},
   "source": [
    "**NOTE:** While the feature mapping allows us to build a more expressive classifier, it also more susceptible to `overfitting`. \n",
    "\n",
    "In the next parts of the exercise, we will implement regularized logistic regression to fit the data and so that we can see it for ourselves how regularization can help combat the overfitting problem."
   ]
  },
  {
   "cell_type": "markdown",
   "metadata": {},
   "source": [
    "## 2.4 - Regularized logistic regression objective & gradient functions ##"
   ]
  },
  {
   "cell_type": "markdown",
   "metadata": {},
   "source": [
    "**2.4.1 - Objective function**"
   ]
  },
  {
   "cell_type": "markdown",
   "metadata": {},
   "source": [
    "Now you will implement code to compute the cost function and gradient for regularized logistic regression. Recall that the cost function in logistic regression is given in equation 6. It can be regularized by adding a regularization term,$\\theta_0$. The second sum ${\\frac{\\lambda}{2m}} {\\sum_{j=1}^n} {\\theta_j{^2}}$ ,at the end:"
   ]
  },
  {
   "cell_type": "markdown",
   "metadata": {},
   "source": [
    "$${J{(\\theta)}} = {\\frac{1}{m}}{\\sum_{i=1}^m}{\\biggl[{-y^{(i)}\\,log\\,{(h_\\theta (x^{(i)})})}  - (1-y)^{(i)}\\,log\\,{(1 - h_\\theta (x^ {(i)})})\\biggl] + {\\frac{\\lambda}{2m}} {\\sum_{j=1}^n} {\\theta_j{^2}}}  \\tag{12}$$\n",
    "\n",
    "**Note** that you should not regularize the parameter $\\theta_0$. The second sum ${\\frac{\\lambda}{2m}} {\\sum_{j=1}^n} {\\theta_j{^2}}$  means to explicitly exclude the bias term, $\\theta_0$"
   ]
  },
  {
   "cell_type": "code",
   "execution_count": 27,
   "metadata": {},
   "outputs": [],
   "source": [
    "def costFunctionReg(theta, x, y, lamda):\n",
    "    m = x.shape[0]\n",
    "    h = z(x, theta)\n",
    "    pred = sigmoid(h)\n",
    "    unreg_cost = ((-1/m) * (np.dot(y.T,np.log(pred)) + np.dot((1-y).T,np.log(1-pred))))\n",
    "    reg_term = (lamda/(2*m)) * np.sum(np.dot(theta[1:].T,theta[1:])); # Regularization term\n",
    "    cost = unreg_cost + reg_term; # add the regularization term\n",
    "    return cost"
   ]
  },
  {
   "cell_type": "code",
   "execution_count": 28,
   "metadata": {},
   "outputs": [],
   "source": [
    "x1 = X_train[:,0]  # The first column of X\n",
    "x2 = X_train[:,1]  # The second column of X\n",
    "mappedX = mapFeature(x1,x2)\n",
    "init_theta = np.random.randn(mappedX.shape[1],1)  # random initialization theta with small values\n",
    "#theta = np.zeros((mappedX.shape[1], 1))"
   ]
  },
  {
   "cell_type": "code",
   "execution_count": 29,
   "metadata": {},
   "outputs": [
    {
     "name": "stdout",
     "output_type": "stream",
     "text": [
      "\n",
      "RESULTS ARE AS FOLLOWS:\n",
      "\n",
      "Theta`s shape is: (3,)\n",
      "Initial cost is: 0.993512\n"
     ]
    }
   ],
   "source": [
    "# RUNNING THE COST FUNCTION\n",
    "cost = costFunctionReg(init_theta, mappedX, y_train, Lambda) #Calling the cost function for the initial cost\n",
    "print('\\nRESULTS ARE AS FOLLOWS:\\n\\nTheta`s shape is: '\\\n",
    "      + str(theta.shape)\\\n",
    "      + '\\nInitial cost is: %f' % (cost[0,0]))"
   ]
  },
  {
   "cell_type": "markdown",
   "metadata": {},
   "source": [
    "### 2.4.2 - Gradient descent  algorithm ###"
   ]
  },
  {
   "cell_type": "markdown",
   "metadata": {},
   "source": [
    "The gradient of the cost function is a vector where the jth element is defined as follows:"
   ]
  },
  {
   "cell_type": "markdown",
   "metadata": {},
   "source": [
    "$${\n",
    "\\begin{equation*}\n",
    "\\frac {\\partial J(\\theta)}{\\partial \\theta_j} = \n",
    "\\biggl(\\frac{1}{m} \\sum_{i=1}^m (h_\\theta(x^{(i)})-y^{(i)})x_j^{(i)}\\biggl)  + \\frac{\\lambda}{m} {\\theta_j},\n",
    "\\quad\\quad \\text{for ${j \\ge 1}$}\n",
    "\\tag{13}\n",
    "\\end{equation*}}\n",
    "$$"
   ]
  },
  {
   "cell_type": "markdown",
   "metadata": {},
   "source": [
    "Just like with linear regression, we will want to separately update $\\theta_0$ and the rest of the parameters because we do not want to regularize $\\theta_0$."
   ]
  },
  {
   "cell_type": "markdown",
   "metadata": {},
   "source": [
    "The **gradient descent algorithm** will repeat until convergence {\n",
    "$$\\theta_0 = \\theta_0 - \\alpha \\frac{1}{m} \\sum_{i=1}^m \\biggl(h_\\theta(x^{(i)})-y^{(i)}\\biggl)x_0^{(i)}$$\n",
    "$$\\theta_j = \\theta_j - \\alpha {\\biggl[\\biggl(\\frac{1}{m} \\sum_{i=1}^m (h_\\theta(x^{(i)})-y^{(i)})x_j^{(i)}\\biggl) + {\\frac{\\lambda}{m}} {\\theta_j}\\biggl]}$$\n",
    "} where $x_0^{(i)}$ = **1**, **m** is the size of the training set & $j \\ge 1$."
   ]
  },
  {
   "cell_type": "markdown",
   "metadata": {},
   "source": [
    "**2.4.3 - Learning parameters using `minimize()`**"
   ]
  },
  {
   "cell_type": "markdown",
   "metadata": {},
   "source": [
    "Like in the first part of this exercise, we shall adopt `minimize()` function to optimize the objective function. And the method will use is `BFGS`."
   ]
  },
  {
   "cell_type": "code",
   "execution_count": 30,
   "metadata": {},
   "outputs": [],
   "source": [
    "# DEFINITION OF AN OBJECTIVE OPTIMIZATION TECHNIQUE USING SCIPY`s minimize(method=’BFGS’)\n",
    "# REF: https://docs.scipy.org/doc/scipy-0.17.0/reference/optimize.minimize-bfgs.html\n",
    "def optimizeCostFunction(func,theta,x,y,lamda,iters):\n",
    "    result = opt.minimize(func, x0=theta, args=(x,y,lamda), method='BFGS',options={'disp': False, 'maxiter': 500})\n",
    "    return result.x, result.fun"
   ]
  },
  {
   "cell_type": "code",
   "execution_count": 31,
   "metadata": {},
   "outputs": [
    {
     "name": "stdout",
     "output_type": "stream",
     "text": [
      "\n",
      "Results are as follows:\n",
      "\n",
      "Theta found by minimize(method=’BFGS’): [ 1.2727854   0.62516131  1.18130561 -2.01989143 -0.91743453 -1.43179334\n",
      "  0.12417576 -0.36521539 -0.35725461 -0.17513412 -1.45806575 -0.05104317\n",
      " -0.61581397 -0.27461965 -1.19313967 -0.24225052 -0.20595485 -0.04478494\n",
      " -0.27789743 -0.29530627 -0.45636631 -1.04305857  0.02780625 -0.29271382\n",
      "  0.01558996 -0.32750602 -0.14368126 -0.92476603]\n",
      "\n",
      "Cost at theta found by minimize(method=’BFGS’): 0.52900\n"
     ]
    }
   ],
   "source": [
    "#RUNNING minimize(method=’BFGS’) FUNCTION\n",
    "theta, cost = optimizeCostFunction(costFunctionReg,init_theta,mappedX,y_train,Lambda,num_iters)\n",
    "print('\\nResults are as follows:\\n\\nTheta found by minimize(method=’BFGS’): '\\\n",
    "      + str(theta) + '\\n\\nCost at theta found by minimize(method=’BFGS’): %.5f' % (cost));"
   ]
  },
  {
   "cell_type": "markdown",
   "metadata": {},
   "source": [
    "## 2.5 - Evaluating model performance"
   ]
  },
  {
   "cell_type": "markdown",
   "metadata": {},
   "source": [
    "There are many performance measures, however, in this exercise we shall just compute the model performance on the training data. Ideally, we needed to divide the dataset into train/val/test. Where we train the model on `train` data, evaluate it on `val` data and test it on `test` data."
   ]
  },
  {
   "cell_type": "code",
   "execution_count": 32,
   "metadata": {},
   "outputs": [
    {
     "name": "stdout",
     "output_type": "stream",
     "text": [
      "\n",
      "Training Accuracy(UNPARTITIONED DATA) = 98%\n"
     ]
    }
   ],
   "source": [
    "predictions = predict(theta, mappedX)  \n",
    "correct = [1 if ((a == 1 and b == 1) or (a == 0 and b == 0)) else 0 for (a, b) in zip(predictions, y_train)]  \n",
    "accuracy = (sum(map(int, correct)) % len(correct))  \n",
    "print('\\nTraining Accuracy(UNPARTITIONED DATA) = {0}%'.format(accuracy))"
   ]
  },
  {
   "cell_type": "markdown",
   "metadata": {},
   "source": [
    "## 2.6 - Plotting the decision boundary##"
   ]
  },
  {
   "cell_type": "markdown",
   "metadata": {},
   "source": [
    "Before we go ahead to plot the decision boundary, let us get some insights of the decision boundary of the logistic regression model. Recall that the hypothesis equation is given by ${h_\\theta{(x)}} = {\\sigma(z)}$, where ${\\sigma(.)}$ denotes the sigmoid function in equation 2. \n",
    "\n",
    "- Intuitively, for classification, when the hypothesis value ${h_\\theta{(x)}} \\ge 0.5$, the model assigns the instance to class \"1\".\n",
    "- We also know that logistic regression is defined as ${h_\\theta{(x)}} = {\\sigma(z)} = {\\sigma{(\\theta^Tx)}}$\n",
    "- This implies ${\\sigma{(\\theta^Tx)}} \\ge 0.5 $ predicts class 1.\n",
    "- A closer look at the sigmoid function graph, ${\\sigma(z)} \\ge 0.5$ when ${z} \\ge 0$, where  ${z = {\\theta^Tx}}$. \n",
    "- This means ${\\theta^T{x} = {\\theta_0 + \\theta_1{x_1} + \\theta_2{x_2}} \\ge 0}$ predicts class \"1\"  .\n",
    "- The decision boundary lets us see the line that has been learned in order to separate out the y=0 vs y=1 classes, in this example.\n",
    "- This boundary is at $h_{\\theta}(x) = 0.5$ (remember, this is the lowest possible value for predicting that a class is \"1\")\n",
    "- This basically means that the `decision boundary` line is ${\\theta_0 + \\theta_1{x_1} + \\theta_2{x_2}} = 0$\n",
    "- The decision boundary will be a line composed of any ${(x_1,x_2)}$ points that make this equation equal zero.\n",
    "\n",
    "- In order to plot the line along the specific data we have, we arbitrarily decide to use values of ${x_{1}}$ from our data, by choosing the max and min, and then add/subtract a little bit in order to make the line fit nicely. Think about it, you could continue down the line in the above equation an infinite amount in either direction, and it will still be the line dividing the two classes. However, we only have data that lies around a certain area of this line, so we make sure to only plot the line and data in that region (otherwise it would just be a line and some blank space around it).\n",
    "\n",
    "- Solve for ${x_{2}}$ since we're using ${x_{1}}$ values (the max & min values +/- 2 in order to make a nice line)\n",
    "\n",
    "$${x_2} = {\\frac {-(\\theta_0 + \\theta_1 x_1)}{\\theta_2}} \\tag{14}$$\n",
    "\n",
    "- Plugin the two ${x_2}$ values (stored in plot_x) into the above equation to get the two corresponding ${x_3}$ values (and store in the plot_y variable).\n",
    "- Plot a line using these values -> this will be the decision boundary\n",
    "- Plot the rest of our data on the graph as well, and notice that the line should separate the classes."
   ]
  },
  {
   "cell_type": "markdown",
   "metadata": {},
   "source": [
    "Now we are ready to implement a decision boundary. To help us visualize the model learned by this classifier, we define a function `plotDecisionBoundary()` which plots the (non-linear) decision boundary that separates the positive and negative examples."
   ]
  },
  {
   "cell_type": "markdown",
   "metadata": {},
   "source": [
    "**NOTE:** In plotDecisionBoundary(), we plot the `non-linear decision boundary` by computing the classifier's predictions on an evenly spaced grid and then and drew a contour plot of where the predictions change from y = 0 to y = 1."
   ]
  },
  {
   "cell_type": "code",
   "execution_count": 33,
   "metadata": {},
   "outputs": [],
   "source": [
    "from matplotlib.colors import LogNorm\n",
    "def plotDecisionBoundary(theta,Lambda):\n",
    "    xvals = np.linspace(-1, 1.5, 50)\n",
    "    yvals = np.linspace(-1, 1.5, 50)\n",
    "    zvals = np.zeros((len(xvals), len(yvals)));\n",
    "    \n",
    "    for i in range(len(xvals)):\n",
    "        for j in range(len(yvals)):\n",
    "            mf = mapFeature(np.array([xvals[i]]), np.array([yvals[j]]));\n",
    "            zvals[i][j] = z(mf, theta);\n",
    "    zvals = zvals.T\n",
    "    plt.scatter(Ex1_pos,Ex2_pos, s=50, c='b', marker='o', label='Admitted')  \n",
    "    plt.scatter(Ex1_neg,Ex2_neg, s=50, c='r', marker='x', label='Not Admitted')   \n",
    "    plt.grid(True)\n",
    "    cs =plt.contour(xvals,yvals, zvals, [0])\n",
    "    plt.title('Decison Boundary(%s = %d)' % (r'$\\lambda$', Lambda))\n",
    "    plt.legend()"
   ]
  },
  {
   "cell_type": "code",
   "execution_count": 34,
   "metadata": {},
   "outputs": [
    {
     "data": {
      "image/png": "[encoded data removed]",
      "text/plain": [
       "<Figure size 1080x288 with 2 Axes>"
      ]
     },
     "metadata": {
      "needs_background": "light"
     },
     "output_type": "display_data"
    }
   ],
   "source": [
    "plt.figure(figsize=(15, 4))\n",
    "\n",
    "plt.subplot(1, 2, 1)\n",
    "plotData(Ex1_pos,Ex1_neg,Ex2_pos,Ex2_neg) \n",
    "\n",
    "plt.subplot(1, 2, 2)\n",
    "plotDecisionBoundary(theta,Lambda)\n",
    "plt.show()"
   ]
  },
  {
   "cell_type": "code",
   "execution_count": 35,
   "metadata": {},
   "outputs": [
    {
     "data": {
      "image/png": "[encoded data removed]",
      "text/plain": [
       "<Figure size 1224x288 with 4 Axes>"
      ]
     },
     "metadata": {
      "needs_background": "light"
     },
     "output_type": "display_data"
    }
   ],
   "source": [
    "plot_num = 1\n",
    "Lambdas = [0,1,50,100]\n",
    "plt.figure(figsize=(len(Lambdas) * 3 + 5, 4))\n",
    "plt.subplots_adjust(wspace=.2,hspace=.2)\n",
    "for idx, value in enumerate(Lambdas):\n",
    "    plt.subplot(1, len(Lambdas), plot_num)\n",
    "    theta, _  = optimizeCostFunction(costFunctionReg,init_theta,mappedX,y_train,value,num_iters)\n",
    "    xvals = np.linspace(-1, 1.5, 50)\n",
    "    yvals = np.linspace(-1, 1.5, 50)\n",
    "    zvals = np.zeros((len(xvals), len(yvals)));\n",
    "    \n",
    "    for i in range(len(xvals)):\n",
    "        for j in range(len(yvals)):\n",
    "            mf = mapFeature(np.array([xvals[i]]), np.array([yvals[j]]));\n",
    "            zvals[i][j] = z(mf, theta);\n",
    "    zvals = zvals.T\n",
    "    plt.scatter(Ex1_pos,Ex2_pos, s=50, c='b', marker='o', label='Admitted')  \n",
    "    plt.scatter(Ex1_neg,Ex2_neg, s=50, c='r', marker='x', label='Not Admitted')   \n",
    "    plt.grid(True)\n",
    "    cs =plt.contour(xvals,yvals, zvals, [0])\n",
    "    plt.title('Decison boundary(%s = %d)' % (r'$\\lambda$',value))\n",
    "    plt.legend()\n",
    "    plot_num += 1\n",
    "plt.show()"
   ]
  },
  {
   "cell_type": "markdown",
   "metadata": {},
   "source": [
    "It can be observed from the four plots that:\n",
    "\n",
    "- With ${\\lambda = 0}$, No regularization (Overfitting)\n",
    "- With ${\\lambda = 50}$ and ${\\lambda = 100}$, there seem to be much regularization (Underfitting)\n",
    "- With ${\\lambda = 1}$, Looks to be an 'Okeyish' fitting. :)"
   ]
  }
 ],
 "metadata": {
  "kernelspec": {
   "display_name": "Python 3",
   "language": "python",
   "name": "python3"
  },
  "language_info": {
   "codemirror_mode": {
    "name": "ipython",
    "version": 3
   },
   "file_extension": ".py",
   "mimetype": "text/x-python",
   "name": "python",
   "nbconvert_exporter": "python",
   "pygments_lexer": "ipython3",
   "version": "3.7.3"
  }
 },
 "nbformat": 4,
 "nbformat_minor": 2
}
