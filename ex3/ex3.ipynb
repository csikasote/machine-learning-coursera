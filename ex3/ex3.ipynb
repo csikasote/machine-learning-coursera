{
 "cells": [
  {
   "cell_type": "markdown",
   "metadata": {},
   "source": [
    "# Programming Exercise 3: Multi-Class Classification and Neural Networks"
   ]
  },
  {
   "cell_type": "markdown",
   "metadata": {},
   "source": [
    "Welcome to programming exercise 3, Multi-Class Classification and Neural Networks! In this exercise, we will implement one-vs-all logistic regression and neural networks to recognize hand-written digits."
   ]
  },
  {
   "cell_type": "markdown",
   "metadata": {},
   "source": [
    "**Instruction:**\n",
    "- To run code, click on a corresponding cell and press `Shift+Enter` keys simultaneously or Click `Cell -> Run` Cells.\n",
    "\n",
    "**Objective:**\n",
    "- To implement one-vs-all classification algorithm to classify data points belonging to more than two discrete outcomes.\n",
    "\n",
    "**You will learn how to:**\n",
    "- implement one-vs-all classification\n",
    "    - objective/cost function\n",
    "    - gradient function\n",
    "    - sigmoid function\n",
    "    - scipy for optimization"
   ]
  },
  {
   "cell_type": "markdown",
   "metadata": {},
   "source": [
    "## Import packages ##\n",
    "\n",
    "First lets run the cell below to import all the packages that you will need for this exercise.\n",
    "- [NumPy](http://www.numpy.org) is the fundamental package for scientific computing with Python.\n",
    "- [Matplotlib](http://matplotlib.org) is a common library to plot graphs in python.\n",
    "- [Scipy](https://docs.scipy.org/doc/scipy-0.17.0/reference/optimize.html) a python library for optimization functions."
   ]
  },
  {
   "cell_type": "code",
   "execution_count": 1,
   "metadata": {},
   "outputs": [],
   "source": [
    "# Python ≥3.5 is required\n",
    "import sys\n",
    "assert sys.version_info >= (3, 5)\n",
    "\n",
    "# Import common libr\n",
    "import numpy as np\n",
    "import scipy.io as sio \n",
    "from scipy import optimize as opt\n",
    "\n",
    "%matplotlib inline\n",
    "import matplotlib\n",
    "import matplotlib.pyplot as plt\n",
    "\n",
    "%load_ext autoreload\n",
    "%autoreload 2"
   ]
  },
  {
   "cell_type": "markdown",
   "metadata": {},
   "source": [
    "## Part 1. - Multi-class Classification##"
   ]
  },
  {
   "cell_type": "markdown",
   "metadata": {},
   "source": [
    "For this exercise, we will use logistic regression and neural networks to recognize handwritten digits (from 0 to 9). Automated handwritten digit recognition is widely used today - from recognizing zip codes (postal codes) on mail envelopes to recognizing amounts written on bank checks."
   ]
  },
  {
   "cell_type": "markdown",
   "metadata": {},
   "source": [
    "## 1.1 - Load training data ##"
   ]
  },
  {
   "cell_type": "markdown",
   "metadata": {},
   "source": [
    "We are given a data set in `./data/ex3data1.mat` that contains 5000 training examples of handwritten digits. The `.mat` format means that that the data has been saved in a native Octave/MATLAB matrix format, instead of a text (ASCII) format like a csv-file. These matrices can be read directly into your program by using the load command. After loading, matrices of the correct dimensions and values will appear in your program's memory. The matrix will already be named, so you do not need to assign names to them."
   ]
  },
  {
   "cell_type": "code",
   "execution_count": 2,
   "metadata": {},
   "outputs": [],
   "source": [
    "#IMPORTING DATA FILES\n",
    "df_path = 'data/ex3data1.mat'\n",
    "data = sio.loadmat(df_path)\n",
    "X = data['X']\n",
    "y = data['y']"
   ]
  },
  {
   "cell_type": "markdown",
   "metadata": {},
   "source": [
    "Use the `np.unique()` to uniquely output discrete values contained in the vector `y`. "
   ]
  },
  {
   "cell_type": "code",
   "execution_count": 3,
   "metadata": {},
   "outputs": [
    {
     "name": "stdout",
     "output_type": "stream",
     "text": [
      "X has shape:  (5000, 400)\n",
      "Y has shape:  (5000, 1)\n",
      "Unique elements in Y: [ 1  2  3  4  5  6  7  8  9 10]\n"
     ]
    }
   ],
   "source": [
    "# RESULTS CHECK\n",
    "print('X has shape: ', X.shape)\n",
    "print('Y has shape: ', y.shape)\n",
    "print('Unique elements in Y: %s' %(np.unique(y)))"
   ]
  },
  {
   "cell_type": "markdown",
   "metadata": {},
   "source": [
    "There are 5000 training examples in the provided dataset, where each training example is a 20 pixel by 20 pixel grayscale image of the digit. Each pixel is represented by a floating point number indicating the grayscale intensity at that location. The 20 by 20 grid of pixels is \"unrolled\" into a 400-dimensional vector. Each of these training examples becomes a single row in our data matrix X. This gives us a 5000 by 400 matrix X where every row is a training example for a handwritten digit image."
   ]
  },
  {
   "cell_type": "markdown",
   "metadata": {},
   "source": [
    "The second part of the training set is a 5000-dimensional vector y that contains labels for the training set. To make things more compatible with Octave/MATLAB indexing, where there is no zero index, we have mapped the digit zero to the value ten. Therefore, a \"0\" digit is labeled as \"10\", while the digits \"1\" to \"9\" are labeled as \"1\" to \"9\" in their natural order."
   ]
  },
  {
   "cell_type": "markdown",
   "metadata": {},
   "source": [
    "## 1.2 - Visualizing the data ##"
   ]
  },
  {
   "cell_type": "markdown",
   "metadata": {},
   "source": [
    "Let us begin by visualizing the subset of the training dataset. We will randomly selects selects 25 rows from `X` and passes those rows to the `displayData()` function. This function maps each row to a 20 pixel by 20 pixel grayscale image and displays the images together."
   ]
  },
  {
   "cell_type": "code",
   "execution_count": 4,
   "metadata": {},
   "outputs": [],
   "source": [
    "rand_indices = np.random.permutation(X.shape[0]);\n",
    "sel = X[rand_indices[:25], :]"
   ]
  },
  {
   "cell_type": "markdown",
   "metadata": {},
   "source": [
    "Next, we define a simple display function that takes as input a randomly selected 25 rows...and displays them digits."
   ]
  },
  {
   "cell_type": "code",
   "execution_count": 5,
   "metadata": {},
   "outputs": [],
   "source": [
    "def displayData(sel):\n",
    "    fig, ax = plt.subplots(nrows =5, ncols=5, sharex=True, sharey=True,)\n",
    "    ax = ax.flatten()\n",
    "    for i in range(25):\n",
    "        img = sel[i].reshape(20,20,order=\"F\")\n",
    "        ax[i].imshow(img, cmap=matplotlib.cm.binary, interpolation=\"nearest\")\n",
    "        ax[i].axis('on')\n",
    "    ax[0].set_xticks([])\n",
    "    ax[0].set_yticks([])\n",
    "    plt.tight_layout()\n",
    "    plt.show()"
   ]
  },
  {
   "cell_type": "code",
   "execution_count": 6,
   "metadata": {},
   "outputs": [
    {
     "data": {
      "image/png": "[encoded data removed]",
      "text/plain": [
       "<Figure size 432x288 with 25 Axes>"
      ]
     },
     "metadata": {},
     "output_type": "display_data"
    }
   ],
   "source": [
    "displayData(sel)"
   ]
  },
  {
   "cell_type": "markdown",
   "metadata": {},
   "source": [
    "## 1.3 - Vectorizing Logistic Regression"
   ]
  },
  {
   "cell_type": "markdown",
   "metadata": {},
   "source": [
    "In this exercise, we will be using multiple `one-vs-all logistic regression models` to build a `multi-class classifier`. Since there are 10 classes, we will need to train 10 separate logistic regression classifiers. \n",
    "\n",
    "We will reuse our logistic regression code from the last exercise to succed in this exercise. "
   ]
  },
  {
   "cell_type": "markdown",
   "metadata": {},
   "source": [
    "**1.3.1 - Sigmoid function**\n",
    "\n",
    " The sigmoid function  also refered to as `logistic function` or a  `logit` is defined as:\n",
    " $${\\sigma{(z)}} = \\frac{1}{ 1 + {e^{-z}}} \\tag{1}$$\n",
    " \n",
    " where ${z} = {\\theta^T{x}}$. "
   ]
  },
  {
   "cell_type": "code",
   "execution_count": 7,
   "metadata": {},
   "outputs": [],
   "source": [
    "def sigmoid(z):\n",
    "    return 1/(1+ np.exp(-z))"
   ]
  },
  {
   "cell_type": "markdown",
   "metadata": {},
   "source": [
    "**1.3.2 - The 'z' in sigmoid function**\n",
    "\n",
    "The '${z}$' in the sigmoid function in `equation 1` ${z} = {\\theta^T{x}}$ has a vectorized form ${z} = {X\\theta}$. Next we implement this vectorized form of '${z}$'!"
   ]
  },
  {
   "cell_type": "code",
   "execution_count": 8,
   "metadata": {},
   "outputs": [],
   "source": [
    "def z(x, theta):\n",
    "    return np.dot(x,theta)"
   ]
  },
  {
   "cell_type": "markdown",
   "metadata": {},
   "source": [
    "**1.3.3 - Regularized cost function**\n",
    "\n",
    "- `Logistic regression (unregularized)`, the cost function is given by:\n",
    "\n",
    "$${J(\\theta)} = -\\frac{1}{m}{\\sum_{i=1}^m}{\\biggl[{y^{(i)}\\,log\\,{(h_\\theta (x^{(i)})})}  + (1-y)^{(i)}\\,log\\,{(1 - h_\\theta (x^ {(i)})})\\biggl]}\\tag{2}$$\n",
    "\n",
    "     - Its vectorized form(unregularized) as:\n",
    "\n",
    "$$J{(\\theta)} = \\frac{1}{m}{\\biggl[{-y^T\\,log{(h)} -(1-y)^T\\,log{(1 - h)}}\\biggl]}$$\n",
    " "
   ]
  },
  {
   "cell_type": "markdown",
   "metadata": {},
   "source": [
    "- For `regularized logistic regression`, the cost function is defined by adding a second term ${\\frac{\\lambda}{2m}} {\\sum_{j=1}^n} {\\theta_j{^2}}$ as can be seen below:\n",
    "$${J{(\\theta)}} = \\frac{1}{m}{\\sum_{i=1}^m}{\\biggl[{-y^{(i)}\\,log\\,{(h_\\theta (x^{(i)})})}  - (1-y)^{(i)}\\,log\\,{(1 - h_\\theta (x^ {(i)})})\\biggl] + {\\frac{\\lambda}{2m}} {\\sum_{j=1}^n} {\\theta_j{^2}}}  \\tag{3}$$\n",
    "\n",
    "    **Note** that we do not regularize the parameter $\\theta_0$. And $\\lambda$ is a regularization parameter and ${m}$ is the number of training examples."
   ]
  },
  {
   "cell_type": "markdown",
   "metadata": {},
   "source": [
    "    - Its vectorized form (regularized) is given by: \n",
    "\n",
    "$${J{(\\theta)}} = {\\biggl[\\frac{1}{m}{\\biggl({-y^T\\,log{(h)} -(1-y)^T\\,log{(1 - h)}}\\biggl)\\biggl]} + {\\frac{\\lambda}{2m}} {\\sum_{j=1}^n} {\\theta_j{^2}}}$$"
   ]
  },
  {
   "cell_type": "code",
   "execution_count": 9,
   "metadata": {},
   "outputs": [],
   "source": [
    "def costFunction(theta, x, y, Lambda):\n",
    "    m = x.shape[0]\n",
    "    h = z(x, theta)\n",
    "    p = sigmoid(h)\n",
    "    unreg_cost = ((-1/m) * (np.dot(y.T,np.log(p)) + np.dot((1-y).T,np.log(1-p))))\n",
    "    reg_term = (Lambda/(2*m)) * np.sum(np.dot(theta[1:].T,theta[1:]));\n",
    "    cost = unreg_cost + reg_term; # Add the regularization term\n",
    "    return cost "
   ]
  },
  {
   "cell_type": "markdown",
   "metadata": {},
   "source": [
    "**1.3.4 - Regularized gradient function**"
   ]
  },
  {
   "cell_type": "markdown",
   "metadata": {},
   "source": [
    "- For the `unregularized cost function` in `equation 2`, its corresponding gradient (unregularized) is given by:\n",
    "\n",
    "$${\\frac {\\partial J(\\theta)}{\\partial \\theta_j}} = \\frac{1}{m} \\sum_{i=1}^m (h_\\theta(x^{(i)})-y^{(i)})\\,x_j^{(i)} \\tag{4}$$"
   ]
  },
  {
   "cell_type": "markdown",
   "metadata": {},
   "source": [
    "    - Its vectorized form is:\n",
    "$${\\frac {\\partial J(\\theta)}{\\partial \\theta_j}} = \\frac {1}{m}{X^T(\\sigma{(X \\theta) - \\vec y})}$$"
   ]
  },
  {
   "cell_type": "markdown",
   "metadata": {},
   "source": [
    "- For `regularized cost function` ${J(\\theta)}$ given by equation 3, its correspondig gradient is given by: \n",
    "\n",
    "$${\\frac {\\partial J(\\theta)}{\\partial \\theta_0}} = \\frac{1}{m} \\sum_{i=1}^m (h_\\theta(x^{(i)})-y^{(i)})\\,x_j^{(i)}$$\n",
    "           \n",
    "           for j = 0.\n",
    "\n",
    "$$ {\\frac {\\partial J(\\theta)}{\\partial \\theta_j}} = \\biggl(\\frac{1}{m} \\sum_{i=1}^m (h_\\theta(x^{(i)})-y^{(i)})\\,x_j^{(i)}\\biggl)  + {\\frac{\\lambda}{m}} {\\theta_j} \\tag{5}$$\n",
    "\n",
    "  for ${j \\ge 1}$."
   ]
  },
  {
   "cell_type": "markdown",
   "metadata": {},
   "source": [
    "    - Its vectorized form is:\n",
    "$${\\frac {\\partial J(\\theta)}{\\partial \\theta_j}} = \\biggl(\\frac {1}{m}{X^T(\\sigma{(X \\theta) - \\vec y})} \\biggl)  + {\\frac{\\lambda}{m}} {\\theta_j}$$\n",
    "\n",
    "for ${j \\ge 1}$."
   ]
  },
  {
   "cell_type": "code",
   "execution_count": 10,
   "metadata": {},
   "outputs": [],
   "source": [
    "def gradientFunction(theta, x, y, Lambda):\n",
    "    m = x.shape[0];\n",
    "    h = z(x, theta);\n",
    "    p = sigmoid(h);\n",
    "    grad_unreg = (1/m) * np.dot(x.T,(p-y));\n",
    "    temp=theta;\n",
    "    temp[0]=0; #forcing theta(1) to be zero\n",
    "    reg_grad_term= temp * Lambda/m; # Regularisation term for gradient calculation\n",
    "    grad = grad_unreg + reg_grad_term; # Gradient\n",
    "    return grad"
   ]
  },
  {
   "cell_type": "markdown",
   "metadata": {},
   "source": [
    "**1.3.5 - Evaluating the cost and gradient functions**\n",
    "\n",
    "Lets us use the following definitions of a test case: `theta-t`, `X_t`,`y_t`, `Lambda_t` ."
   ]
  },
  {
   "cell_type": "code",
   "execution_count": 11,
   "metadata": {},
   "outputs": [],
   "source": [
    "theta_t = np.array([[-2],[-1],[1],[2]])\n",
    "X_t = np.reshape(np.array(range(1,16)), (3,5)).T/10 \n",
    "X_t = np.insert(X_t,0,1,axis=1)\n",
    "y_t = (np.array([[1],[0],[1],[0],[1]])>= 0.5)\n",
    "Lambda_t = 3;"
   ]
  },
  {
   "cell_type": "markdown",
   "metadata": {},
   "source": [
    "`Run` the following cell to check the cost compute!"
   ]
  },
  {
   "cell_type": "code",
   "execution_count": 12,
   "metadata": {},
   "outputs": [
    {
     "name": "stdout",
     "output_type": "stream",
     "text": [
      "\n",
      "Computed gradient is:\n",
      "\n",
      "[[ 0.14656137]\n",
      " [-0.54855841]\n",
      " [ 0.72472227]\n",
      " [ 1.39800296]]\n",
      "\n",
      "\n",
      "Computed cost is: 2.534819\n"
     ]
    }
   ],
   "source": [
    "cost = costFunction(theta_t, X_t, y_t, Lambda_t)\n",
    "grad = gradientFunction(theta_t, X_t, y_t, Lambda_t)\n",
    "print('\\nComputed gradient is:\\n\\n' + str(grad)+'\\n')\n",
    "print('\\nComputed cost is: %.6f' % (cost))"
   ]
  },
  {
   "cell_type": "markdown",
   "metadata": {},
   "source": [
    "## 1.4 - One-vs-All classification ##"
   ]
  },
  {
   "cell_type": "markdown",
   "metadata": {},
   "source": [
    "Now, we will implement one-vs-all classification by training multiple regularized logistic regression classifiers, one for each of the K classes in our dataset. In the handwritten digits dataset, K = 10, but your code should work for any value of K.\n",
    "\n",
    "In the function `oneVsAll()` below, we train a classiffier for each class in K."
   ]
  },
  {
   "cell_type": "markdown",
   "metadata": {},
   "source": [
    "**INITIAL PARAMETER SETTINGS**"
   ]
  },
  {
   "cell_type": "code",
   "execution_count": 13,
   "metadata": {},
   "outputs": [],
   "source": [
    "Lambda= 0.1 #Lamda hyperparameter\n",
    "num_labels = 10 # Number of labels"
   ]
  },
  {
   "cell_type": "code",
   "execution_count": 14,
   "metadata": {},
   "outputs": [],
   "source": [
    "def oneVsAll(x, y, num_labels, Lambda):\n",
    "    x = np.insert(x,0,1,axis=1)\n",
    "    n = x.shape[1]\n",
    "    all_theta = np.zeros((num_labels, n));\n",
    "    print('\\nInitializing optimization process ...\\n')\n",
    "    for c in range(num_labels):\n",
    "        initial_theta= np.zeros((n, 1));\n",
    "        z = 10 if c == 0 else c\n",
    "        logic_y = np.array([1 if u == z else 0 for u in y])\n",
    "        print(str(c+1) + '. Optimizing for handwritten number %d'% z +' ... DONE')\n",
    "        args=(x,logic_y,Lambda)\n",
    "        x0 = initial_theta\n",
    "        opts = {'maxiter' : None, \n",
    "                'disp' : False, \n",
    "                'gtol' : 1e-5, \n",
    "                'norm' : np.inf,\n",
    "                'eps' : 1.4901161193847656e-08} \n",
    "        result = opt.minimize(costFunction, x0, jac=gradientFunction, args=args, \n",
    "                              method='CG', options=opts)\n",
    "        all_theta[[c],:]= (result.x).T;\n",
    "        \"\"\"\n",
    "        #ALTERNATIVELY YOU CAN USE FMIN_CG\n",
    "        theta_res = opt.fmin_cg(logisticCostFunction, x0, fprime=gradientFunction, args=args, disp=False)\n",
    "        all_theta[[c],:] = theta_res\n",
    "        \"\"\"\n",
    "    print('\\nOPTIMIZATION PROCESS COMPLETED SUCCESSFULLY!!!')\n",
    "    return all_theta"
   ]
  },
  {
   "cell_type": "code",
   "execution_count": 15,
   "metadata": {},
   "outputs": [
    {
     "name": "stdout",
     "output_type": "stream",
     "text": [
      "\n",
      "Initializing optimization process ...\n",
      "\n",
      "1. Optimizing for handwritten number 10 ... DONE\n",
      "2. Optimizing for handwritten number 1 ... DONE\n",
      "3. Optimizing for handwritten number 2 ... DONE\n",
      "4. Optimizing for handwritten number 3 ... DONE\n",
      "5. Optimizing for handwritten number 4 ... DONE\n",
      "6. Optimizing for handwritten number 5 ... DONE\n",
      "7. Optimizing for handwritten number 6 ... DONE\n",
      "8. Optimizing for handwritten number 7 ... DONE\n",
      "9. Optimizing for handwritten number 8 ... DONE\n",
      "10. Optimizing for handwritten number 9 ... DONE\n",
      "\n",
      "OPTIMIZATION PROCESS COMPLETED SUCCESSFULLY!!!\n"
     ]
    }
   ],
   "source": [
    "all_theta = oneVsAll(X, y, num_labels, Lambda)"
   ]
  },
  {
   "cell_type": "markdown",
   "metadata": {},
   "source": [
    "**1.4.1 - One-vs-all Prediction**\n",
    "\n",
    "After training our one-vs-all classifier, we can now use it to predict the digit contained in a given image. For each input, you should compute the \"probability\" that it belongs to each class using the trained logistic regression classifiers."
   ]
  },
  {
   "cell_type": "markdown",
   "metadata": {},
   "source": [
    "The one-vs-all prediction function will pick the class for which the corresponding logistic regression classifier outputs the highest probability and return the class label (1, 2,..., or K) as the prediction for the input example."
   ]
  },
  {
   "cell_type": "code",
   "execution_count": 16,
   "metadata": {},
   "outputs": [],
   "source": [
    "def predictOneVsAll(all_theta, x):\n",
    "    x = np.insert(x,0,1,axis=1) #Add ones to the X data matrix\n",
    "    m = x.shape[0];\n",
    "    num_labels = all_theta.shape[0];\n",
    "    prediction = np.zeros((m, 1));\n",
    "    \n",
    "    pred = z(x, all_theta.T);\n",
    "    h = sigmoid(pred);\n",
    "    prediction = np.argmax(h, axis=1)\n",
    "    prediction[prediction == 0] = 10 # Replacing 0s in prediction vector with 10\n",
    "    return prediction"
   ]
  },
  {
   "cell_type": "code",
   "execution_count": 17,
   "metadata": {},
   "outputs": [
    {
     "name": "stdout",
     "output_type": "stream",
     "text": [
      "\n",
      "Unique elements in Prediction: [ 1  2  3  4  5  6  7  8  9 10]\n",
      "\n"
     ]
    }
   ],
   "source": [
    "prediction = predictOneVsAll(all_theta, X)\n",
    "print('\\nUnique elements in Prediction: %s\\n' %(np.unique(prediction)))"
   ]
  },
  {
   "cell_type": "markdown",
   "metadata": {},
   "source": [
    "** 1.4.2 - Training accuracy**"
   ]
  },
  {
   "cell_type": "code",
   "execution_count": 18,
   "metadata": {},
   "outputs": [
    {
     "name": "stdout",
     "output_type": "stream",
     "text": [
      "\n",
      "Training Accuracy = 96.44%\n",
      "\n"
     ]
    }
   ],
   "source": [
    "prediction = predictOneVsAll(all_theta, X)\n",
    "correct = [1 if a == b else 0 for (a, b) in zip(prediction, y)]\n",
    "accuracy = (sum(map(int, correct)) / float(len(correct)))\n",
    "print('\\nTraining Accuracy = %.2f' % (accuracy * 100)+'%\\n')"
   ]
  },
  {
   "cell_type": "markdown",
   "metadata": {},
   "source": [
    "## PART 2: Neural Networks"
   ]
  },
  {
   "cell_type": "markdown",
   "metadata": {},
   "source": [
    "In the previous part of this exercise, we implemented multi-class logistic regression to recognize handwritten digits. However, logistic regression cannot form more complex hypotheses as it is only a linear classifier. In this part of the exercise, we will implement a neural network to recognize handwritten digits using the same training set as before. The neural network will be able to represent complex models that form non-linear hypotheses."
   ]
  },
  {
   "cell_type": "markdown",
   "metadata": {},
   "source": [
    "**Objective:** \n",
    "- To implement the feedforward propagation algorithm on pretrained weights for prediction."
   ]
  },
  {
   "cell_type": "markdown",
   "metadata": {},
   "source": [
    "**You will learn how to:**\n",
    "- load pretrained weights into a neural network"
   ]
  },
  {
   "cell_type": "markdown",
   "metadata": {},
   "source": [
    "## 2.1 - Model Representation ##"
   ]
  },
  {
   "cell_type": "markdown",
   "metadata": {},
   "source": [
    "Our neural network is as shown in the model representation below. It has `3 layers` - `an input layer`, a `hidden layer` and an `output layer`. Recall that our inputs are pixel values of digit images. Since the images are of size 20x20, this gives us 400 input layer units (excluding the extra bias unit which always outputs +1)."
   ]
  },
  {
   "cell_type": "markdown",
   "metadata": {},
   "source": [
    "![model_representation](images/model_representation.png)"
   ]
  },
  {
   "cell_type": "code",
   "execution_count": 19,
   "metadata": {},
   "outputs": [],
   "source": [
    "input_layer_size  = 400;  # 20x20 Input Images of Digits\n",
    "hidden_layer_size = 25;   # 25 hidden units\n",
    "num_labels = 10;          # 10 labels, from 1 to 10 (note that we have mapped \"0\" to label 10)"
   ]
  },
  {
   "cell_type": "markdown",
   "metadata": {},
   "source": [
    "As before, the training data will be loaded into the variables X and y. We have been provided with a set of network parameters ($\\theta_1$, $\\theta_2$) already pretrained. These are stored in `./data/ex3weights.mat` and will be\n",
    "loaded into `theta1` and `theta2`. These weights(parameters) have dimensions that are sized for a neural network with `25 units` in the second layer and `10 output units` (corresponding to the 10 digit classes) as defined in the cell above."
   ]
  },
  {
   "cell_type": "code",
   "execution_count": 20,
   "metadata": {},
   "outputs": [
    {
     "name": "stdout",
     "output_type": "stream",
     "text": [
      "\n",
      "Neural Network Parameters Successfully Loaded ...\n",
      "\n",
      "Theta1:  (25, 401)\n",
      "\n",
      "Theta2:  (10, 26)\n"
     ]
    }
   ],
   "source": [
    "df = 'data/ex3weights.mat'\n",
    "param = sio.loadmat(df)\n",
    "theta1 = param['Theta1']\n",
    "theta2 = param['Theta2']\n",
    "print('\\nNeural Network Parameters Successfully Loaded ...\\n')\n",
    "# RESULTS CHECK\n",
    "print('Theta1: ', theta1.shape)\n",
    "print('\\nTheta2: ', theta2.shape)"
   ]
  },
  {
   "cell_type": "markdown",
   "metadata": {},
   "source": [
    "## 2.2 - Feedforward Propagation and Prediction##"
   ]
  },
  {
   "cell_type": "markdown",
   "metadata": {},
   "source": [
    "Now we will implement feedforward propagation for the neural network which is represented in the model in section 2.1. This can be implemented by following the steps below:\n",
    "\n",
    "- **Step 1:** Add a column of ones (bias, $x_0^{(1)}$) at index 0 of the input X. Call the resultant, **A1**.\n",
    "\n",
    "        - A1 = np.insert(X,0,1,axis=1);\n",
    "- **Step 2:** Multiply A1 with the transpose of W1, call the resultant, Z2\n",
    "    \n",
    "        - Z2 = np.dot(A1,W1.T);\n",
    " \n",
    "- **Step 3:** Compute activations **A2** by first applying the sigmoid function to Z2 then Add a column of one (bias, $x_0^{(2)}$ at index 0.\n",
    " \n",
    "        - A2=np.insert(sigmoid(Z2),0,1,axis=1)\n",
    "        \n",
    "- **Step 4:** Compute **Z3** by multiplying the **A2** and the transpose of W2.\n",
    "\n",
    "        - Z3= np.dot(A2,W2.T);\n",
    " \n",
    "- **Step 5:**Compute the activations in outer layer by computing the sigmoid of Z3.\n",
    "\n",
    "        - A3=sigmoid(Z3);"
   ]
  },
  {
   "cell_type": "code",
   "execution_count": 21,
   "metadata": {},
   "outputs": [],
   "source": [
    "def predict(Theta1, Theta2, x):   \n",
    "    # Feedforward\n",
    "    a1= np.insert(x,0,1,axis=1)# Adding a column of ones to X\n",
    "    z2= np.dot(a1, Theta1.T);\n",
    "    a2 = np.insert(sigmoid(z2),0,1,axis=1) # Insert ones\n",
    "    z3=np.dot(a2,Theta2.T);\n",
    "    a3=sigmoid(z3);\n",
    "    \n",
    "    return np.argmax(a3, axis=1) + 1"
   ]
  },
  {
   "cell_type": "markdown",
   "metadata": {},
   "source": [
    "We can now compute the training accuracy...."
   ]
  },
  {
   "cell_type": "code",
   "execution_count": 22,
   "metadata": {},
   "outputs": [
    {
     "name": "stdout",
     "output_type": "stream",
     "text": [
      "\n",
      "Training Accuracy = 97.52%\n",
      "\n"
     ]
    }
   ],
   "source": [
    "pred = predict(theta1, theta2, X)\n",
    "correct = [1 if a == b else 0 for (a, b) in zip(pred, y)]\n",
    "accuracy = (sum(map(int, correct)) / float(len(correct)))\n",
    "print('\\nTraining Accuracy = %.2f' % (accuracy * 100)+'%\\n')"
   ]
  }
 ],
 "metadata": {
  "kernelspec": {
   "display_name": "Python 3",
   "language": "python",
   "name": "python3"
  },
  "language_info": {
   "codemirror_mode": {
    "name": "ipython",
    "version": 3
   },
   "file_extension": ".py",
   "mimetype": "text/x-python",
   "name": "python",
   "nbconvert_exporter": "python",
   "pygments_lexer": "ipython3",
   "version": "3.7.3"
  }
 },
 "nbformat": 4,
 "nbformat_minor": 2
}
