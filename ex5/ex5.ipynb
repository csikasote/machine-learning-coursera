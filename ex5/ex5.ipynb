{
 "cells": [
  {
   "cell_type": "markdown",
   "metadata": {},
   "source": [
    "# Programming Exercise 5: Regularized Linear Regression and Bias vs. Variance"
   ]
  },
  {
   "cell_type": "markdown",
   "metadata": {},
   "source": [
    "Welcome to programming exercise 5, Regularized Linear Regression and Bias vs. Variance. In this exercise, we will implement regularized linear regression and use it to study models with different bias-variance properties."
   ]
  },
  {
   "cell_type": "markdown",
   "metadata": {},
   "source": [
    "**Instruction:**\n",
    "- To run code, click on a corresponding cell and press `Shift+Enter` keys simultaneously or Click `Cell -> Run Cell`.\n",
    "\n",
    "**Objective:**\n",
    "- To implement regularized linear regression and use it to understand various bias-vs-variance properties of the model.\n",
    "\n",
    "**You will learn how to:**\n",
    "- Implement regularized linear \n",
    "- trade-off between bias and variance model properties"
   ]
  },
  {
   "cell_type": "markdown",
   "metadata": {},
   "source": [
    "## Import packages ##\n",
    "\n",
    "First lets run the cell below to import all the packages that you will need for this exercise.\n",
    "- [NumPy](http://www.numpy.org) is the fundamental package for scientific computing with Python\n",
    "- [Matplotlib](http://matplotlib.org) is a common library to plot graphs in python.\n",
    "- [Scipy](https://docs.scipy.org/doc/scipy-0.17.0/reference/optimize.html) a python library for optimization functions."
   ]
  },
  {
   "cell_type": "code",
   "execution_count": 1,
   "metadata": {},
   "outputs": [],
   "source": [
    "# Python ≥3.5 is required\n",
    "import sys\n",
    "assert sys.version_info >= (3, 5)\n",
    "\n",
    "# Common imports\n",
    "import numpy as np\n",
    "import scipy.io as sio\n",
    "\n",
    "# For optimization\n",
    "from scipy import optimize as opt\n",
    "\n",
    "# For data plots and visualization\n",
    "%matplotlib inline\n",
    "import matplotlib.pyplot as plt\n",
    "import matplotlib as mpl\n",
    "\n",
    "%load_ext autoreload\n",
    "%autoreload 2"
   ]
  },
  {
   "cell_type": "markdown",
   "metadata": {},
   "source": [
    "## 1 - Regularized Linear Regression"
   ]
  },
  {
   "cell_type": "markdown",
   "metadata": {},
   "source": [
    "In the frst half of the exercise, you will implement regularized linear regression to predict the amount of water flowing out of a dam using the change of water level in a reservoir. In the next half, you will go through some diagnostics of debugging learning algorithms and examine the effects of bias vs. variance."
   ]
  },
  {
   "cell_type": "markdown",
   "metadata": {},
   "source": [
    "### 1.1 - Loading and visualizing the dataset ###\n",
    "\n",
    "We will begin by visualizing the dataset containing historical records on the change in the water level, ${x}$, and the amount of water flowing out of the dam, ${y}$."
   ]
  },
  {
   "cell_type": "markdown",
   "metadata": {},
   "source": [
    "This dataset is divided into three parts:"
   ]
  },
  {
   "cell_type": "markdown",
   "metadata": {},
   "source": [
    "- A training set that your model will learn on: X, y\n",
    "- A cross validation set for determining the regularization parameter: Xval, yval\n",
    "- A test set for evaluating performance. These are \\unseen\" examples which your model did not see during training: Xtest, ytest"
   ]
  },
  {
   "cell_type": "markdown",
   "metadata": {},
   "source": [
    "**In the cell below, we load dataset into various variables**"
   ]
  },
  {
   "cell_type": "code",
   "execution_count": 2,
   "metadata": {},
   "outputs": [],
   "source": [
    "df_path = 'data/ex5data1.mat'\n",
    "data = sio.loadmat(df_path)\n",
    "X_train, y_train, X_test, y_test, X_val, y_val = data['X'], data['y'], data['Xtest'], data['ytest'], data['Xval'],data['yval']"
   ]
  },
  {
   "cell_type": "markdown",
   "metadata": {},
   "source": [
    "After loading the dataset, we can now define a function that we shall use to visualize the training data; `x_train`,`y_ytrain`."
   ]
  },
  {
   "cell_type": "code",
   "execution_count": 3,
   "metadata": {},
   "outputs": [],
   "source": [
    "def plotData(x,y):\n",
    "    plt.plot(x,y,'rx',markersize=10, label='Training Example')\n",
    "    plt.grid(True) #Always plot.grid\n",
    "    plt.ylabel('Water flowing out of the dam (y)')\n",
    "    plt.xlabel('Change in water levels (x)')\n",
    "    plt.title('Figure 1: Training Examples')\n",
    "    plt.axis([-50, 40, -5, 40])\n",
    "    plt.legend()"
   ]
  },
  {
   "cell_type": "code",
   "execution_count": 4,
   "metadata": {},
   "outputs": [
    {
     "data": {
      "image/png": "[encoded data removed]",
      "text/plain": [
       "<Figure size 432x288 with 1 Axes>"
      ]
     },
     "metadata": {
      "needs_background": "light"
     },
     "output_type": "display_data"
    }
   ],
   "source": [
    "plotData(X_train,y_train) # calling the plotData() fucntion"
   ]
  },
  {
   "cell_type": "markdown",
   "metadata": {},
   "source": [
    "### 1.2 - Regularized linear regression cost function##"
   ]
  },
  {
   "cell_type": "markdown",
   "metadata": {},
   "source": [
    "Recall that regularized linear regression has the following cost function:\n",
    "\n",
    "![reg_linear_cost_function](images/reg_linear_cf.png)"
   ]
  },
  {
   "cell_type": "markdown",
   "metadata": {},
   "source": [
    "where $\\lambda$ is a regularization parameter which controls the degree of regularization (thus, help preventing overfitting). The regularization term puts a penalty on the overal cost ${J{(\\theta)}}$.\n",
    "\n",
    "This means as the magnitudes of the model parameters $\\theta_j$ increase, the penalty increases as well. It should be noted that we do not regularize the $\\theta_0$ term."
   ]
  },
  {
   "cell_type": "markdown",
   "metadata": {},
   "source": [
    "Before we implement the regularized cost function, let us first implement the hypothesis function given by: $h_\\theta {(x)} = {X\\theta}$."
   ]
  },
  {
   "cell_type": "code",
   "execution_count": 5,
   "metadata": {},
   "outputs": [],
   "source": [
    "#PREDICTION FUNCTION FOR THE HYPOTHESIS\n",
    "def hypothesisFunction(x, theta):\n",
    "    return np.dot(x,theta)"
   ]
  },
  {
   "cell_type": "markdown",
   "metadata": {},
   "source": [
    "Now we can implement the regularized linear cost function.."
   ]
  },
  {
   "cell_type": "code",
   "execution_count": 6,
   "metadata": {},
   "outputs": [],
   "source": [
    "def linearRegCostFunction(x, y, theta,Lambda):\n",
    "    m = x.shape[0]; # number of training examples\n",
    "    h = hypothesisFunction(x,theta) # (12,2).(2,1) =(12,1)\n",
    "    error = h-y;\n",
    "    error_sqrd = np.square(error);\n",
    "    sum_error_sqrd = np.sum(error_sqrd) \n",
    "    unreg_cost =(1/(2*m)) * sum_error_sqrd;\n",
    "    temp = np.ones((theta.shape[0],1))\n",
    "    temp[0,0] = 0\n",
    "    reg_term = (Lambda/(2*m)) * np.sum(np.square(np.multiply(temp, theta)))\n",
    "    cost = unreg_cost + reg_term\n",
    "    return cost"
   ]
  },
  {
   "cell_type": "markdown",
   "metadata": {},
   "source": [
    "We can evaluate our cost function by first adding a column of ones to the input data X_train."
   ]
  },
  {
   "cell_type": "code",
   "execution_count": 7,
   "metadata": {},
   "outputs": [
    {
     "name": "stdout",
     "output_type": "stream",
     "text": [
      "The shape of X is : (12, 2)\n"
     ]
    }
   ],
   "source": [
    "X = np.insert(X_train,0,1,axis=1)  #ADD A COLUMN OF ONES TO X (FOR X0 = 1) \n",
    "Xval = np.insert(X_val,0,1,axis=1) #ADD A COLUMN OF ONES TO Xval (FOR X0 = 1)\n",
    "(m,n) = X.shape #Shape of X after adding a column of ones\n",
    "theta_test =np.array([[1],[1]]) # THETA IS OF (2,1) DIMENSION\n",
    "print('The shape of X is :', X.shape);"
   ]
  },
  {
   "cell_type": "code",
   "execution_count": 8,
   "metadata": {},
   "outputs": [
    {
     "name": "stdout",
     "output_type": "stream",
     "text": [
      "\n",
      "Computed cost at theta [[1],[1]]: 303.993192 \n"
     ]
    }
   ],
   "source": [
    "cost = linearRegCostFunction(X, y_train, theta_test, Lambda=1)\n",
    "print('\\nComputed cost at theta [[1],[1]]: %6f '% (cost));"
   ]
  },
  {
   "cell_type": "markdown",
   "metadata": {},
   "source": [
    "### 1.3 - Regularized gradient function ##\n",
    "\n",
    "Correspondingly, the partial derivative of regularized linear regression's cost for ${J{(\\theta)}}$ is defined as:\n",
    "\n",
    "![reg_gradient_fucntion](images/reg_gradient_function.png)"
   ]
  },
  {
   "cell_type": "markdown",
   "metadata": {},
   "source": [
    "We now implement the gradient function, `linearRegGradientFunction()`..."
   ]
  },
  {
   "cell_type": "code",
   "execution_count": 9,
   "metadata": {},
   "outputs": [],
   "source": [
    "def linearRegGradientFunction(x, y, theta,Lambda):\n",
    "    m = x.shape[0];# # number of training examples\n",
    "    h = np.dot(x,theta); # (12,1)\n",
    "    error = h - y; #(12,1)\n",
    "    unreg_grad = (1/m) * np.dot(x.T,error); # (2,12).(12,1) = (2,1)\n",
    "    temp = np.ones((theta.shape[0],1))\n",
    "    temp[0,0] = 0.0\n",
    "    reg_term = (Lambda/m) * np.multiply(temp,theta)\n",
    "    grad = unreg_grad + reg_term\n",
    "    return grad"
   ]
  },
  {
   "cell_type": "markdown",
   "metadata": {},
   "source": [
    "Like the cost function, let us evaluate the gradient function we just implemented at theta [[1],[1]]."
   ]
  },
  {
   "cell_type": "code",
   "execution_count": 10,
   "metadata": {},
   "outputs": [
    {
     "name": "stdout",
     "output_type": "stream",
     "text": [
      "\n",
      "Gradient at theta [[1],[1]]: [-15.30301567 598.25074417]\n",
      "\n"
     ]
    }
   ],
   "source": [
    "grad = linearRegGradientFunction(X, y_train, theta_test,Lambda=1);\n",
    "print('\\nGradient at theta [[1],[1]]:',str(grad[:,0]) +'\\n')"
   ]
  },
  {
   "cell_type": "markdown",
   "metadata": {},
   "source": [
    "### 1.4 - Fitting linear regression ##"
   ]
  },
  {
   "cell_type": "markdown",
   "metadata": {},
   "source": [
    "Now that our cost function and gradient are working correctly, we need to implement a `trainLinearReg()` to compute the optimal values $\\Theta$. This training function uses `fmin_cg` to optimize the cost function.\n",
    "\n",
    "In this part, we set regularization parameter $\\lambda$ to zero. Because our current implementation of linear regression is trying to fit a 2-dimensional $\\theta$, regularization will not be incredibly helpful for a $\\theta$ of such low dimension."
   ]
  },
  {
   "cell_type": "code",
   "execution_count": 11,
   "metadata": {},
   "outputs": [],
   "source": [
    "def trainLinearReg(x, y, Lambda):\n",
    "    \n",
    "    # initialize Theta\n",
    "    initial_theta = np.zeros((x.shape[1], 1))\n",
    "    \n",
    "    # create cost and grad functions\n",
    "    cost = lambda t: linearRegCostFunction(x, y, t.reshape(-1,1), Lambda)\n",
    "    grad = lambda t: linearRegGradientFunction(x, y, t.reshape(-1,1), Lambda).flatten()\n",
    "    \n",
    "    # minimize using fmincg\n",
    "    theta = opt.fmin_cg(cost, initial_theta.T, fprime=grad, maxiter=200, disp=False)\n",
    "\n",
    "    return theta.reshape(-1,1)"
   ]
  },
  {
   "cell_type": "code",
   "execution_count": 12,
   "metadata": {},
   "outputs": [
    {
     "name": "stdout",
     "output_type": "stream",
     "text": [
      "Computed theta :\n",
      " [[13.08790351]\n",
      " [ 0.36777923]] \n"
     ]
    }
   ],
   "source": [
    "theta = trainLinearReg(X, y_train, Lambda=0);\n",
    "print('Computed theta :\\n %s '% (str(theta)))"
   ]
  },
  {
   "cell_type": "markdown",
   "metadata": {},
   "source": [
    "Finally, based on the computed theta values, we can plot the best fit line. The best fit line tells us that the model is\n",
    "not a good fit to the data because the data has a non-linear pattern. While visualizing the best fit as plotted is one possible way to debug your learning algorithm, it is not always easy to visualize the data and model."
   ]
  },
  {
   "cell_type": "code",
   "execution_count": 13,
   "metadata": {},
   "outputs": [],
   "source": [
    "def plotLinearFit(x,y,h):\n",
    "    fig, ax = plt.subplots()\n",
    "    ax.plot(x,y,'rx',markersize=10, label='Training Example')\n",
    "    ax.plot(x,h,'b-',label = 'Hypothesis: h(x) = %0.2f + %0.2fx'%(theta[0],theta[1]))\n",
    "    ax.grid(True)\n",
    "    ax.set_ylabel('Water flowing out of the dam (y)')\n",
    "    ax.set_xlabel('Change in water levels (x)')\n",
    "    titlestr = 'Hypothesis Function: Y = %.2f + %.2fX' % (theta[0], theta[1])\n",
    "    plt.title(titlestr)\n",
    "    plt.legend()\n",
    "    plt.axis([-50, 40, -5, 40])\n",
    "    plt.show()"
   ]
  },
  {
   "cell_type": "code",
   "execution_count": 14,
   "metadata": {},
   "outputs": [
    {
     "data": {
      "image/png": "[encoded data removed]",
      "text/plain": [
       "<Figure size 432x288 with 1 Axes>"
      ]
     },
     "metadata": {
      "needs_background": "light"
     },
     "output_type": "display_data"
    }
   ],
   "source": [
    "h = hypothesisFunction(X,theta)\n",
    "plotLinearFit(X_train, y_train,h)"
   ]
  },
  {
   "cell_type": "markdown",
   "metadata": {},
   "source": [
    "## Part 2: Bias - Variance Trade-Off"
   ]
  },
  {
   "cell_type": "markdown",
   "metadata": {},
   "source": [
    "An important concept in machine learning is the bias-variance tradeoff. Models with high bias are not complex enough for the data and tend to underfit, while models with high variance overfit to the training data."
   ]
  },
  {
   "cell_type": "markdown",
   "metadata": {},
   "source": [
    "In this part of the exercise, you will plot training and test errors on a learning curve to diagnose bias-variance problems."
   ]
  },
  {
   "cell_type": "markdown",
   "metadata": {},
   "source": [
    "### 2.1 - Learning curves ###\n",
    "\n",
    "We will now implement code to generate the learning curves that will be useful in debugging learning algorithms. Recall that a learning curve plots training and cross validation error as a function of training set size.\n",
    "\n",
    "To plot the learning curve, we need a training and cross validation set error for different training set sizes. To obtain different training set sizes, you should use different subsets of the original training set X.\n",
    "\n",
    "Specifically, for a training set size of i, you should use the first i examples (i.e., X[:i, :] and y[1:i])."
   ]
  },
  {
   "cell_type": "markdown",
   "metadata": {},
   "source": [
    "We use the `trainLinearReg()` to compute the $\\theta$ parameters. It should be noted that:\n",
    "\n",
    "- the $\\lambda$ is passed as a parameter to the `learningCurve()` function.\n",
    "- After learning the $\\theta$ parameters, you should compute the error on the training and cross validation sets.\n",
    "\n",
    "Recall that the training error for a dataset is defined as:\n",
    "![training_error](images/training_error.png)"
   ]
  },
  {
   "cell_type": "markdown",
   "metadata": {},
   "source": [
    "In particular, note that the training error does not include the regularization term. Therefore, one way to compute the training error is to use your existing cost function and set $\\lambda$ to zero (0) only when using it to compute the training error and cross validation error."
   ]
  },
  {
   "cell_type": "markdown",
   "metadata": {},
   "source": [
    "When we are computing the training set error, we make sure we compute it on the training subset (i.e., X[1:n,:] and y[1:n])\n",
    "(instead of the entire training set). However, for the cross validation error, we should compute it over the entire cross validation set. Then, we should store the computed errors in the vectors `error train` and `error val`."
   ]
  },
  {
   "cell_type": "code",
   "execution_count": 15,
   "metadata": {},
   "outputs": [],
   "source": [
    "def learningCurve(Xtrain, ytrain, Xval, yval, Lambda):\n",
    "    \n",
    "    m = Xtrain.shape[0]\n",
    "    \n",
    "    # You need to return these values correctly\n",
    "    error_train = np.zeros((m, 1));\n",
    "    error_val   = np.zeros((m, 1));\n",
    "    \n",
    "    for i, j in enumerate(range(1,m+1)):\n",
    "        theta = trainLinearReg(Xtrain[0:j,:], ytrain[:j,:], Lambda);\n",
    "        error_train[i] = linearRegCostFunction(Xtrain[:j,:], ytrain[:j,:], theta, 0);\n",
    "        error_val[i] = linearRegCostFunction(Xval, yval, theta, 0);\n",
    "    return error_train, error_val"
   ]
  },
  {
   "cell_type": "code",
   "execution_count": 16,
   "metadata": {},
   "outputs": [
    {
     "name": "stdout",
     "output_type": "stream",
     "text": [
      "# Training Examples\tTrain Error\tCross Validation Error\n",
      "\n",
      "  \t1\t\t0.000000\t205.121096\n",
      "\n",
      "  \t2\t\t0.000000\t110.300366\n",
      "\n",
      "  \t3\t\t3.286595\t45.010232\n",
      "\n",
      "  \t4\t\t2.842678\t48.368911\n",
      "\n",
      "  \t5\t\t13.154049\t35.865141\n",
      "\n",
      "  \t6\t\t19.443963\t33.829957\n",
      "\n",
      "  \t7\t\t20.098522\t31.970987\n",
      "\n",
      "  \t8\t\t18.172859\t30.862446\n",
      "\n",
      "  \t9\t\t22.609405\t31.135998\n",
      "\n",
      "  \t10\t\t23.261462\t28.936207\n",
      "\n",
      "  \t11\t\t24.317250\t29.551432\n",
      "\n",
      "  \t12\t\t22.373906\t29.433818\n",
      "\n"
     ]
    }
   ],
   "source": [
    "error_train, error_val = learningCurve(X, y_train, Xval, y_val, Lambda=0)\n",
    "\n",
    "print('# Training Examples\\tTrain Error\\tCross Validation Error\\n');\n",
    "for i in range(0, m):\n",
    "    print('  \\t%d\\t\\t%f\\t%f\\n' % (i+1, error_train[i], error_val[i]));\n"
   ]
  },
  {
   "cell_type": "code",
   "execution_count": 17,
   "metadata": {},
   "outputs": [
    {
     "name": "stdout",
     "output_type": "stream",
     "text": [
      "\n",
      " Plotting the Learning curves for Linear Regression ... \n",
      "\n"
     ]
    },
    {
     "data": {
      "image/png": "[encoded data removed]",
      "text/plain": [
       "<Figure size 432x288 with 1 Axes>"
      ]
     },
     "metadata": {
      "needs_background": "light"
     },
     "output_type": "display_data"
    }
   ],
   "source": [
    "print('\\n Plotting the Learning curves for Linear Regression ... \\n')\n",
    "plt.plot(range(1,m+1),error_train,'b-o', label='Train')\n",
    "plt.plot(range(1,m+1),error_val,'r-o', label='Cross Validation')\n",
    "plt.xlabel('Number of training examples')\n",
    "plt.ylabel('Error')\n",
    "plt.title('Linear Regression Learning Curve (%s = %d)' % (r'$\\lambda$',0));\n",
    "plt.legend()\n",
    "plt.grid(True)\n",
    "plt.show()"
   ]
  },
  {
   "cell_type": "markdown",
   "metadata": {},
   "source": [
    "It can be observed that both the train error and cross validation error are high when the number of training examples is increased. This reflects a `high bias` problem in the model - the linear regression model is too simple and is unable to fit our dataset well."
   ]
  },
  {
   "cell_type": "markdown",
   "metadata": {},
   "source": [
    "## Part 3 - Polynomial regression ##"
   ]
  },
  {
   "cell_type": "markdown",
   "metadata": {},
   "source": [
    "In the this section, we will attempt to implement polynomial regression to fit a better model for this dataset."
   ]
  },
  {
   "cell_type": "markdown",
   "metadata": {},
   "source": [
    "The problem with our linear model was that it was too simple for the data and resulted in `underfitting (high bias)`. In this part of the exercise, you will address this problem by adding more features."
   ]
  },
  {
   "cell_type": "markdown",
   "metadata": {},
   "source": [
    "For use polynomial regression, our hypothesis has the form:\n",
    "![polynomial_reg](images/polynomial_reg.png)"
   ]
  },
  {
   "cell_type": "markdown",
   "metadata": {},
   "source": [
    "Notice that by defining ${x_1} = {(waterLevel)}$, ${x_2} = {(waterLevel)^2}$, ..., ${x_p} = {(waterLevel)^p}$, we obtain a linear regression model where the features are the various powers of the original value (waterLevel). Now, you will add more features using the higher powers of the existing feature x in the dataset."
   ]
  },
  {
   "cell_type": "markdown",
   "metadata": {},
   "source": [
    "Our task is to implement a function `polyFeatures()` so that the function maps the original training set X of size\n",
    "mx1 into its higher powers. Specifically, when a training set X of size mx1 is passed into the function, the function should return a mxp matrix `X_poly`, where column 1 holds the original values of X, column 2 holds the values of ${X^2}$, column 3 holds the values of ${X^3}$, and so on. Note that you don't have to account for the zero-eth power in this function."
   ]
  },
  {
   "cell_type": "code",
   "execution_count": 18,
   "metadata": {},
   "outputs": [],
   "source": [
    "def polyFeatures(x, p):\n",
    "    X_poly = np.zeros((x.size, p)) # We need X_poly to be of dimension (m,p)\n",
    "    X_poly[:,0] = x[:,0] # We set the first column of the X_poly to be the column vector of X.\n",
    "    for i in range(1,p):\n",
    "        X_poly[:,i] = np.power(x[:,0],i+1); \n",
    "    return X_poly"
   ]
  },
  {
   "cell_type": "markdown",
   "metadata": {},
   "source": [
    "### 3.1 - Learning Polynomial Regression###\n",
    "\n",
    "After completing `polyFeatures()` function, will proceed to train polynomial regression using our already defined linear regression cost function."
   ]
  },
  {
   "cell_type": "markdown",
   "metadata": {},
   "source": [
    "Keep in mind that even though we have polynomial terms in our feature vector, we are still solving a linear regression optimization problem. The polynomial terms have simply turned into features that we can use for linear regression. We are using the same cost function and gradient that we wrote for the earlier part of this exercise."
   ]
  },
  {
   "cell_type": "markdown",
   "metadata": {},
   "source": [
    "For this part of the exercise, we will be using a polynomial of degree 8. It turns out that if we run the training directly on the projected data, will not work well as the features would be badly scaled (e.g., an example with x = 40 will now have a feature $x^8 = 408 = 6.5 x 10^{12}$). Therefore, we will need to use `feature normalization`."
   ]
  },
  {
   "cell_type": "markdown",
   "metadata": {},
   "source": [
    "This means that before learning the parameters $\\theta$ for the polynomial regression, we will need to first implement a function `featureNormalize()` and normalize the features of the training set, storing the mean $\\mu$, standard deviation $\\sigma$ parameters separately"
   ]
  },
  {
   "cell_type": "code",
   "execution_count": 19,
   "metadata": {},
   "outputs": [],
   "source": [
    "'''\n",
    "def featureNormalize(x, mu=None, sigma=None):\n",
    "    if mu is None:\n",
    "        mu = np.mean(x, axis = 0);\n",
    "    if sigma is None:\n",
    "        sigma = np.std(x, ddof=1, axis = 0);\n",
    "    \n",
    "    x_norm = (x - mu)/sigma\n",
    "    return x_norm, mu, sigma\n",
    "'''\n",
    "def featureNormalize(x):\n",
    "    # Computing the Mean and STD of x\n",
    "    mu = np.mean(x, axis=0, keepdims=True);\n",
    "    sigma = np.std(x,ddof=1, axis = 0, keepdims=True);\n",
    "    # Normalize X \n",
    "    X_norm = (x - mu)/sigma\n",
    "    return X_norm, mu, sigma"
   ]
  },
  {
   "cell_type": "markdown",
   "metadata": {},
   "source": [
    "Now we can find polynomial expressions of the `X_train`, `X_val` and `X_test` for the polynomial degree of 8."
   ]
  },
  {
   "cell_type": "code",
   "execution_count": 20,
   "metadata": {},
   "outputs": [
    {
     "name": "stdout",
     "output_type": "stream",
     "text": [
      "\n",
      "===========================================================================\n",
      "# Map X_train onto Polynomial Features and Normalize\n",
      "===========================================================================\n",
      "\n",
      "The dimension of X_poly_train is (12, 9)\n",
      "\n",
      "Normalized Training Example 1:\n",
      " [ 1.         -0.36214078 -0.75508669  0.18222588 -0.70618991  0.30661792\n",
      " -0.59087767  0.3445158  -0.50848117]\n",
      "\n",
      "===========================================================================\n",
      "# Map Xval onto Polynomial Features and Normalize(using mu_train and sigma_train)\n",
      "===========================================================================\n",
      "\n",
      "The dimension of X_poly_val is (21, 9)\n",
      "\n",
      "Normalized Validation Example 1:\n",
      " [ 1.         -0.38916543 -0.72149541  0.16876064 -0.69803716  0.30354037\n",
      " -0.58940525  0.34396872 -0.50824813]\n",
      "\n",
      "===========================================================================\n",
      "# Map Xtest onto Polynomial Features and Normalize(using mu_train and sigma_train)\n",
      "===========================================================================\n",
      "\n",
      "The dimension of X_poly_test is (21, 9)\n",
      "\n",
      "Normalized Test Example 1:\n",
      " [ 1.         -0.94220394  0.33149914 -0.50128942 -0.03307354 -0.11950565\n",
      " -0.24013304  0.11556833 -0.33419137]\n",
      "\n",
      "==================================== DONE =================================\n"
     ]
    }
   ],
   "source": [
    "print('\\n===========================================================================')\n",
    "print('# Map X_train onto Polynomial Features and Normalize')\n",
    "print('===========================================================================')\n",
    "X_poly_train = polyFeatures(X_train, p=8)\n",
    "X_poly_train, mu_train, sigma_train = featureNormalize(X_poly_train)\n",
    "X_poly_train = np.insert(X_poly_train,0,1,axis=1) #Add one the X_poly_train\n",
    "print('\\nThe dimension of X_poly_train is ' + str(X_poly_train.shape)+'\\n')\n",
    "print('Normalized Training Example 1:\\n', X_poly_train[0, :]);\n",
    "print('\\n===========================================================================')\n",
    "print('# Map Xval onto Polynomial Features and Normalize(using mu_train and sigma_train)')\n",
    "print('===========================================================================')\n",
    "X_poly_val = polyFeatures(X_val, p=8);\n",
    "X_poly_val = (X_poly_val - mu_train)/sigma_train\n",
    "X_poly_val = np.insert(X_poly_val,0,1,axis=1) #Add one the X_poly_val\n",
    "print('\\nThe dimension of X_poly_val is ' + str(X_poly_val.shape)+ '\\n')\n",
    "print('Normalized Validation Example 1:\\n', X_poly_val[0, :]);\n",
    "print('\\n===========================================================================')\n",
    "print('# Map Xtest onto Polynomial Features and Normalize(using mu_train and sigma_train)')\n",
    "print('===========================================================================')\n",
    "X_poly_test = polyFeatures(X_test, p=8);\n",
    "X_poly_test = (X_poly_test - mu_train)/sigma_train\n",
    "X_poly_test = np.insert(X_poly_test,0,1,axis=1) #Add one the X_poly_test\n",
    "print('\\nThe dimension of X_poly_test is ' + str(X_poly_test.shape)+ '\\n')\n",
    "print('Normalized Test Example 1:\\n', X_poly_test[0, :]);\n",
    "print('\\n==================================== DONE =================================')"
   ]
  },
  {
   "cell_type": "markdown",
   "metadata": {},
   "source": [
    "The function `plotFit()` below plots the polynomial regression on the sample data."
   ]
  },
  {
   "cell_type": "code",
   "execution_count": 21,
   "metadata": {},
   "outputs": [],
   "source": [
    "def plotFit(min_x, max_x, mu, sigma, theta, p):\n",
    "    x = np.arange(min_x-15, max_x+25, 0.05)\n",
    "    x = np.reshape(x, (len(x), 1))\n",
    "\n",
    "    # Map the X values \n",
    "    x_poly_train = polyFeatures(x, p);\n",
    "    #x_poly_train, _ , _ = featureNormalize(x_poly_train)\n",
    "    x_poly_train = (x_poly_train - mu)/sigma;\n",
    "    #x_poly_train = x_poly_train/sigma;\n",
    "    x_poly_train = np.insert(x_poly_train,0,1,axis=1)\n",
    "\n",
    "    # Plot the polynomial regression\n",
    "    h = hypothesisFunction(x_poly_train, theta)\n",
    "    plt.plot(x, h, 'b--')"
   ]
  },
  {
   "cell_type": "markdown",
   "metadata": {},
   "source": [
    "At this tage of the exercise, we can now evaluate our implementations. So far we have implemented:\n",
    "- `polyFeatures()` for mapping feature input featurs onto polynomial features with a specified degree.\n",
    "- `featureNormalize(x)` for normalizing the resultant polynomial features\n",
    "- `plotFit()` for plotting and fitting polynomial regression"
   ]
  },
  {
   "cell_type": "markdown",
   "metadata": {},
   "source": [
    "Let us begin by first learning the parameters $\\theta$ for polynomial regression with $\\lambda = 0$"
   ]
  },
  {
   "cell_type": "code",
   "execution_count": 22,
   "metadata": {},
   "outputs": [
    {
     "name": "stdout",
     "output_type": "stream",
     "text": [
      "# Training Examples\tTrain Error\tCross Validation Error\n",
      "\n",
      "  \t1\t\t0.000000\t160.721900\n",
      "\n",
      "  \t2\t\t0.000000\t160.121510\n",
      "\n",
      "  \t3\t\t0.000000\t61.755005\n",
      "\n",
      "  \t4\t\t0.000000\t61.928895\n",
      "\n",
      "  \t5\t\t0.000000\t6.598036\n",
      "\n",
      "  \t6\t\t0.000000\t10.642456\n",
      "\n",
      "  \t7\t\t0.008644\t16.627851\n",
      "\n",
      "  \t8\t\t0.059237\t7.732426\n",
      "\n",
      "  \t9\t\t0.024436\t19.564309\n",
      "\n",
      "  \t10\t\t0.067292\t9.062371\n",
      "\n",
      "  \t11\t\t0.034405\t30.950193\n",
      "\n",
      "  \t12\t\t0.087945\t8.289569\n",
      "\n"
     ]
    }
   ],
   "source": [
    "# Fit the polynomial Features\n",
    "theta = trainLinearReg(X_poly_train, y_train, Lambda=0);\n",
    "error_train, error_val = learningCurve(X_poly_train, y_train, X_poly_val, y_val, Lambda=0);\n",
    "print('# Training Examples\\tTrain Error\\tCross Validation Error\\n');\n",
    "for i in range(0, m):\n",
    "    print('  \\t%d\\t\\t%f\\t%f\\n' % (i+1, error_train[i], error_val[i]));"
   ]
  },
  {
   "cell_type": "code",
   "execution_count": 23,
   "metadata": {},
   "outputs": [
    {
     "data": {
      "image/png": "[encoded data removed]",
      "text/plain": [
       "<Figure size 1080x288 with 2 Axes>"
      ]
     },
     "metadata": {
      "needs_background": "light"
     },
     "output_type": "display_data"
    }
   ],
   "source": [
    "plt.figure(figsize=(15, 4))   \n",
    "\n",
    "plt.subplot(1, 2, 1)\n",
    "plt.plot(X_train,y_train,'rx',markersize=10, label='Training Example')\n",
    "plotFit(X_train.min(), X_train.max(), mu_train, sigma_train, theta, p=8)\n",
    "plt.xlabel('Change in water level (x)');\n",
    "plt.ylabel('Water flowing out of the dam (y)');\n",
    "titlestr = 'Polynomial Regression Fit (%s = %d)' % (r'$\\lambda$',0)\n",
    "plt.title(titlestr)\n",
    "plt.grid(True)\n",
    "plt.axis([-100,100,-100,100])\n",
    "plt.legend()\n",
    "\n",
    "plt.subplot(1, 2, 2)\n",
    "plt.plot(range(1, m + 1), error_train, 'b-o', label='Train')\n",
    "plt.plot(range(1, m + 1), error_val,'r-o', label='Cross Validation')\n",
    "plt.xlabel('# of training examples')\n",
    "plt.ylabel('Error')\n",
    "plt.title('Polynomial Regression Learning Curve (%s = %d)' % (r'$\\lambda$',0));\n",
    "plt.grid(True)\n",
    "plt.legend()\n",
    "plt.axis([0,14,-20,100])\n",
    "plt.show()"
   ]
  },
  {
   "cell_type": "markdown",
   "metadata": {},
   "source": [
    "From the first plot above, `Polynomial Regression Fit`, we can see that the polynomial fit is able to follow the datapoints very well - thus, obtaining a low training error. However, the polynomial fit is very complex and even drops off at the extremes. This is an indicator that the polynomial regression model is overfitting the training data and will not generalize well."
   ]
  },
  {
   "cell_type": "markdown",
   "metadata": {},
   "source": [
    "To better understand the problems with the unregularized ($\\lambda$ = 0) model, we observe from second plot that the learning curve (on the right) shows the same effect where the low training error is low, but the cross validation error is high. There is a gap between the training and cross validation errors, indicating a `high variance` problem."
   ]
  },
  {
   "cell_type": "markdown",
   "metadata": {},
   "source": [
    "In order to combat the overfitting (high-variance) problem is to add regularization to the model. Therefore, in the next section, we will get to try different $\\lambda$ parameters to see how regularization can lead to a better model."
   ]
  },
  {
   "cell_type": "markdown",
   "metadata": {},
   "source": [
    "### 3.2 - Optional (ungraded) exercise: Adjusting the regularization parameter"
   ]
  },
  {
   "cell_type": "markdown",
   "metadata": {},
   "source": [
    "In this section, we will get to observe how the regularization parameter affects the bias-variance of regularized polynomial regression. Our task is to  try modify and try different values of $\\lambda$ - say 1 and 100. For each value, we should generate a polynomial fir and the learning curve"
   ]
  },
  {
   "cell_type": "markdown",
   "metadata": {},
   "source": [
    "**3.2.1 - Regularizing with $\\lambda = 1$**"
   ]
  },
  {
   "cell_type": "code",
   "execution_count": 24,
   "metadata": {},
   "outputs": [
    {
     "name": "stdout",
     "output_type": "stream",
     "text": [
      "# Training Examples\tTrain Error\tCross Validation Error\n",
      "\n",
      "  \t1\t\t0.000000\t138.846777\n",
      "\n",
      "  \t2\t\t0.045769\t143.523394\n",
      "\n",
      "  \t3\t\t2.911375\t5.534713\n",
      "\n",
      "  \t4\t\t1.499413\t6.609883\n",
      "\n",
      "  \t5\t\t1.199178\t6.634112\n",
      "\n",
      "  \t6\t\t0.924511\t8.291998\n",
      "\n",
      "  \t7\t\t1.540892\t5.737148\n",
      "\n",
      "  \t8\t\t1.422968\t5.516434\n",
      "\n",
      "  \t9\t\t1.553726\t6.239793\n",
      "\n",
      "  \t10\t\t1.441565\t5.983045\n",
      "\n",
      "  \t11\t\t1.308148\t6.043763\n",
      "\n",
      "  \t12\t\t2.076186\t4.260629\n",
      "\n"
     ]
    }
   ],
   "source": [
    "theta = trainLinearReg(X_poly_train, y_train, Lambda=1);\n",
    "error_train, error_val = learningCurve(X_poly_train, y_train, X_poly_val, y_val, Lambda=1);\n",
    "print('# Training Examples\\tTrain Error\\tCross Validation Error\\n');\n",
    "for i in range(0, m):\n",
    "    print('  \\t%d\\t\\t%f\\t%f\\n' % (i+1, error_train[i], error_val[i]));\n"
   ]
  },
  {
   "cell_type": "code",
   "execution_count": 25,
   "metadata": {},
   "outputs": [
    {
     "data": {
      "image/png": "[encoded data removed]",
      "text/plain": [
       "<Figure size 1080x288 with 2 Axes>"
      ]
     },
     "metadata": {
      "needs_background": "light"
     },
     "output_type": "display_data"
    }
   ],
   "source": [
    "plt.figure(figsize=(15, 4))\n",
    "plt.subplot(1, 2, 1)\n",
    "plt.plot(X_train,y_train,'rx',markersize=10, label='Training Example')\n",
    "plotFit(np.min(X_train), np.max(X_train), mu_train, sigma_train, theta, p=8)\n",
    "plt.xlabel('Change in water level (x)');\n",
    "plt.ylabel('Water flowing out of the dam (y)');\n",
    "titlestr = 'Polynomial Regression Fit (%s = %d)' % (r'$\\lambda$',1)\n",
    "plt.title(titlestr)\n",
    "plt.grid(True)\n",
    "plt.legend()\n",
    "plt.axis([-80,80,0,160])\n",
    "\n",
    "\n",
    "plt.subplot(1, 2, 2)\n",
    "plt.plot(range(1, m + 1), error_train, 'b-o',label='Train')\n",
    "plt.plot(range(1, m + 1), error_val,'r-o', label='Cross Validation')\n",
    "plt.xlabel('# of training examples')\n",
    "plt.ylabel('Error')\n",
    "plt.title('Polynomial Regression Learning Curve (%s = %d)' % (r'$\\lambda$',1));\n",
    "plt.legend()\n",
    "plt.grid(True)\n",
    "plt.axis([0,14,0,100])\n",
    "plt.show()"
   ]
  },
  {
   "cell_type": "markdown",
   "metadata": {},
   "source": [
    "For $\\lambda = 1$, we can see a polynomial fit that follows the data trend well (left plot) and a learning curve (right plot) showing that both the cross validation and training error converge to a relatively low value. This shows the $\\lambda = 1$ regularized polynomial regression model does not have the high-bias or high-variance problems. In effect, it achieves a good trade-off between bias and variance."
   ]
  },
  {
   "cell_type": "markdown",
   "metadata": {},
   "source": [
    "**3.2.2 - Regularizing with $\\lambda = 100$**"
   ]
  },
  {
   "cell_type": "code",
   "execution_count": 26,
   "metadata": {},
   "outputs": [
    {
     "name": "stdout",
     "output_type": "stream",
     "text": [
      "# Training Examples\tTrain Error\tCross Validation Error\n",
      "\n",
      "  \t1\t\t0.000000\t138.846816\n",
      "\n",
      "  \t2\t\t0.114107\t144.125231\n",
      "\n",
      "  \t3\t\t106.956568\t70.863270\n",
      "\n",
      "  \t4\t\t121.740879\t78.372963\n",
      "\n",
      "  \t5\t\t102.949462\t63.845048\n",
      "\n",
      "  \t6\t\t97.169847\t59.532626\n",
      "\n",
      "  \t7\t\t83.326538\t59.585493\n",
      "\n",
      "  \t8\t\t76.491825\t58.699842\n",
      "\n",
      "  \t9\t\t71.297179\t59.564463\n",
      "\n",
      "  \t10\t\t64.350636\t59.731344\n",
      "\n",
      "  \t11\t\t58.997945\t60.409872\n",
      "\n",
      "  \t12\t\t57.977075\t57.842190\n",
      "\n"
     ]
    }
   ],
   "source": [
    "theta = trainLinearReg(X_poly_train, y_train, Lambda=100);\n",
    "error_train, error_val = learningCurve(X_poly_train, y_train, X_poly_val, y_val, Lambda=100);\n",
    "print('# Training Examples\\tTrain Error\\tCross Validation Error\\n');\n",
    "for i in range(0, m):\n",
    "    print('  \\t%d\\t\\t%f\\t%f\\n' % (i+1, error_train[i], error_val[i]));"
   ]
  },
  {
   "cell_type": "code",
   "execution_count": 27,
   "metadata": {},
   "outputs": [
    {
     "data": {
      "image/png": "[encoded data removed]",
      "text/plain": [
       "<Figure size 1080x288 with 2 Axes>"
      ]
     },
     "metadata": {
      "needs_background": "light"
     },
     "output_type": "display_data"
    }
   ],
   "source": [
    "plt.figure(figsize=(15, 4))\n",
    "plt.subplot(1, 2, 1)\n",
    "plt.plot(X_train,y_train,'rx',markersize=10, label='Training Example')\n",
    "plotFit(np.min(X_train), np.max(X_train), mu_train, sigma_train, theta, p=8)\n",
    "plt.xlabel('Change in water level (x)');\n",
    "plt.ylabel('Water flowing out of the dam (y)');\n",
    "titlestr = 'Polynomial Regression Fit (%s = %d)' % (r'$\\lambda$',100)\n",
    "plt.title(titlestr)\n",
    "plt.grid(True)\n",
    "plt.legend()\n",
    "plt.axis([-80,80,-10,40])\n",
    "\n",
    "\n",
    "plt.subplot(1, 2, 2)\n",
    "xvals = np.linspace(0, m, m)\n",
    "plt.plot(range(1, m + 1), error_train, 'b-o',label='Train')\n",
    "plt.plot(range(1, m + 1), error_val,'r-o', label='Cross Validation')\n",
    "plt.xlabel('# of training examples')\n",
    "plt.ylabel('Error')\n",
    "plt.title('Polynomial Regression Learning Curve (%s = %d)' % (r'$\\lambda$',100));\n",
    "plt.legend()\n",
    "plt.grid(True)\n",
    "plt.axis([0,14,0,150])\n",
    "plt.show()"
   ]
  },
  {
   "cell_type": "markdown",
   "metadata": {},
   "source": [
    "For $\\lambda = 100$, we can observe a polynomial fit (left plot) that does not follow the data well. In this case, there is too much regularization and the model is unable to fit the training data."
   ]
  },
  {
   "cell_type": "markdown",
   "metadata": {},
   "source": [
    "### 3.3 - Selecting $\\lambda$ using a cross validation set ##"
   ]
  },
  {
   "cell_type": "markdown",
   "metadata": {},
   "source": [
    "From the previous parts of the exercise, we have observed that the value of $\\lambda$ can significantly affect the results of regularized polynomial regression on the training and cross validation set. In particular, a model without regular-\n",
    "ization ($\\lambda = 0$) fits the training set well, but does not generalize. Conversely, a model with too much regularization ($\\lambda = 100$) does not fit the training set and testing set well. A good choice of $\\lambda$ (e.g. $\\lambda = 1$) can provide a good fit to the data."
   ]
  },
  {
   "cell_type": "markdown",
   "metadata": {},
   "source": [
    "In this section, you will implement an automated method to select the $\\lambda$  parameter. Concretely, you will use a cross validation set to evaluate how good each $\\lambda$ value is. After selecting the best $\\lambda$ value using the cross validation set, we can then evaluate the model on the test set to estimate how well the model will perform on actual unseen data."
   ]
  },
  {
   "cell_type": "markdown",
   "metadata": {},
   "source": [
    "Our task is to implement a function `validationCurve()` that will make use of the `trainLinearReg()` to train the model using different values $\\lambda$ and compute the training error and cross validation error.\n",
    "\n",
    "We shall attempt $\\lambda$ values in the following range: (0, 0.001, 0.003, 0.01, 0.03, 0.1, 0.3, 1, 3, 10)."
   ]
  },
  {
   "cell_type": "code",
   "execution_count": 28,
   "metadata": {},
   "outputs": [],
   "source": [
    "def validationCurve(Xtrain, y, Xval, yval):\n",
    "    \n",
    "    lambda_vec = np.array([0, 0.001, 0.003, 0.01, 0.03, 0.1, 0.3, 1,3, 10]);\n",
    "    \n",
    "    error_train = np.zeros((len(lambda_vec), 1));\n",
    "    error_val = np.zeros((len(lambda_vec), 1));\n",
    "    \n",
    "    for i, lambda_val in enumerate(lambda_vec):\n",
    "        Lambda = lambda_vec[i];\n",
    "        theta = trainLinearReg(Xtrain, y, lambda_val);\n",
    "        error_train[i] = linearRegCostFunction(Xtrain, y, theta, 0);\n",
    "        error_val[i] = linearRegCostFunction(Xval, yval, theta, 0);\n",
    "    \n",
    "    return lambda_vec, error_train, error_val"
   ]
  },
  {
   "cell_type": "code",
   "execution_count": 29,
   "metadata": {},
   "outputs": [
    {
     "name": "stdout",
     "output_type": "stream",
     "text": [
      "# Training Examples\tLambda\t\tTrain Error\tCross Validation Error\n",
      "\n",
      "  \t1\t\t0.000\t\t0.087945\t8.289569\n",
      "\n",
      "  \t2\t\t0.001\t\t0.114317\t10.091723\n",
      "\n",
      "  \t3\t\t0.003\t\t0.172083\t16.525442\n",
      "\n",
      "  \t4\t\t0.010\t\t0.221494\t16.955851\n",
      "\n",
      "  \t5\t\t0.030\t\t0.281851\t12.833284\n",
      "\n",
      "  \t6\t\t0.100\t\t0.459335\t7.586877\n",
      "\n",
      "  \t7\t\t0.300\t\t0.921768\t4.636818\n",
      "\n",
      "  \t8\t\t1.000\t\t2.076186\t4.260629\n",
      "\n",
      "  \t9\t\t3.000\t\t4.901348\t3.822899\n",
      "\n",
      "  \t10\t\t10.000\t\t16.092210\t9.945504\n",
      "\n"
     ]
    }
   ],
   "source": [
    "lambda_vec, error_train, error_val = validationCurve(X_poly_train, y_train, X_poly_val, y_val);\n",
    "\n",
    "print('# Training Examples\\tLambda\\t\\tTrain Error\\tCross Validation Error\\n');\n",
    "for i in range(len(lambda_vec)):\n",
    "    print('  \\t%d\\t\\t%.3f\\t\\t%f\\t%f\\n' % (i+1,lambda_vec[i],error_train[i], error_val[i]));"
   ]
  },
  {
   "cell_type": "code",
   "execution_count": 30,
   "metadata": {},
   "outputs": [
    {
     "data": {
      "image/png": "[encoded data removed]",
      "text/plain": [
       "<Figure size 432x288 with 1 Axes>"
      ]
     },
     "metadata": {
      "needs_background": "light"
     },
     "output_type": "display_data"
    }
   ],
   "source": [
    "plt.plot(lambda_vec, error_train,'b-o', label='Train')\n",
    "plt.plot(lambda_vec, error_val,'r-o', label='Cross Validation')\n",
    "plt.xlabel(r'$\\lambda$', fontsize=18)\n",
    "plt.title('Selecting '+ r'$\\lambda$ '+ 'using a cross validation set')\n",
    "plt.ylabel('Error')\n",
    "plt.axis([0,10,0,20])\n",
    "plt.grid(True)\n",
    "plt.legend(loc='best')\n",
    "plt.show()"
   ]
  },
  {
   "cell_type": "markdown",
   "metadata": {},
   "source": [
    "In the figure bove, we can see that the best value of $\\lambda$ is around 3. Due to randomness in the training and validation splits of the dataset, the cross validation error can sometimes be lower than the training error."
   ]
  },
  {
   "cell_type": "markdown",
   "metadata": {},
   "source": [
    "### 3.4 - Optional (ungraded) exercise: Computing test set error"
   ]
  },
  {
   "cell_type": "markdown",
   "metadata": {},
   "source": [
    "In the previous part of the exercise, you implemented code to compute the cross validation error for various values of the regularization parameter $\\lambda$. However, to get a better indication of the model's performance in the real\n",
    "world, it is important to evaluate the \"final\" model on a test set that was not used in any part of training (that is, it was neither used to select the $\\lambda$ parameters, nor to learn the model parameters $\\theta$.)."
   ]
  },
  {
   "cell_type": "markdown",
   "metadata": {},
   "source": [
    "For this optional (ungraded) exercise, we are attempting to compute the test error using the best value of $\\lambda$ we just found, $\\lambda = 3$. To implement this, we train on `X_poly_train` and `y_train` using the best lambda $\\lambda = 3$ found from Section 3.3. Then we measure $J_{test}$ on `X_poly_test` and `y_test`, **without regularization**. We dont regularize because we try to avoid regularizing twice!"
   ]
  },
  {
   "cell_type": "code",
   "execution_count": 31,
   "metadata": {},
   "outputs": [
    {
     "name": "stdout",
     "output_type": "stream",
     "text": [
      "The test error computed with theta found by training the model with Lambda = 3 is 3.859888\n"
     ]
    }
   ],
   "source": [
    "theta = trainLinearReg(X_poly_train, y_train, Lambda=3); \n",
    "cost = linearRegCostFunction(X_poly_test, y_test, theta, Lambda=0);\n",
    "print('The test error computed with theta found by training the model with Lambda = %d is %f' % (3,cost))"
   ]
  },
  {
   "cell_type": "markdown",
   "metadata": {},
   "source": [
    "### 3.5 - Optional (ungraded) exercise: Plotting learning curves with randomly selected examples"
   ]
  },
  {
   "cell_type": "markdown",
   "metadata": {},
   "source": [
    "In practice, especially for small training sets, when we plot learning curves to debug our algorithms, it is often helpful to average across multiple sets of randomly selected examples to determine the training error and cross validation error.\n",
    "\n",
    "Concretely, to determine the training error and cross validation error for i examples, we should first randomly select i examples from the training set and i examples from the cross validation set. We will then learn the parameters $\\theta$ using the randomly chosen training set and evaluate the parameters $\\theta$ on the randomly chosen training set and cross validation set\n",
    "\n",
    "The above steps should then be repeated multiple times (say 50) and the averaged error should be used to determine the training error and cross validation error  i examples."
   ]
  },
  {
   "cell_type": "markdown",
   "metadata": {},
   "source": [
    "For this optional (ungraded) exercise, we shall implement the above strategy for computing the learning curves."
   ]
  },
  {
   "cell_type": "code",
   "execution_count": 32,
   "metadata": {},
   "outputs": [],
   "source": [
    "# INCOMPLETE"
   ]
  },
  {
   "cell_type": "code",
   "execution_count": null,
   "metadata": {},
   "outputs": [],
   "source": []
  }
 ],
 "metadata": {
  "kernelspec": {
   "display_name": "Python 3",
   "language": "python",
   "name": "python3"
  },
  "language_info": {
   "codemirror_mode": {
    "name": "ipython",
    "version": 3
   },
   "file_extension": ".py",
   "mimetype": "text/x-python",
   "name": "python",
   "nbconvert_exporter": "python",
   "pygments_lexer": "ipython3",
   "version": "3.7.3"
  }
 },
 "nbformat": 4,
 "nbformat_minor": 2
}
