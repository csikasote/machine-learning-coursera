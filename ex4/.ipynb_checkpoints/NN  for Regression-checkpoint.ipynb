{
 "cells": [
  {
   "cell_type": "markdown",
   "metadata": {},
   "source": [
    "## (Optional Exercise): Neural Networks for Regression ##"
   ]
  },
  {
   "cell_type": "code",
   "execution_count": 1,
   "metadata": {},
   "outputs": [],
   "source": [
    "# Python ≥3.5 is required\n",
    "import sys\n",
    "assert sys.version_info >= (3, 5)\n",
    "\n",
    "# Common imports\n",
    "import numpy as np\n",
    "import scipy.optimize as opt\n",
    "from sklearn.model_selection import train_test_split\n",
    "\n",
    "# For data plots and visualization\n",
    "%matplotlib inline\n",
    "import matplotlib.pyplot as plt\n",
    "import matplotlib\n",
    "\n",
    "#np.random.seed(1)\n",
    "%load_ext autoreload\n",
    "%autoreload 2"
   ]
  },
  {
   "cell_type": "code",
   "execution_count": 20,
   "metadata": {},
   "outputs": [],
   "source": [
    "# Defining the training dataset\n",
    "np.random.seed(0)\n",
    "X = np.ones((1,70))*np.linspace(0,1,70)\n",
    "y = np.sin(2*np.pi*X) + np.cos(4*np.pi*X) + np.random.randn(70)*0.2\n",
    "X = X.T\n",
    "y = y.T\n",
    "\n",
    "# Partitioning the dataset into training and validation partitions\n",
    "X_train, X_val, y_train,y_val = train_test_split(X,y,test_size=0.3)\n",
    "\n",
    "# Hyperparameter settings\n",
    "m = len(X)\n",
    "alpha = 1\n",
    "Lambda = 0.001"
   ]
  },
  {
   "cell_type": "code",
   "execution_count": 21,
   "metadata": {},
   "outputs": [
    {
     "data": {
      "image/png": "[encoded data removed]",
      "text/plain": [
       "<Figure size 432x288 with 1 Axes>"
      ]
     },
     "metadata": {
      "needs_background": "light"
     },
     "output_type": "display_data"
    }
   ],
   "source": [
    "def plotData(X,y):\n",
    "    plt.plot(X,y,'bo', markersize=12)\n",
    "    plt.xlabel('X values')\n",
    "    plt.ylabel('y values')\n",
    "    plt.title('Visualizing training data');\n",
    "    plt.show()\n",
    "plotData(X_train,y_train)"
   ]
  },
  {
   "cell_type": "code",
   "execution_count": 22,
   "metadata": {},
   "outputs": [],
   "source": [
    "def layer_sizes(X,y):\n",
    "    Input = X.shape[1]\n",
    "    Hidden = 8\n",
    "    Output = y.shape[1]\n",
    "    return Input,Hidden, Output\n",
    "Input,Hidden, Output = layer_sizes(X,y);"
   ]
  },
  {
   "cell_type": "code",
   "execution_count": 23,
   "metadata": {},
   "outputs": [],
   "source": [
    "def randtheta(L_in,L_out):\n",
    "    np.random.seed(0)\n",
    "    rand_epsilon = np.sqrt(6) / np.sqrt(L_in+L_out)\n",
    "    theta = (np.random.random((L_out, L_in + 1)) *(2*rand_epsilon)) - rand_epsilon\n",
    "    return theta\n",
    "theta_init = np.concatenate((randtheta(Input,Hidden).reshape(((Input+1)*Hidden)),randtheta(Hidden,Output).reshape(((Hidden+1)*Output))))"
   ]
  },
  {
   "cell_type": "code",
   "execution_count": 24,
   "metadata": {},
   "outputs": [],
   "source": [
    "def predict(theta,X):\n",
    "    # Unroll the theta values as before\n",
    "    theta1 = theta[:(Input+1)*Hidden].reshape((Hidden,(Input+1)))\n",
    "    theta2 = theta[(Input+1)*Hidden:].reshape((Output,(Hidden+1)))\n",
    "    m = np.float(len(X))\n",
    "\n",
    "    # Forward propagation (also as before!)\n",
    "    a1 = np.insert(X,0,1,axis=1)\n",
    "    z2 = a1.dot(theta1.T)\n",
    "    a2 = np.insert(np.tanh(z2),0,1,axis=1) \n",
    "    z3 = a2.dot(theta2.T)\n",
    "\n",
    "    return z3"
   ]
  },
  {
   "cell_type": "code",
   "execution_count": 25,
   "metadata": {},
   "outputs": [],
   "source": [
    "def nnModel(theta,X,y,Lambda):\n",
    "    # Unroll the theta values from a 1D array\n",
    "    theta1 = theta[:(Input+1)*Hidden].reshape((Hidden,(Input+1)))\n",
    "    theta2 = theta[(Input+1)*Hidden:].reshape((Output,(Hidden+1)))\n",
    "  \n",
    "    # Forward propagation\n",
    "    a1 = np.insert(X,0,1,axis=1)\n",
    "    z2 = a1.dot(theta1.T)\n",
    "    a2 = np.insert(np.tanh(z2),0,1,axis=1)\n",
    "    z3 = a2.dot(theta2.T)\n",
    "\n",
    "    # Cost function\n",
    "    error = z3-y;\n",
    "    error_sqrd = np.square(error);\n",
    "    sum_error_sqrd = np.sum(error_sqrd); \n",
    "    cost =(1/(2*m)) * sum_error_sqrd;\n",
    "    \n",
    "    # Backpropagation\n",
    "    d3 = (z3 - y)\n",
    "    u  = np.tanh(z2)\n",
    "    d2 = (z3 - y).dot(theta2[:,1:]) * (1 - np.power(u,2))\n",
    "    D1 = d2.T.dot(a1) / m\n",
    "    D2 = d3.T.dot(a2) / m\n",
    "    if Lambda!=0: # This regularizes the gradients if Lambda > 0\n",
    "        D1[:,1:] += (Lambda/m * theta1[:,1:])\n",
    "        D2[:,1:] += (Lambda/m * theta2[:,1:])\n",
    "\n",
    "     # Roll grads D1 and D2 back into 1D array\n",
    "    grads = np.concatenate((D1.reshape(((Input+1)*Hidden)),D2.reshape(((Hidden+1)*Output))))\n",
    "\n",
    "    return cost, grads"
   ]
  },
  {
   "cell_type": "code",
   "execution_count": 26,
   "metadata": {},
   "outputs": [],
   "source": [
    "def nnCostFunction(theta,X,y,Lambda):\n",
    "    cost = nnModel(theta,X,y,Lambda)[0]\n",
    "    return cost\n",
    " \n",
    "def nnGradientFunction(theta,X,y,Lambda):\n",
    "    grad = nnModel(theta,X,y,Lambda)[1]\n",
    "    return grad"
   ]
  },
  {
   "cell_type": "code",
   "execution_count": 27,
   "metadata": {},
   "outputs": [],
   "source": [
    "def trainNNModel(theta_init,X,y,Lambda):\n",
    "    obj_func = lambda t: nnCostFunction(t,X,y,Lambda);\n",
    "    result = opt.minimize(obj_func, x0=theta_init, method='BFGS')\n",
    "    return result.x, result.fun"
   ]
  },
  {
   "cell_type": "code",
   "execution_count": 28,
   "metadata": {},
   "outputs": [
    {
     "name": "stdout",
     "output_type": "stream",
     "text": [
      "The cost is 0.008048\n",
      "Computed mean squared error(MSE) is 0.022994\n"
     ]
    }
   ],
   "source": [
    "theta, error = trainNNModel(theta_init,X_train,y_train,Lambda);\n",
    "print(\"The cost is %f\" %(error))\n",
    "print(\"Computed mean squared error(MSE) is %f\" %(mean_squared_error(y_train, predict(theta,X_train))))"
   ]
  },
  {
   "cell_type": "code",
   "execution_count": 29,
   "metadata": {},
   "outputs": [
    {
     "data": {
      "image/png": "[encoded data removed]",
      "text/plain": [
       "<Figure size 432x288 with 1 Axes>"
      ]
     },
     "metadata": {
      "needs_background": "light"
     },
     "output_type": "display_data"
    }
   ],
   "source": [
    "x_min, x_max = X_train[:,0].min() - 15, X_train[:,0].max() + 25\n",
    "x = np.arange(x_min - 15, x_max + 25, 0.05).reshape(-1,1);\n",
    "y_pred =predict(theta,x)\n",
    "plt.plot(X_train,y_train,'bo', linewidth=2, markersize=12)\n",
    "plt.plot(x,y_pred, 'r--')\n",
    "plt.xlabel('X values')\n",
    "plt.ylabel('y values')\n",
    "plt.title('Fitting the Neural Network (lambda = %.3f)' % (Lambda));\n",
    "plt.axis ([0, 1, -2, 1.5]);\n",
    "plt.show()"
   ]
  },
  {
   "cell_type": "code",
   "execution_count": 30,
   "metadata": {},
   "outputs": [],
   "source": [
    "def plot_learning_curves(init_theta,X_train, y_train,X_val,y_val,Lambda):\n",
    "    m = X_train.shape[0]\n",
    "    # You need to return these values correctly\n",
    "    error_train = np.zeros((m, 1));\n",
    "    error_val   = np.zeros((m, 1));\n",
    "    \n",
    "    for i, j in enumerate(range(1,m+1)):\n",
    "        param, error    = trainNNModel(init_theta,X_train[0:m,:],y_train[0:m,:],Lambda)\n",
    "        error_train[i] = nnCostFunction(param,X_train[0:j,:],y_train[0:j,:],0)\n",
    "        error_val[i]   = nnCostFunction(param,X_val, y_val, 0);\n",
    "    return error_train, error_val"
   ]
  },
  {
   "cell_type": "code",
   "execution_count": 31,
   "metadata": {},
   "outputs": [],
   "source": [
    "error_train, error_val = plot_learning_curves(theta_init,X_train,y_train,X_val,y_val,Lambda);"
   ]
  },
  {
   "cell_type": "code",
   "execution_count": 32,
   "metadata": {},
   "outputs": [
    {
     "name": "stdout",
     "output_type": "stream",
     "text": [
      "# Training Examples\tTrain Error\tCross Validation Error\n",
      "\n",
      "  \t1\t\t0.000002\t0.008799\n",
      "\n",
      "  \t2\t\t0.000009\t0.008799\n",
      "\n",
      "  \t3\t\t0.000016\t0.008799\n",
      "\n",
      "  \t4\t\t0.000684\t0.008799\n",
      "\n",
      "  \t5\t\t0.000724\t0.008799\n",
      "\n",
      "  \t6\t\t0.001574\t0.008799\n",
      "\n",
      "  \t7\t\t0.001584\t0.008799\n",
      "\n",
      "  \t8\t\t0.001634\t0.008799\n",
      "\n",
      "  \t9\t\t0.002164\t0.008799\n",
      "\n",
      "  \t10\t\t0.002177\t0.008799\n",
      "\n",
      "  \t11\t\t0.002192\t0.008799\n",
      "\n",
      "  \t12\t\t0.002289\t0.008799\n",
      "\n",
      "  \t13\t\t0.002408\t0.008799\n",
      "\n",
      "  \t14\t\t0.002454\t0.008799\n",
      "\n",
      "  \t15\t\t0.002456\t0.008799\n",
      "\n",
      "  \t16\t\t0.002704\t0.008799\n",
      "\n",
      "  \t17\t\t0.002736\t0.008799\n",
      "\n",
      "  \t18\t\t0.002745\t0.008799\n",
      "\n",
      "  \t19\t\t0.002758\t0.008799\n",
      "\n",
      "  \t20\t\t0.002765\t0.008799\n",
      "\n",
      "  \t21\t\t0.002781\t0.008799\n",
      "\n",
      "  \t22\t\t0.002993\t0.008799\n",
      "\n",
      "  \t23\t\t0.003467\t0.008799\n",
      "\n",
      "  \t24\t\t0.003534\t0.008799\n",
      "\n",
      "  \t25\t\t0.003635\t0.008799\n",
      "\n",
      "  \t26\t\t0.003749\t0.008799\n",
      "\n",
      "  \t27\t\t0.003755\t0.008799\n",
      "\n",
      "  \t28\t\t0.003964\t0.008799\n",
      "\n",
      "  \t29\t\t0.004500\t0.008799\n",
      "\n",
      "  \t30\t\t0.005578\t0.008799\n",
      "\n",
      "  \t31\t\t0.005579\t0.008799\n",
      "\n",
      "  \t32\t\t0.005627\t0.008799\n",
      "\n",
      "  \t33\t\t0.005627\t0.008799\n",
      "\n",
      "  \t34\t\t0.005734\t0.008799\n",
      "\n",
      "  \t35\t\t0.005734\t0.008799\n",
      "\n",
      "  \t36\t\t0.005810\t0.008799\n",
      "\n",
      "  \t37\t\t0.006372\t0.008799\n",
      "\n",
      "  \t38\t\t0.006376\t0.008799\n",
      "\n",
      "  \t39\t\t0.006401\t0.008799\n",
      "\n",
      "  \t40\t\t0.006415\t0.008799\n",
      "\n",
      "  \t41\t\t0.006794\t0.008799\n",
      "\n",
      "  \t42\t\t0.007049\t0.008799\n",
      "\n",
      "  \t43\t\t0.007147\t0.008799\n",
      "\n",
      "  \t44\t\t0.007250\t0.008799\n",
      "\n",
      "  \t45\t\t0.007470\t0.008799\n",
      "\n",
      "  \t46\t\t0.007470\t0.008799\n",
      "\n",
      "  \t47\t\t0.007535\t0.008799\n",
      "\n",
      "  \t48\t\t0.007878\t0.008799\n",
      "\n",
      "  \t49\t\t0.008048\t0.008799\n",
      "\n"
     ]
    }
   ],
   "source": [
    "print('# Training Examples\\tTrain Error\\tCross Validation Error\\n');\n",
    "for i in range(0,len(error_train)):\n",
    "    print('  \\t%d\\t\\t%f\\t%f\\n' % (i+1, error_train[i], error_val[i]));"
   ]
  },
  {
   "cell_type": "code",
   "execution_count": 36,
   "metadata": {},
   "outputs": [
    {
     "name": "stdout",
     "output_type": "stream",
     "text": [
      "\n",
      " Plotting the Learning curves for Linear Regression ... \n",
      "\n"
     ]
    },
    {
     "data": {
      "image/png": "[encoded data removed]",
      "text/plain": [
       "<Figure size 432x288 with 1 Axes>"
      ]
     },
     "metadata": {
      "needs_background": "light"
     },
     "output_type": "display_data"
    }
   ],
   "source": [
    "print('\\n Plotting the Learning curves for Linear Regression ... \\n')\n",
    "\n",
    "xvals = np.linspace(0, len(error_train), len(error_train)) \n",
    "plt.plot(xvals,error_train, 'r-',linewidth = 3,label='Train')\n",
    "plt.plot(xvals,error_val,'b-',linewidth = 3,label='Cross Validation')\n",
    "plt.xlabel('Number of training examples')\n",
    "plt.ylabel('Error')\n",
    "plt.title('Linear Regression Learning Curve (lambda = %.3f)' % Lambda);\n",
    "plt.legend()\n",
    "plt.show()"
   ]
  }
 ],
 "metadata": {
  "kernelspec": {
   "display_name": "Python 3",
   "language": "python",
   "name": "python3"
  },
  "language_info": {
   "codemirror_mode": {
    "name": "ipython",
    "version": 3
   },
   "file_extension": ".py",
   "mimetype": "text/x-python",
   "name": "python",
   "nbconvert_exporter": "python",
   "pygments_lexer": "ipython3",
   "version": "3.7.3"
  }
 },
 "nbformat": 4,
 "nbformat_minor": 2
}
