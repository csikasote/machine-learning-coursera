{
 "cells": [
  {
   "cell_type": "markdown",
   "metadata": {},
   "source": [
    "## Programming Exercise 4: Neural Networks Learning"
   ]
  },
  {
   "cell_type": "markdown",
   "metadata": {},
   "source": [
    "Welcome to programming exrecise 4, Neural Network Learning. In this exercise, we shall implement the backpropagation algorithm for neural networks and apply it to the task of `hand-written digit recognition`. "
   ]
  },
  {
   "cell_type": "markdown",
   "metadata": {},
   "source": [
    "**Instruction:**\n",
    "- To run code a cell: `Shift+Enter` or Click `Cell -> Run Cell`.\n",
    "\n",
    "**Objective:**\n",
    "- To implement the backpropagation algorithm for neural networks and apply it to the task of hand-written digit recognition\n",
    "\n",
    "**You will learn how to:**\n",
    "- Implement a 10-class classification neural network with a single hidden layer\n",
    "- Use units with a non-linear activation function, such as sigmoid\n",
    "- Implement forward and backward propagation"
   ]
  },
  {
   "cell_type": "markdown",
   "metadata": {},
   "source": [
    "## Import packages ##\n",
    "\n",
    "First lets run the cell below to import all the packages that you will need for this exercise.\n",
    "- [numpy](www.numpy.org) is the fundamental package for scientific computing with Python\n",
    "- [matplotlib](http://matplotlib.org) is a common library to plot graphs in python.\n",
    "- [scipy](https://docs.scipy.org/doc/scipy-0.17.0/reference/optimize.html) a python library for optimization functions."
   ]
  },
  {
   "cell_type": "code",
   "execution_count": 1,
   "metadata": {
    "scrolled": true
   },
   "outputs": [],
   "source": [
    "# Python ≥3.5 is required\n",
    "import sys\n",
    "assert sys.version_info >= (3, 5)\n",
    "\n",
    "# Common imports\n",
    "import numpy as np\n",
    "import scipy.io as sio\n",
    "\n",
    "# For data plots and visualization\n",
    "%matplotlib inline\n",
    "import matplotlib.pyplot as plt\n",
    "import matplotlib as mpl\n",
    "\n",
    "%load_ext autoreload\n",
    "%autoreload 2"
   ]
  },
  {
   "cell_type": "markdown",
   "metadata": {},
   "source": [
    "## 1 - Loading and visualizing part of dataset##"
   ]
  },
  {
   "cell_type": "markdown",
   "metadata": {},
   "source": [
    "**1.1 - Loading the dataset**\n",
    "\n",
    "The training data will be loaded into the variables `X_train` and `y_train`."
   ]
  },
  {
   "cell_type": "code",
   "execution_count": 2,
   "metadata": {},
   "outputs": [
    {
     "name": "stdout",
     "output_type": "stream",
     "text": [
      "\n",
      "i. Training features[X_train]:\n",
      "\tRows: 5000, columns: 400\n",
      "ii. Training labels[y_train]:\n",
      "\tRows: 5000, columns: 1\n"
     ]
    }
   ],
   "source": [
    "#IMPORTING DATA FILES\n",
    "df_path = 'data/ex4data1.mat'\n",
    "data = sio.loadmat(df_path)\n",
    "X_train = data['X']\n",
    "y_train = data['y']\n",
    "\n",
    "# RESULTS CHECK\n",
    "print('\\ni. Training features[X_train]:\\n\\tRows: %d, columns: %d' % (X_train.shape[0], X_train.shape[1]))\n",
    "print('ii. Training labels[y_train]:\\n\\tRows: %d, columns: %d' % (y_train.shape[0], y_train.shape[1]))"
   ]
  },
  {
   "cell_type": "markdown",
   "metadata": {},
   "source": [
    "**1.2 - Visualizing sampled digits from dataset**"
   ]
  },
  {
   "cell_type": "code",
   "execution_count": 3,
   "metadata": {},
   "outputs": [],
   "source": [
    "# VISUALIZING THE DATA SET\n",
    "def visualizeData(x):\n",
    "    fig, ax = plt.subplots(nrows =5, ncols=5,sharex=True, sharey=True)\n",
    "    ax = ax.flatten()\n",
    "    m = x.shape[0]\n",
    "    for i in range(25):\n",
    "        img = x[np.random.randint(0,m),:].reshape(20,20,order=\"F\")\n",
    "        ax[i].imshow(img, cmap=mpl.cm.binary, interpolation=\"nearest\")\n",
    "        ax[i].axis(\"on\")\n",
    "    ax[0].set_xticks([])\n",
    "    ax[0].set_yticks([])\n",
    "    plt.tight_layout()\n",
    "    plt.show()"
   ]
  },
  {
   "cell_type": "code",
   "execution_count": 4,
   "metadata": {},
   "outputs": [
    {
     "data": {
      "image/png": "[encoded data removed]",
      "text/plain": [
       "<Figure size 432x288 with 25 Axes>"
      ]
     },
     "metadata": {},
     "output_type": "display_data"
    }
   ],
   "source": [
    "visualizeData(X_train) # calling the function to vidsualize the dataset."
   ]
  },
  {
   "cell_type": "markdown",
   "metadata": {},
   "source": [
    "## 2 - Neural Network Model"
   ]
  },
  {
   "cell_type": "markdown",
   "metadata": {},
   "source": [
    "Our neural network is as shown in the model representation below. It has `3 layers` - an `input layer`, a `hidden layer` and an `output layer`."
   ]
  },
  {
   "cell_type": "markdown",
   "metadata": {},
   "source": [
    "![nn_model_representation](images/nn_model_representation.png)"
   ]
  },
  {
   "cell_type": "markdown",
   "metadata": {},
   "source": [
    "We have been provided with a set of pre-trained network parameters. These are stored in `./data/ex4weights.mat` and we need to load them into `W1` and `W2`. The parameters have dimensions that are sized for a neural network with `25 units` in the second layer and `10 output units` (corresponding to the 10 digit classes)."
   ]
  },
  {
   "cell_type": "code",
   "execution_count": 5,
   "metadata": {},
   "outputs": [
    {
     "name": "stdout",
     "output_type": "stream",
     "text": [
      "\n",
      "Neural Network Parameters Successfully Loaded ...\n",
      "\n"
     ]
    }
   ],
   "source": [
    "# Load the weights into variables W1 and W2\n",
    "df = 'data/ex4weights.mat'\n",
    "weights = sio.loadmat(df)\n",
    "W1 = weights['Theta1']\n",
    "W2 = weights['Theta2']\n",
    "W1_flat = W1.flatten()\n",
    "W2_flat = W2.flatten()\n",
    "\n",
    "# Unroll the loaded parameters\n",
    "nn_weights = np.concatenate((W1_flat,W2_flat),axis=0).reshape(-1,1) #Alternatively unrolling\n",
    "print('\\nNeural Network Parameters Successfully Loaded ...\\n')"
   ]
  },
  {
   "cell_type": "markdown",
   "metadata": {},
   "source": [
    "Let us check the parameter shapes."
   ]
  },
  {
   "cell_type": "code",
   "execution_count": 6,
   "metadata": {},
   "outputs": [
    {
     "name": "stdout",
     "output_type": "stream",
     "text": [
      "W1:  (25, 401)\n",
      "W2:  (10, 26)\n",
      "NN_WEIGHTS:  (10285, 1)\n"
     ]
    }
   ],
   "source": [
    "print('W1: ', W1.shape)\n",
    "print('W2: ', W2.shape)\n",
    "print('NN_WEIGHTS: ', nn_weights.shape)"
   ]
  },
  {
   "cell_type": "markdown",
   "metadata": {},
   "source": [
    "Recall that our inputs are pixel values of digit images. Since the images are of size 20x20, this gives us 400 input layer units (excluding the extra bias unit which always outputs +1)."
   ]
  },
  {
   "cell_type": "markdown",
   "metadata": {},
   "source": [
    "**2.1 - NN Layer sizes**"
   ]
  },
  {
   "cell_type": "code",
   "execution_count": 7,
   "metadata": {},
   "outputs": [],
   "source": [
    "# NETWORK MODEL SETTINGS FOR THE EXERCISE\n",
    "input_layer_size  = 400;  # 20x20 Input Images of Digits\n",
    "hidden_layer_size = 25;   # 25 hidden units\n",
    "num_labels = 10;          # 10 labels, from 1 to 10 (note that we have mapped \"0\" to label 10)"
   ]
  },
  {
   "cell_type": "markdown",
   "metadata": {},
   "source": [
    "**2.2 - Initializing parameters**\n",
    "\n",
    "We need to implement the function `initialize_parameters()` that we shall use to initialize parameters for out network."
   ]
  },
  {
   "cell_type": "code",
   "execution_count": 8,
   "metadata": {},
   "outputs": [],
   "source": [
    "def initialize_parameters(nn_weights, input_layer_size, hidden_layer_size, num_labels):\n",
    "    # -------------------------------------------------------------\n",
    "    # Reshaping W1 and W2\n",
    "    # -------------------------------------------------------------\n",
    "    W1 = np.reshape(nn_weights[0:hidden_layer_size * (input_layer_size + 1)], (hidden_layer_size, (input_layer_size + 1)));\n",
    "    W2 = np.reshape(nn_weights[(hidden_layer_size * (input_layer_size + 1)):,], (num_labels, (hidden_layer_size + 1)));\n",
    "    \n",
    "    assert (W1.shape == (hidden_layer_size, input_layer_size + 1))\n",
    "    assert (W2.shape == (num_labels, hidden_layer_size + 1))\n",
    "\n",
    "    parameters = {\"W1\":W1,\n",
    "                  \"W2\":W2}\n",
    "    \n",
    "    return parameters"
   ]
  },
  {
   "cell_type": "code",
   "execution_count": 9,
   "metadata": {},
   "outputs": [
    {
     "name": "stdout",
     "output_type": "stream",
     "text": [
      "The shape of X is: (5000, 400)\n",
      "The shape of Y is: (5000, 1)\n",
      "The shape of W1 is: (25, 401)\n",
      "The shape of W2 is: (10, 26)\n"
     ]
    }
   ],
   "source": [
    "parameters = initialize_parameters(nn_weights, input_layer_size, hidden_layer_size, num_labels);\n",
    "\n",
    "W1 = parameters[\"W1\"]\n",
    "W2 = parameters[\"W2\"]\n",
    "\n",
    "print('The shape of X is: ' + str(X_train.shape))\n",
    "print('The shape of Y is: ' + str(y_train.shape))\n",
    "print('The shape of W1 is: ' + str(W1.shape))\n",
    "print('The shape of W2 is: ' + str(W2.shape))"
   ]
  },
  {
   "cell_type": "markdown",
   "metadata": {},
   "source": [
    "**2.3 - Sigmoid & `sigmoid-gradient` functions**\n",
    "\n",
    "Considering that in this exercise we are using the `sigmoid function` as an activation function. We need to implement the function `sigmoid()`."
   ]
  },
  {
   "cell_type": "markdown",
   "metadata": {},
   "source": [
    "**2.3.1 - Sigmoid function**"
   ]
  },
  {
   "cell_type": "code",
   "execution_count": 10,
   "metadata": {},
   "outputs": [],
   "source": [
    "def sigmoid(z):\n",
    "    return (1/(1+ np.exp(-z)))"
   ]
  },
  {
   "cell_type": "markdown",
   "metadata": {},
   "source": [
    "**2.3.2 - Gradient of sigmoid function**"
   ]
  },
  {
   "cell_type": "code",
   "execution_count": 11,
   "metadata": {},
   "outputs": [],
   "source": [
    "def sigmoidGradient(z):\n",
    "    return np.multiply(sigmoid(z),(1 - sigmoid(z)))"
   ]
  },
  {
   "cell_type": "markdown",
   "metadata": {},
   "source": [
    "**2.3.3 - Evaluating sigmoid gradient function**"
   ]
  },
  {
   "cell_type": "code",
   "execution_count": 12,
   "metadata": {},
   "outputs": [
    {
     "name": "stdout",
     "output_type": "stream",
     "text": [
      "\n",
      "Evaluating sigmoid gradient...\n",
      "\n",
      "\n",
      "Computed gradients for Z: [[0.19661193 0.23500371 0.25       0.23500371 0.19661193]]\n",
      "\n",
      "\n",
      "Gradient at [z = 0]: 0.25\n",
      "\n"
     ]
    }
   ],
   "source": [
    "print('\\nEvaluating sigmoid gradient...\\n')\n",
    "z = np.array([[-1, -0.5, 0, 0.5, 1]]);\n",
    "g = sigmoidGradient(z);\n",
    "print('\\nComputed gradients for Z:',str(g)+'\\n');\n",
    "print('\\nGradient at [z = 0]:',str(g[0,2])+'\\n');"
   ]
  },
  {
   "cell_type": "markdown",
   "metadata": {},
   "source": [
    "**2.4 - Feed forward implementation**"
   ]
  },
  {
   "cell_type": "markdown",
   "metadata": {},
   "source": [
    "We implement the forward propagation by following the steps below:\n",
    "\n",
    "- **Step 1:** Add a column of ones (bias, $x_0^{(1)}$) at index 0 of the input X. Call the resultant, **A1**.\n",
    "\n",
    "        - A1 = np.insert(X,0,1,axis=1);\n",
    "- **Step 2:** Multiply A1 with the transpose of W1, call the resultant, Z2\n",
    "    \n",
    "        - Z2 = np.dot(A1,W1.T);\n",
    " \n",
    "- **Step 3:** Compute activations **A2** by first applying the sigmoid function to Z2 then Add a column of one (bias, $x_0^{(2)}$ at index 0.\n",
    " \n",
    "        - A2=np.insert(sigmoid(Z2),0,1,axis=1)\n",
    "        \n",
    "- **Step 4:** Compute **Z3** by multiplying the **A2** and the transpose of W2.\n",
    "\n",
    "        - Z3= np.dot(A2,W2.T);\n",
    " \n",
    "- **Step 5:** Compute the activations in outer layer by computing the sigmoid of Z3.\n",
    "\n",
    "        - A3=sigmoid(Z3);"
   ]
  },
  {
   "cell_type": "code",
   "execution_count": 13,
   "metadata": {},
   "outputs": [],
   "source": [
    "def feedForward(X, parameters):\n",
    "    \n",
    "    # -------------------------------------------------------------\n",
    "    # Retrieving parameters\n",
    "    # -------------------------------------------------------------\n",
    "    W1 = parameters[\"W1\"]\n",
    "    W2 = parameters[\"W2\"]\n",
    "    m = X.shape[0];\n",
    "        \n",
    "    # -------------------------------------------------------------\n",
    "    # The Forward Propagation Implementation\n",
    "    # -------------------------------------------------------------\n",
    "    A1 = np.insert(X,0,1,axis=1);           # X.shape = (5000 x 401)\n",
    "    Z2 = np.dot(A1,W1.T);                   # Z1.shape = (5000 x 401).(401 x 25)= (5000 x 25)\n",
    "    A2=np.insert(sigmoid(Z2),0,1,axis=1);   # A1.shape = (5000x26)\n",
    "    Z3= np.dot(A2,W2.T);                    # Z2.shape = (5000 x26) . (26x10) =  (5000 x 10)\n",
    "    A3=sigmoid(Z3);                         # A2.shape = (5000 x 10)\n",
    "    \n",
    "    # -------------------------------------------------------------\n",
    "    # SAVING THE ACTIVATIONS TO DICTIONARY\n",
    "    # -------------------------------------------------------------\n",
    "    cache = {\"A1\":A1,\n",
    "             \"Z2\":Z2, \n",
    "             \"A2\":A2, \n",
    "             \"Z3\":Z3,\n",
    "             \"A3\":A3}\n",
    "\n",
    "    return A3, cache"
   ]
  },
  {
   "cell_type": "markdown",
   "metadata": {},
   "source": [
    "**2.5 - Neural network cost function**\n",
    "\n",
    "The cost function for neural networks with regularization is given by:"
   ]
  },
  {
   "cell_type": "markdown",
   "metadata": {},
   "source": [
    "![nn_cost_fucntion](images/nn_cost_function.png)"
   ]
  },
  {
   "cell_type": "markdown",
   "metadata": {},
   "source": [
    "In this exercise, we assume that the neural network will only have 3 layers - an input layer, a hidden layer and an output layer. However, implement out code in such a way that it should work for any number of input units, hidden units and outputs units."
   ]
  },
  {
   "cell_type": "code",
   "execution_count": 14,
   "metadata": {},
   "outputs": [],
   "source": [
    "def nnCostFunction(A3, Y, parameters,Lambda):\n",
    "    \n",
    "    # -------------------------------------------------------------\n",
    "    # Retrieving parameters\n",
    "    # -------------------------------------------------------------\n",
    "    W1 = parameters[\"W1\"]\n",
    "    W2 = parameters[\"W2\"]\n",
    "    m = Y.shape[0]\n",
    "    # -------------------------------------------------------------\n",
    "    # Mapping vector y into a binary vector of 1's and 0's \n",
    "    # -------------------------------------------------------------\n",
    "    y_matrix = np.zeros((m, num_labels)) #y_matrix.shape = (5000x10)\n",
    "    for i in range(m):\n",
    "        y_matrix[i, Y[i] - 1] = 1\n",
    "    \n",
    "    # -------------------------------------------------------------\n",
    "    # The Cost Implementation\n",
    "    # -------------------------------------------------------------\n",
    "    reg_term = (Lambda/(2*m)) * (np.sum(np.sum(np.square(W1[:,1:]))) + np.sum(np.sum(np.square(W2[:,1:])))); \n",
    "    cost = ((1/m * np.sum(np.sum((np.multiply(-y_matrix,np.log(A3))- np.multiply((1-y_matrix),np.log(1-A3)))))) + reg_term);\n",
    "    \n",
    "    return cost"
   ]
  },
  {
   "cell_type": "code",
   "execution_count": 15,
   "metadata": {},
   "outputs": [
    {
     "name": "stdout",
     "output_type": "stream",
     "text": [
      "\n",
      "Cost at parameters (loaded from ex4weights): 0.287629\n",
      "\n"
     ]
    }
   ],
   "source": [
    "Lambda = 0 #No regularisation\n",
    "A3, cache = feedForward(X_train,parameters)\n",
    "cost = nnCostFunction(A3, y_train, parameters, Lambda)\n",
    "print('\\nCost at parameters (loaded from ex4weights): %.6f\\n' % (cost));"
   ]
  },
  {
   "cell_type": "code",
   "execution_count": 16,
   "metadata": {},
   "outputs": [
    {
     "name": "stdout",
     "output_type": "stream",
     "text": [
      "\n",
      "Cost at parameters (loaded from ex4weights): 0.383770\n",
      "\n"
     ]
    }
   ],
   "source": [
    "Lambda = 1 #With regularisation\n",
    "A3, cache = feedForward(X_train,parameters)\n",
    "cost = nnCostFunction(A3, y_train, parameters, Lambda)\n",
    "print('\\nCost at parameters (loaded from ex4weights): %.6f\\n' % (cost));"
   ]
  },
  {
   "cell_type": "markdown",
   "metadata": {},
   "source": [
    "**2.6 - Random Initialization**\n",
    "\n",
    "Training neural networks requires random initialization of the parameters for symmetry breaking. One effective strategy for random initialization is to randomly select values for $\\Theta^{(l)}$ uniformly in the range [$-\\epsilon_{init}, \\epsilon_{init}$] where  $\\epsilon_{init}$ is given by:\n",
    "\n",
    "$$\\epsilon_{init} = \\frac {\\sqrt{6}}{\\sqrt{L_{in} + L_{out}}}$$\n",
    "\n",
    " .. where ${L_{in} = s_l}$ and ${L_{out} = s_{l+1}}$ are the number of units in the layers adjacent to $\\Theta^{(l)}$."
   ]
  },
  {
   "cell_type": "code",
   "execution_count": 17,
   "metadata": {},
   "outputs": [],
   "source": [
    "def randInitializeWeights(L_in, L_out):\n",
    "    W = np.zeros((L_out, 1 + L_in));\n",
    "    epsilon_init = np.sqrt(6)/np.sqrt(L_in + L_out);\n",
    "    W = np.random.randn(L_out, 1 + L_in) * 2 * epsilon_init - epsilon_init;\n",
    "    \n",
    "    return W"
   ]
  },
  {
   "cell_type": "markdown",
   "metadata": {},
   "source": [
    "Now, let us initialize `initial_W1` $\\Theta^{(l)}$  and `initial_W2` $\\Theta^{(2)}$ using the `randInitializeWeights()` we just implemented."
   ]
  },
  {
   "cell_type": "code",
   "execution_count": 18,
   "metadata": {},
   "outputs": [
    {
     "name": "stdout",
     "output_type": "stream",
     "text": [
      "\n",
      "Initializing Neural Network Parameters ...\n",
      "\n",
      "Shape of initial_W1 is:  (25, 401)\n",
      "Shape of initial_W2 is:  (10, 26)\n",
      "Shape of nn_params is:  (10285, 1)\n"
     ]
    }
   ],
   "source": [
    "# Initializing NN Weights\n",
    "print('\\nInitializing Neural Network Parameters ...\\n')\n",
    "initial_W1 = randInitializeWeights(input_layer_size, hidden_layer_size);\n",
    "initial_W2 = randInitializeWeights(hidden_layer_size, num_labels);\n",
    "\n",
    "# Unroll parameters\n",
    "initial_nn_params = np.concatenate((initial_W1.flatten(),initial_W2.flatten()),axis=0).reshape(-1,1)\n",
    "\n",
    "#RESULTS CHECK\n",
    "print('Shape of initial_W1 is: ', initial_W1.shape)\n",
    "print('Shape of initial_W2 is: ', initial_W2.shape)\n",
    "print('Shape of nn_params is: ', initial_nn_params.shape)"
   ]
  },
  {
   "cell_type": "markdown",
   "metadata": {},
   "source": [
    "**2.7 - Backpropagation Implementation**\n",
    "\n",
    "Now, we will implement the backpropagation algorithm. "
   ]
  },
  {
   "cell_type": "markdown",
   "metadata": {},
   "source": [
    "![nn_back_propagation](images/nn_back_propagation.png)"
   ]
  },
  {
   "cell_type": "code",
   "execution_count": 19,
   "metadata": {},
   "outputs": [],
   "source": [
    "def backward_propagation(parameters, cache, x, y, Lambda, learning_rate):\n",
    "    # -------------------------------------------------------------\n",
    "    # Retrieving parameters\n",
    "    # -------------------------------------------------------------\n",
    "    W1 = parameters[\"W1\"]\n",
    "    W2 = parameters[\"W2\"]\n",
    "\n",
    "    # -------------------------------------------------------------\n",
    "    # Retrieving cache parameters\n",
    "    # -------------------------------------------------------------\n",
    "    A1 = cache[\"A1\"]\n",
    "    Z2 = cache[\"Z2\"]\n",
    "    A2 = cache[\"A2\"]\n",
    "    Z3 = cache[\"Z3\"]\n",
    "    A3 = cache[\"A3\"]\n",
    "    \n",
    "    # -------------------------------------------------------------\n",
    "    # Mapping vector y into a binary vector of 1's and 0's \n",
    "    # -------------------------------------------------------------\n",
    "    m = x.shape[0];\n",
    "    y_matrix = np.zeros((m, num_labels))\n",
    "    for i in range(m):\n",
    "        y_matrix[i, y[i] - 1] = 1\n",
    "\n",
    "    # -------------------------------------------------------------\n",
    "    # Backpropagation algorithm\n",
    "    # -------------------------------------------------------------\n",
    "    d3 = A3-y_matrix;                               #dZ2.shape = (5000x10)\n",
    "    u = sigmoid(Z2);                                #u.shape = (5000 x 25)\n",
    "    sig_grad = np.multiply(u,(1-u))                 #(5000 x 25)\n",
    "    d2 = np.multiply(np.dot(d3, W2[:,1:]),sig_grad) # d2.shape = (5000x25)\n",
    "    delta1 = np.dot(d2.T,A1)                        # delta1.shape = (25x5000).(5000 x 401)\n",
    "    delta2 = np.dot(d3.T,A2)                        # delta2.shape = (10x5000).(5000 x 26)\n",
    "    temp1=W1; #\n",
    "    temp2=W2;\n",
    "    temp1[:,0]=0;\n",
    "    temp2[:,0]=0;\n",
    "    dW1 = (1/m * delta1) + ((Lambda/m) * temp1)\n",
    "    dW2 = (1/m * delta2) + ((Lambda/m) * temp2)\n",
    "    \n",
    "    # -------------------------------------------------------------\n",
    "    # Update parameters\n",
    "    # -------------------------------------------------------------\n",
    "    W1 = W1 - learning_rate * dW1\n",
    "    W2 = W2 - learning_rate * dW2\n",
    "    \n",
    "    \n",
    "    parameters = {\"W1\":W1,\n",
    "                  \"W2\":W2}\n",
    "    \n",
    "    return parameters"
   ]
  },
  {
   "cell_type": "markdown",
   "metadata": {},
   "source": [
    "**2.8 - Neural Network Model**"
   ]
  },
  {
   "cell_type": "markdown",
   "metadata": {},
   "source": [
    "At this stage  of the exercise, we have all functions we need to implement a model. Therefore, in this section, we implement a `nn_model()` function for training our model. The `nn_model()` returns the trained `parameters` by our model."
   ]
  },
  {
   "cell_type": "code",
   "execution_count": 20,
   "metadata": {},
   "outputs": [],
   "source": [
    "def nn_model(X,Y, initial_nn_params, input_layer_size, hidden_layer_size, num_labels, Lambda, learning_rate, print_cost=False):\n",
    "    \n",
    "    parameters = initialize_parameters(initial_nn_params, input_layer_size, hidden_layer_size, num_labels)\n",
    "        \n",
    "    # -------------------------------------------------------------\n",
    "    # Retrieving parameters\n",
    "    # -------------------------------------------------------------\n",
    "    W1 = parameters[\"W1\"]\n",
    "    W2 = parameters[\"W2\"]\n",
    "    \n",
    "    m = X.shape[0]\n",
    "    cost_vec = [] # To store cost values per iterations\n",
    "    \n",
    "    for i in range((m)):\n",
    "        A3, cache = feedForward(X,parameters)\n",
    "        cost = nnCostFunction(A3, Y, parameters, Lambda)\n",
    "        cost_vec.append(cost)\n",
    "        parameters = backward_propagation(parameters, cache, X, Y, Lambda, learning_rate)\n",
    "        if print_cost and i % 1000 ==0:\n",
    "            print(\"Iteration %i: Cost:%f\"%(i,cost))\n",
    "    \n",
    "    return parameters, np.array(cost_vec)"
   ]
  },
  {
   "cell_type": "markdown",
   "metadata": {},
   "source": [
    "Now we can call the `nn_model()` to train it with specified hyperparameter settings."
   ]
  },
  {
   "cell_type": "code",
   "execution_count": 21,
   "metadata": {},
   "outputs": [
    {
     "name": "stdout",
     "output_type": "stream",
     "text": [
      "Iteration 0: Cost:5.743477\n",
      "Iteration 1000: Cost:0.587566\n",
      "Iteration 2000: Cost:0.481769\n",
      "Iteration 3000: Cost:0.435187\n",
      "Iteration 4000: Cost:0.410854\n"
     ]
    }
   ],
   "source": [
    "parameters, cost_vec = nn_model(X_train,y_train,\n",
    "                      initial_nn_params, \n",
    "                      input_layer_size, \n",
    "                      hidden_layer_size, \n",
    "                      num_labels, \n",
    "                      Lambda=1, \n",
    "                      learning_rate=1, print_cost=True)"
   ]
  },
  {
   "cell_type": "markdown",
   "metadata": {},
   "source": [
    "**2.9.1 - NN Learning curve**"
   ]
  },
  {
   "cell_type": "code",
   "execution_count": 22,
   "metadata": {},
   "outputs": [],
   "source": [
    "def nnLearningCurve(cost_vec):\n",
    "    #plt.figure(figsize=(10,8)) #IF YOU WANT TO RESIZE THE FIGURE SIZE REMOVE THE HASHTAG CHARACTER\n",
    "    plt.plot(range(len(cost_vec)),cost_vec,'b-o', label= r'${J{(\\theta)}}$')\n",
    "    plt.grid(True)\n",
    "    plt.title(\"Neural Network cost convergence graph\")\n",
    "    plt.xlabel('# of Iterations')\n",
    "    plt.ylabel(r'${J{(\\theta)}}$', rotation=1)\n",
    "    plt.xlim([-1000,len(cost_vec)])\n",
    "    plt.ylim([0,7])\n",
    "    plt.legend()"
   ]
  },
  {
   "cell_type": "code",
   "execution_count": 23,
   "metadata": {},
   "outputs": [
    {
     "data": {
      "image/png": "[encoded data removed]",
      "text/plain": [
       "<Figure size 432x288 with 1 Axes>"
      ]
     },
     "metadata": {},
     "output_type": "display_data"
    }
   ],
   "source": [
    "nnLearningCurve(cost_vec) # calling the function to plot the learning curve"
   ]
  },
  {
   "cell_type": "markdown",
   "metadata": {},
   "source": [
    "**2.9 - Making NN Prediction**\n",
    "\n",
    "After training the neural network, we would like to use it to the labels. We will now implement the `predict()` function to use the neural network to predict the labels of the training set. This lets us compute the training set accuracy of our classifier by computing the percentage of examples it got correct.."
   ]
  },
  {
   "cell_type": "code",
   "execution_count": 24,
   "metadata": {},
   "outputs": [],
   "source": [
    "def predict(X, parameters):\n",
    "    \n",
    "    A3, cache = feedForward(X,parameters)\n",
    "    prediction = np.argmax(A3, axis=1);\n",
    "    prediction = prediction + 1;\n",
    "    \n",
    "    return prediction"
   ]
  },
  {
   "cell_type": "markdown",
   "metadata": {},
   "source": [
    "Let us now call the `predict()` function to compute the training accuracy.."
   ]
  },
  {
   "cell_type": "code",
   "execution_count": 25,
   "metadata": {},
   "outputs": [
    {
     "name": "stdout",
     "output_type": "stream",
     "text": [
      "\n",
      "Training Accuracy = 98.26%\n",
      "\n"
     ]
    }
   ],
   "source": [
    "prediction = predict(X_train, parameters)\n",
    "correct = [1 if a == b else 0 for (a, b) in zip(prediction, y_train)]\n",
    "accuracy = (sum(map(int, correct)) / float(len(correct)))\n",
    "print('\\nTraining Accuracy = %.2f' % (accuracy * 100)+'%\\n')"
   ]
  },
  {
   "cell_type": "markdown",
   "metadata": {},
   "source": [
    "**3 - Visualizing the hidden layer**\n",
    "\n",
    "One way to understand what your neural network is learning is to visualize what the representations captured by the hidden units. Informally, given a particular hidden unit, one way to visualize what it computes is to find an input x that will cause it to activate (that is, to have an activation value close to 1) "
   ]
  },
  {
   "cell_type": "markdown",
   "metadata": {},
   "source": [
    "For the neural network you trained, notice that the $i^{th}$ row of $\\Theta^{(1)}$ is a 401-dimensional vector that represents the parameter for the $i^{th}$ hidden units. If we discard the bias term, we get a 400 dimensional vector that represents the weights from each input pixel to the hidden unit.\n",
    "\n",
    "Thus, one way to visualize the \\representation\" captured by the hidden unit is to reshape this 400 dimensional vector into a 20 x 20 image and display it"
   ]
  },
  {
   "cell_type": "code",
   "execution_count": 26,
   "metadata": {},
   "outputs": [
    {
     "name": "stdout",
     "output_type": "stream",
     "text": [
      "\n",
      "i. Theta1[with the bias]:\n",
      "       Rows: 25, columns: 401\n",
      "\n",
      "ii. Theta1[without the bias]:\n",
      "       Rows: 25, columns: 400\n"
     ]
    }
   ],
   "source": [
    "# PROCESS TO REMOVE THE BIAS IN ORDER TO VISUALIZE THE HIDDEN LAYER \n",
    "W1 = parameters[\"W1\"] # The updated weight from backpropagation algorithm\n",
    "hidden_W1 = W1[:,1:]  # Creating a temp variable to remove the 0th entry for the bias\n",
    "\n",
    "# RESULTS CHECK\n",
    "print('\\ni. Theta1[with the bias]:\\n       Rows: %d, columns: %d' % (W1.shape[0], W1.shape[1])+'\\n')\n",
    "print('ii. Theta1[without the bias]:\\n       Rows: %d, columns: %d' % (hidden_W1.shape[0], hidden_W1.shape[1]))"
   ]
  },
  {
   "cell_type": "code",
   "execution_count": 27,
   "metadata": {},
   "outputs": [
    {
     "name": "stdout",
     "output_type": "stream",
     "text": [
      "\n",
      "Visualizing hidden layer  ...\n",
      "\n"
     ]
    },
    {
     "data": {
      "image/png": "[encoded data removed]",
      "text/plain": [
       "<Figure size 576x576 with 25 Axes>"
      ]
     },
     "metadata": {},
     "output_type": "display_data"
    }
   ],
   "source": [
    "def visualizeHiddenLayer(x):\n",
    "    fig, ax = plt.subplots(nrows =5, ncols=5,figsize=(8,8),sharex=True, sharey=True)\n",
    "    ax = ax.flatten()\n",
    "    (m,n) = x.shape\n",
    "    print(\"\\nVisualizing hidden layer  ...\\n\")\n",
    "    for i in range(m):\n",
    "        img = x[i,:].reshape(20,20,order=\"F\")\n",
    "        ax[i].imshow(img, cmap='Greys')\n",
    "    ax[0].set_xticks([])\n",
    "    ax[0].set_yticks([])\n",
    "    plt.tight_layout()\n",
    "    plt.show()\n",
    "# Calling visualizeHiddenLayer(x) function\n",
    "visualizeHiddenLayer(hidden_W1)"
   ]
  }
 ],
 "metadata": {
  "kernelspec": {
   "display_name": "Python 3",
   "language": "python",
   "name": "python3"
  },
  "language_info": {
   "codemirror_mode": {
    "name": "ipython",
    "version": 3
   },
   "file_extension": ".py",
   "mimetype": "text/x-python",
   "name": "python",
   "nbconvert_exporter": "python",
   "pygments_lexer": "ipython3",
   "version": "3.7.3"
  }
 },
 "nbformat": 4,
 "nbformat_minor": 2
}
